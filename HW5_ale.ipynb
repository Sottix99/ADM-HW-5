{
  "cells": [
    {
      "cell_type": "markdown",
      "metadata": {
        "id": "view-in-github",
        "colab_type": "text"
      },
      "source": [
        "<a href=\"https://colab.research.google.com/github/Sottix99/ADM-HW5/blob/main/HW5_ale.ipynb\" target=\"_parent\"><img src=\"https://colab.research.google.com/assets/colab-badge.svg\" alt=\"Open In Colab\"/></a>"
      ]
    },
    {
      "cell_type": "markdown",
      "source": [
        "# 1. Data"
      ],
      "metadata": {
        "id": "Iah5LcGWZGYg"
      },
      "id": "Iah5LcGWZGYg"
    },
    {
      "cell_type": "markdown",
      "id": "3a059ac1",
      "metadata": {
        "id": "3a059ac1"
      },
      "source": [
        "## Data Preprocessing"
      ]
    },
    {
      "cell_type": "code",
      "execution_count": 1,
      "id": "9d7f89fa",
      "metadata": {
        "id": "9d7f89fa"
      },
      "outputs": [],
      "source": [
        "import pandas as pd\n",
        "import networkx as nx\n",
        "import string \n",
        "import matplotlib.pyplot as plt\n",
        "import scipy"
      ]
    },
    {
      "cell_type": "code",
      "source": [
        "from google.colab import drive\n",
        "drive.mount('/content/drive')"
      ],
      "metadata": {
        "colab": {
          "base_uri": "https://localhost:8080/"
        },
        "id": "gshsSP4Y5Xd2",
        "outputId": "30a163de-5da1-40b0-d082-bf4222eb3925"
      },
      "id": "gshsSP4Y5Xd2",
      "execution_count": 2,
      "outputs": [
        {
          "output_type": "stream",
          "name": "stdout",
          "text": [
            "Mounted at /content/drive\n"
          ]
        }
      ]
    },
    {
      "cell_type": "code",
      "execution_count": 3,
      "id": "570e34c8",
      "metadata": {
        "id": "570e34c8"
      },
      "outputs": [],
      "source": [
        "edges = pd.read_csv('/content/drive/MyDrive/hw 5 ADM/edges.csv')"
      ]
    },
    {
      "cell_type": "code",
      "execution_count": 4,
      "id": "6457d16b",
      "metadata": {
        "id": "6457d16b"
      },
      "outputs": [],
      "source": [
        "hero_network = pd.read_csv('/content/drive/MyDrive/hw 5 ADM/hero-network.csv')"
      ]
    },
    {
      "cell_type": "code",
      "execution_count": 5,
      "id": "923f80c4",
      "metadata": {
        "id": "923f80c4"
      },
      "outputs": [],
      "source": [
        "nodes = pd.read_csv('/content/drive/MyDrive/hw 5 ADM/nodes.csv')"
      ]
    },
    {
      "cell_type": "markdown",
      "id": "57ac2bc7",
      "metadata": {
        "id": "57ac2bc7"
      },
      "source": [
        "Some of the heroes' names in 'hero-network.csv' are not found in 'edges.csv'. This inconsistency exists for the following reasons:\n",
        "\n",
        "Some heroes' names in 'hero-netowrk.csv' have extra spaces at the end of their names compared to their names in 'edges.csv'.\n",
        "Some heroes' names in 'hero-netowrk.csv' have an extra '/' at the end of their names compared to their names in 'edges.csv'.\n",
        "The hero name 'SPIDER-MAN/PETER PARKER' in 'edges.csv' has been changed to 'SPIDER-MAN/PETER PAR' in 'hero-network.csv' due to a string length limit in 'hero-network.csv'."
      ]
    },
    {
      "cell_type": "code",
      "execution_count": 6,
      "id": "3e488a1f",
      "metadata": {
        "id": "3e488a1f"
      },
      "outputs": [],
      "source": [
        "#Removing extra spaces at the end of the hero name\n",
        "hero_network['hero1'] = hero_network['hero1'].apply(lambda x: x.rstrip())\n",
        "hero_network['hero2'] = hero_network['hero2'].apply(lambda x: x.rstrip())"
      ]
    },
    {
      "cell_type": "code",
      "execution_count": 7,
      "id": "54113bca",
      "metadata": {
        "id": "54113bca"
      },
      "outputs": [],
      "source": [
        "#Replace 'SPIDER-MAN/PETER PAR' with 'SPIDER-MAN/PETER PARKER'\n",
        "hero_network.replace({'SPIDER-MAN/PETER PAR': 'SPIDER-MAN/PETER PARKER'}, inplace = True)"
      ]
    },
    {
      "cell_type": "code",
      "execution_count": 8,
      "id": "80816b72",
      "metadata": {
        "id": "80816b72"
      },
      "outputs": [],
      "source": [
        "#Removing extra '/'\n",
        "hero_network['hero1'] = hero_network['hero1'].apply(lambda x: x.rstrip('/'))\n",
        "hero_network['hero2'] = hero_network['hero2'].apply(lambda x: x.rstrip('/'))\n",
        "edges['hero'] = edges['hero'].apply(lambda x: x.strip('/'))"
      ]
    },
    {
      "cell_type": "code",
      "execution_count": 9,
      "id": "8e5b5242",
      "metadata": {
        "id": "8e5b5242"
      },
      "outputs": [],
      "source": [
        "#After this we need to remove again the empty spaces at the end\n",
        "hero_network['hero1'] = hero_network['hero1'].apply(lambda x: x.rstrip())\n",
        "hero_network['hero2'] = hero_network['hero2'].apply(lambda x: x.rstrip())\n",
        "edges['hero'] = edges['hero'].apply(lambda x: x.rstrip())"
      ]
    },
    {
      "cell_type": "code",
      "execution_count": 10,
      "id": "3d0d7428",
      "metadata": {
        "colab": {
          "base_uri": "https://localhost:8080/"
        },
        "id": "3d0d7428",
        "outputId": "8cfe6791-b7ed-4e3d-f338-d30f17cda5ba"
      },
      "outputs": [
        {
          "output_type": "execute_result",
          "data": {
            "text/plain": [
              "False"
            ]
          },
          "metadata": {},
          "execution_count": 10
        }
      ],
      "source": [
        "set(hero_network['hero1']).union(set(hero_network['hero2'])) == set(edges['hero'])"
      ]
    },
    {
      "cell_type": "code",
      "execution_count": 11,
      "id": "ec44abbc",
      "metadata": {
        "colab": {
          "base_uri": "https://localhost:8080/"
        },
        "id": "ec44abbc",
        "outputId": "8a50ccc1-c5a7-41a3-cc53-ea8fdeecb238"
      },
      "outputs": [
        {
          "output_type": "execute_result",
          "data": {
            "text/plain": [
              "set()"
            ]
          },
          "metadata": {},
          "execution_count": 11
        }
      ],
      "source": [
        "(set(hero_network['hero1']).union(set(hero_network['hero2']))).difference(set(edges['hero']))"
      ]
    },
    {
      "cell_type": "code",
      "execution_count": 12,
      "id": "a13b6150",
      "metadata": {
        "colab": {
          "base_uri": "https://localhost:8080/"
        },
        "id": "a13b6150",
        "outputId": "3d4b8fc5-1cbf-40ad-d913-d80289da5323"
      },
      "outputs": [
        {
          "output_type": "execute_result",
          "data": {
            "text/plain": [
              "18"
            ]
          },
          "metadata": {},
          "execution_count": 12
        }
      ],
      "source": [
        "len(set(edges['hero']).difference(set(hero_network['hero1']).union(set(hero_network['hero2']))))"
      ]
    },
    {
      "cell_type": "markdown",
      "id": "de139bd2",
      "metadata": {
        "id": "de139bd2"
      },
      "source": [
        "### Removing duplicates"
      ]
    },
    {
      "cell_type": "code",
      "execution_count": 13,
      "id": "184108d8",
      "metadata": {
        "id": "184108d8"
      },
      "outputs": [],
      "source": [
        "hero_network.drop((hero_network[hero_network['hero1'] == hero_network['hero2']]).index, inplace = True)"
      ]
    },
    {
      "cell_type": "markdown",
      "source": [
        "### Save datasets"
      ],
      "metadata": {
        "id": "MTJNmVKLOaqx"
      },
      "id": "MTJNmVKLOaqx"
    },
    {
      "cell_type": "code",
      "source": [
        "hero_network.to_csv('/content/drive/MyDrive/hw 5 ADM/hero_net_clean.csv', index=False)"
      ],
      "metadata": {
        "id": "UVmhz-7pOd4R"
      },
      "id": "UVmhz-7pOd4R",
      "execution_count": 14,
      "outputs": []
    },
    {
      "cell_type": "code",
      "source": [
        "edges.to_csv('/content/drive/MyDrive/hw 5 ADM/edges_clean.csv', index=False)"
      ],
      "metadata": {
        "id": "BwQt-fXWPA72"
      },
      "id": "BwQt-fXWPA72",
      "execution_count": 15,
      "outputs": []
    },
    {
      "cell_type": "code",
      "source": [
        "nodes.to_csv('/content/drive/MyDrive/hw 5 ADM/nodes_clean.csv', index=False)"
      ],
      "metadata": {
        "id": "XBrYKWqIPA_U"
      },
      "id": "XBrYKWqIPA_U",
      "execution_count": 16,
      "outputs": []
    },
    {
      "cell_type": "markdown",
      "source": [
        "## Graphs setup"
      ],
      "metadata": {
        "id": "xghWSDKI64PH"
      },
      "id": "xghWSDKI64PH"
    },
    {
      "cell_type": "markdown",
      "source": [
        "#### First"
      ],
      "metadata": {
        "id": "aWmtrEEwIogO"
      },
      "id": "aWmtrEEwIogO"
    },
    {
      "cell_type": "code",
      "execution_count": 17,
      "id": "734e7279",
      "metadata": {
        "colab": {
          "base_uri": "https://localhost:8080/",
          "height": 424
        },
        "id": "734e7279",
        "outputId": "77238a56-4174-4e9a-82c6-02f3a88a0896"
      },
      "outputs": [
        {
          "output_type": "execute_result",
          "data": {
            "text/plain": [
              "                       hero1                 hero2\n",
              "0              LITTLE, ABNER        PRINCESS ZANDA\n",
              "1              LITTLE, ABNER  BLACK PANTHER/T'CHAL\n",
              "2       BLACK PANTHER/T'CHAL        PRINCESS ZANDA\n",
              "3              LITTLE, ABNER        PRINCESS ZANDA\n",
              "4              LITTLE, ABNER  BLACK PANTHER/T'CHAL\n",
              "...                      ...                   ...\n",
              "574462  COLOSSUS II/PETER RA              CALLISTO\n",
              "574463              CALLISTO                 ROGUE\n",
              "574464              CALLISTO               CALIBAN\n",
              "574465               CALIBAN                 ROGUE\n",
              "574466  HULK/DR. ROBERT BRUC     MARKS, DR. SHIELA\n",
              "\n",
              "[572235 rows x 2 columns]"
            ],
            "text/html": [
              "\n",
              "  <div id=\"df-080ba31d-b089-43da-a1ba-8f5c43e64a14\">\n",
              "    <div class=\"colab-df-container\">\n",
              "      <div>\n",
              "<style scoped>\n",
              "    .dataframe tbody tr th:only-of-type {\n",
              "        vertical-align: middle;\n",
              "    }\n",
              "\n",
              "    .dataframe tbody tr th {\n",
              "        vertical-align: top;\n",
              "    }\n",
              "\n",
              "    .dataframe thead th {\n",
              "        text-align: right;\n",
              "    }\n",
              "</style>\n",
              "<table border=\"1\" class=\"dataframe\">\n",
              "  <thead>\n",
              "    <tr style=\"text-align: right;\">\n",
              "      <th></th>\n",
              "      <th>hero1</th>\n",
              "      <th>hero2</th>\n",
              "    </tr>\n",
              "  </thead>\n",
              "  <tbody>\n",
              "    <tr>\n",
              "      <th>0</th>\n",
              "      <td>LITTLE, ABNER</td>\n",
              "      <td>PRINCESS ZANDA</td>\n",
              "    </tr>\n",
              "    <tr>\n",
              "      <th>1</th>\n",
              "      <td>LITTLE, ABNER</td>\n",
              "      <td>BLACK PANTHER/T'CHAL</td>\n",
              "    </tr>\n",
              "    <tr>\n",
              "      <th>2</th>\n",
              "      <td>BLACK PANTHER/T'CHAL</td>\n",
              "      <td>PRINCESS ZANDA</td>\n",
              "    </tr>\n",
              "    <tr>\n",
              "      <th>3</th>\n",
              "      <td>LITTLE, ABNER</td>\n",
              "      <td>PRINCESS ZANDA</td>\n",
              "    </tr>\n",
              "    <tr>\n",
              "      <th>4</th>\n",
              "      <td>LITTLE, ABNER</td>\n",
              "      <td>BLACK PANTHER/T'CHAL</td>\n",
              "    </tr>\n",
              "    <tr>\n",
              "      <th>...</th>\n",
              "      <td>...</td>\n",
              "      <td>...</td>\n",
              "    </tr>\n",
              "    <tr>\n",
              "      <th>574462</th>\n",
              "      <td>COLOSSUS II/PETER RA</td>\n",
              "      <td>CALLISTO</td>\n",
              "    </tr>\n",
              "    <tr>\n",
              "      <th>574463</th>\n",
              "      <td>CALLISTO</td>\n",
              "      <td>ROGUE</td>\n",
              "    </tr>\n",
              "    <tr>\n",
              "      <th>574464</th>\n",
              "      <td>CALLISTO</td>\n",
              "      <td>CALIBAN</td>\n",
              "    </tr>\n",
              "    <tr>\n",
              "      <th>574465</th>\n",
              "      <td>CALIBAN</td>\n",
              "      <td>ROGUE</td>\n",
              "    </tr>\n",
              "    <tr>\n",
              "      <th>574466</th>\n",
              "      <td>HULK/DR. ROBERT BRUC</td>\n",
              "      <td>MARKS, DR. SHIELA</td>\n",
              "    </tr>\n",
              "  </tbody>\n",
              "</table>\n",
              "<p>572235 rows × 2 columns</p>\n",
              "</div>\n",
              "      <button class=\"colab-df-convert\" onclick=\"convertToInteractive('df-080ba31d-b089-43da-a1ba-8f5c43e64a14')\"\n",
              "              title=\"Convert this dataframe to an interactive table.\"\n",
              "              style=\"display:none;\">\n",
              "        \n",
              "  <svg xmlns=\"http://www.w3.org/2000/svg\" height=\"24px\"viewBox=\"0 0 24 24\"\n",
              "       width=\"24px\">\n",
              "    <path d=\"M0 0h24v24H0V0z\" fill=\"none\"/>\n",
              "    <path d=\"M18.56 5.44l.94 2.06.94-2.06 2.06-.94-2.06-.94-.94-2.06-.94 2.06-2.06.94zm-11 1L8.5 8.5l.94-2.06 2.06-.94-2.06-.94L8.5 2.5l-.94 2.06-2.06.94zm10 10l.94 2.06.94-2.06 2.06-.94-2.06-.94-.94-2.06-.94 2.06-2.06.94z\"/><path d=\"M17.41 7.96l-1.37-1.37c-.4-.4-.92-.59-1.43-.59-.52 0-1.04.2-1.43.59L10.3 9.45l-7.72 7.72c-.78.78-.78 2.05 0 2.83L4 21.41c.39.39.9.59 1.41.59.51 0 1.02-.2 1.41-.59l7.78-7.78 2.81-2.81c.8-.78.8-2.07 0-2.86zM5.41 20L4 18.59l7.72-7.72 1.47 1.35L5.41 20z\"/>\n",
              "  </svg>\n",
              "      </button>\n",
              "      \n",
              "  <style>\n",
              "    .colab-df-container {\n",
              "      display:flex;\n",
              "      flex-wrap:wrap;\n",
              "      gap: 12px;\n",
              "    }\n",
              "\n",
              "    .colab-df-convert {\n",
              "      background-color: #E8F0FE;\n",
              "      border: none;\n",
              "      border-radius: 50%;\n",
              "      cursor: pointer;\n",
              "      display: none;\n",
              "      fill: #1967D2;\n",
              "      height: 32px;\n",
              "      padding: 0 0 0 0;\n",
              "      width: 32px;\n",
              "    }\n",
              "\n",
              "    .colab-df-convert:hover {\n",
              "      background-color: #E2EBFA;\n",
              "      box-shadow: 0px 1px 2px rgba(60, 64, 67, 0.3), 0px 1px 3px 1px rgba(60, 64, 67, 0.15);\n",
              "      fill: #174EA6;\n",
              "    }\n",
              "\n",
              "    [theme=dark] .colab-df-convert {\n",
              "      background-color: #3B4455;\n",
              "      fill: #D2E3FC;\n",
              "    }\n",
              "\n",
              "    [theme=dark] .colab-df-convert:hover {\n",
              "      background-color: #434B5C;\n",
              "      box-shadow: 0px 1px 3px 1px rgba(0, 0, 0, 0.15);\n",
              "      filter: drop-shadow(0px 1px 2px rgba(0, 0, 0, 0.3));\n",
              "      fill: #FFFFFF;\n",
              "    }\n",
              "  </style>\n",
              "\n",
              "      <script>\n",
              "        const buttonEl =\n",
              "          document.querySelector('#df-080ba31d-b089-43da-a1ba-8f5c43e64a14 button.colab-df-convert');\n",
              "        buttonEl.style.display =\n",
              "          google.colab.kernel.accessAllowed ? 'block' : 'none';\n",
              "\n",
              "        async function convertToInteractive(key) {\n",
              "          const element = document.querySelector('#df-080ba31d-b089-43da-a1ba-8f5c43e64a14');\n",
              "          const dataTable =\n",
              "            await google.colab.kernel.invokeFunction('convertToInteractive',\n",
              "                                                     [key], {});\n",
              "          if (!dataTable) return;\n",
              "\n",
              "          const docLinkHtml = 'Like what you see? Visit the ' +\n",
              "            '<a target=\"_blank\" href=https://colab.research.google.com/notebooks/data_table.ipynb>data table notebook</a>'\n",
              "            + ' to learn more about interactive tables.';\n",
              "          element.innerHTML = '';\n",
              "          dataTable['output_type'] = 'display_data';\n",
              "          await google.colab.output.renderOutput(dataTable, element);\n",
              "          const docLink = document.createElement('div');\n",
              "          docLink.innerHTML = docLinkHtml;\n",
              "          element.appendChild(docLink);\n",
              "        }\n",
              "      </script>\n",
              "    </div>\n",
              "  </div>\n",
              "  "
            ]
          },
          "metadata": {},
          "execution_count": 17
        }
      ],
      "source": [
        "hero_network"
      ]
    },
    {
      "cell_type": "code",
      "source": [
        "hero_net_g=hero_network.groupby(hero_network.columns.tolist(),as_index=False).size()\n",
        "hero_net_g"
      ],
      "metadata": {
        "colab": {
          "base_uri": "https://localhost:8080/",
          "height": 424
        },
        "id": "sylkHSTS9AHT",
        "outputId": "adb399f9-d673-480b-a9de-d9945cd5eb68"
      },
      "id": "sylkHSTS9AHT",
      "execution_count": 18,
      "outputs": [
        {
          "output_type": "execute_result",
          "data": {
            "text/plain": [
              "                       hero1                 hero2  size\n",
              "0       24-HOUR MAN/EMMANUEL       FROST, CARMILLA     1\n",
              "1       24-HOUR MAN/EMMANUEL  KILLRAVEN/JONATHAN R     1\n",
              "2       24-HOUR MAN/EMMANUEL              M'SHULLA     1\n",
              "3       3-D MAN/CHARLES CHAN  ANGEL/WARREN KENNETH     1\n",
              "4       3-D MAN/CHARLES CHAN  ANT-MAN II/SCOTT HAR     1\n",
              "...                      ...                   ...   ...\n",
              "224094                 ZZZAX      RODRIGUEZ, DEBRA     1\n",
              "224095                 ZZZAX   ROSS, GEN. THADDEUS     2\n",
              "224096                 ZZZAX  SUMMERS, NATHAN CHRI     1\n",
              "224097                 ZZZAX    TIGRA/GREER NELSON     1\n",
              "224098                 ZZZAX  WONDER MAN/SIMON WIL     1\n",
              "\n",
              "[224099 rows x 3 columns]"
            ],
            "text/html": [
              "\n",
              "  <div id=\"df-2b5d4b9c-9311-419c-b5d9-ed7c0fb9889c\">\n",
              "    <div class=\"colab-df-container\">\n",
              "      <div>\n",
              "<style scoped>\n",
              "    .dataframe tbody tr th:only-of-type {\n",
              "        vertical-align: middle;\n",
              "    }\n",
              "\n",
              "    .dataframe tbody tr th {\n",
              "        vertical-align: top;\n",
              "    }\n",
              "\n",
              "    .dataframe thead th {\n",
              "        text-align: right;\n",
              "    }\n",
              "</style>\n",
              "<table border=\"1\" class=\"dataframe\">\n",
              "  <thead>\n",
              "    <tr style=\"text-align: right;\">\n",
              "      <th></th>\n",
              "      <th>hero1</th>\n",
              "      <th>hero2</th>\n",
              "      <th>size</th>\n",
              "    </tr>\n",
              "  </thead>\n",
              "  <tbody>\n",
              "    <tr>\n",
              "      <th>0</th>\n",
              "      <td>24-HOUR MAN/EMMANUEL</td>\n",
              "      <td>FROST, CARMILLA</td>\n",
              "      <td>1</td>\n",
              "    </tr>\n",
              "    <tr>\n",
              "      <th>1</th>\n",
              "      <td>24-HOUR MAN/EMMANUEL</td>\n",
              "      <td>KILLRAVEN/JONATHAN R</td>\n",
              "      <td>1</td>\n",
              "    </tr>\n",
              "    <tr>\n",
              "      <th>2</th>\n",
              "      <td>24-HOUR MAN/EMMANUEL</td>\n",
              "      <td>M'SHULLA</td>\n",
              "      <td>1</td>\n",
              "    </tr>\n",
              "    <tr>\n",
              "      <th>3</th>\n",
              "      <td>3-D MAN/CHARLES CHAN</td>\n",
              "      <td>ANGEL/WARREN KENNETH</td>\n",
              "      <td>1</td>\n",
              "    </tr>\n",
              "    <tr>\n",
              "      <th>4</th>\n",
              "      <td>3-D MAN/CHARLES CHAN</td>\n",
              "      <td>ANT-MAN II/SCOTT HAR</td>\n",
              "      <td>1</td>\n",
              "    </tr>\n",
              "    <tr>\n",
              "      <th>...</th>\n",
              "      <td>...</td>\n",
              "      <td>...</td>\n",
              "      <td>...</td>\n",
              "    </tr>\n",
              "    <tr>\n",
              "      <th>224094</th>\n",
              "      <td>ZZZAX</td>\n",
              "      <td>RODRIGUEZ, DEBRA</td>\n",
              "      <td>1</td>\n",
              "    </tr>\n",
              "    <tr>\n",
              "      <th>224095</th>\n",
              "      <td>ZZZAX</td>\n",
              "      <td>ROSS, GEN. THADDEUS</td>\n",
              "      <td>2</td>\n",
              "    </tr>\n",
              "    <tr>\n",
              "      <th>224096</th>\n",
              "      <td>ZZZAX</td>\n",
              "      <td>SUMMERS, NATHAN CHRI</td>\n",
              "      <td>1</td>\n",
              "    </tr>\n",
              "    <tr>\n",
              "      <th>224097</th>\n",
              "      <td>ZZZAX</td>\n",
              "      <td>TIGRA/GREER NELSON</td>\n",
              "      <td>1</td>\n",
              "    </tr>\n",
              "    <tr>\n",
              "      <th>224098</th>\n",
              "      <td>ZZZAX</td>\n",
              "      <td>WONDER MAN/SIMON WIL</td>\n",
              "      <td>1</td>\n",
              "    </tr>\n",
              "  </tbody>\n",
              "</table>\n",
              "<p>224099 rows × 3 columns</p>\n",
              "</div>\n",
              "      <button class=\"colab-df-convert\" onclick=\"convertToInteractive('df-2b5d4b9c-9311-419c-b5d9-ed7c0fb9889c')\"\n",
              "              title=\"Convert this dataframe to an interactive table.\"\n",
              "              style=\"display:none;\">\n",
              "        \n",
              "  <svg xmlns=\"http://www.w3.org/2000/svg\" height=\"24px\"viewBox=\"0 0 24 24\"\n",
              "       width=\"24px\">\n",
              "    <path d=\"M0 0h24v24H0V0z\" fill=\"none\"/>\n",
              "    <path d=\"M18.56 5.44l.94 2.06.94-2.06 2.06-.94-2.06-.94-.94-2.06-.94 2.06-2.06.94zm-11 1L8.5 8.5l.94-2.06 2.06-.94-2.06-.94L8.5 2.5l-.94 2.06-2.06.94zm10 10l.94 2.06.94-2.06 2.06-.94-2.06-.94-.94-2.06-.94 2.06-2.06.94z\"/><path d=\"M17.41 7.96l-1.37-1.37c-.4-.4-.92-.59-1.43-.59-.52 0-1.04.2-1.43.59L10.3 9.45l-7.72 7.72c-.78.78-.78 2.05 0 2.83L4 21.41c.39.39.9.59 1.41.59.51 0 1.02-.2 1.41-.59l7.78-7.78 2.81-2.81c.8-.78.8-2.07 0-2.86zM5.41 20L4 18.59l7.72-7.72 1.47 1.35L5.41 20z\"/>\n",
              "  </svg>\n",
              "      </button>\n",
              "      \n",
              "  <style>\n",
              "    .colab-df-container {\n",
              "      display:flex;\n",
              "      flex-wrap:wrap;\n",
              "      gap: 12px;\n",
              "    }\n",
              "\n",
              "    .colab-df-convert {\n",
              "      background-color: #E8F0FE;\n",
              "      border: none;\n",
              "      border-radius: 50%;\n",
              "      cursor: pointer;\n",
              "      display: none;\n",
              "      fill: #1967D2;\n",
              "      height: 32px;\n",
              "      padding: 0 0 0 0;\n",
              "      width: 32px;\n",
              "    }\n",
              "\n",
              "    .colab-df-convert:hover {\n",
              "      background-color: #E2EBFA;\n",
              "      box-shadow: 0px 1px 2px rgba(60, 64, 67, 0.3), 0px 1px 3px 1px rgba(60, 64, 67, 0.15);\n",
              "      fill: #174EA6;\n",
              "    }\n",
              "\n",
              "    [theme=dark] .colab-df-convert {\n",
              "      background-color: #3B4455;\n",
              "      fill: #D2E3FC;\n",
              "    }\n",
              "\n",
              "    [theme=dark] .colab-df-convert:hover {\n",
              "      background-color: #434B5C;\n",
              "      box-shadow: 0px 1px 3px 1px rgba(0, 0, 0, 0.15);\n",
              "      filter: drop-shadow(0px 1px 2px rgba(0, 0, 0, 0.3));\n",
              "      fill: #FFFFFF;\n",
              "    }\n",
              "  </style>\n",
              "\n",
              "      <script>\n",
              "        const buttonEl =\n",
              "          document.querySelector('#df-2b5d4b9c-9311-419c-b5d9-ed7c0fb9889c button.colab-df-convert');\n",
              "        buttonEl.style.display =\n",
              "          google.colab.kernel.accessAllowed ? 'block' : 'none';\n",
              "\n",
              "        async function convertToInteractive(key) {\n",
              "          const element = document.querySelector('#df-2b5d4b9c-9311-419c-b5d9-ed7c0fb9889c');\n",
              "          const dataTable =\n",
              "            await google.colab.kernel.invokeFunction('convertToInteractive',\n",
              "                                                     [key], {});\n",
              "          if (!dataTable) return;\n",
              "\n",
              "          const docLinkHtml = 'Like what you see? Visit the ' +\n",
              "            '<a target=\"_blank\" href=https://colab.research.google.com/notebooks/data_table.ipynb>data table notebook</a>'\n",
              "            + ' to learn more about interactive tables.';\n",
              "          element.innerHTML = '';\n",
              "          dataTable['output_type'] = 'display_data';\n",
              "          await google.colab.output.renderOutput(dataTable, element);\n",
              "          const docLink = document.createElement('div');\n",
              "          docLink.innerHTML = docLinkHtml;\n",
              "          element.appendChild(docLink);\n",
              "        }\n",
              "      </script>\n",
              "    </div>\n",
              "  </div>\n",
              "  "
            ]
          },
          "metadata": {},
          "execution_count": 18
        }
      ]
    },
    {
      "cell_type": "markdown",
      "source": [
        "we have the new df "
      ],
      "metadata": {
        "id": "UKlVic-Q_Jds"
      },
      "id": "UKlVic-Q_Jds"
    },
    {
      "cell_type": "code",
      "source": [
        "hero_net_g['size'].describe()"
      ],
      "metadata": {
        "colab": {
          "base_uri": "https://localhost:8080/"
        },
        "id": "CfC4-ztP9noU",
        "outputId": "a0300738-0846-4bc2-f369-e0f734e54478"
      },
      "id": "CfC4-ztP9noU",
      "execution_count": 19,
      "outputs": [
        {
          "output_type": "execute_result",
          "data": {
            "text/plain": [
              "count    224099.000000\n",
              "mean          2.553492\n",
              "std           7.285278\n",
              "min           1.000000\n",
              "25%           1.000000\n",
              "50%           1.000000\n",
              "75%           2.000000\n",
              "max        1267.000000\n",
              "Name: size, dtype: float64"
            ]
          },
          "metadata": {},
          "execution_count": 19
        }
      ]
    },
    {
      "cell_type": "code",
      "source": [
        "hero_net_g['size'].sort_values()[-100:]"
      ],
      "metadata": {
        "colab": {
          "base_uri": "https://localhost:8080/"
        },
        "id": "i0i9yjBx-LBQ",
        "outputId": "e0a37e23-6464-4cea-9b34-d954f6b6e446"
      },
      "id": "i0i9yjBx-LBQ",
      "execution_count": 20,
      "outputs": [
        {
          "output_type": "execute_result",
          "data": {
            "text/plain": [
              "186191     133\n",
              "148855     133\n",
              "218821     134\n",
              "78102      135\n",
              "91072      135\n",
              "          ... \n",
              "196190     365\n",
              "85416      366\n",
              "195966     382\n",
              "124735     627\n",
              "142471    1267\n",
              "Name: size, Length: 100, dtype: int64"
            ]
          },
          "metadata": {},
          "execution_count": 20
        }
      ]
    },
    {
      "cell_type": "code",
      "execution_count": 21,
      "id": "a8b0ff02",
      "metadata": {
        "id": "a8b0ff02"
      },
      "outputs": [],
      "source": [
        "G_1 = nx.from_pandas_edgelist(hero_net_g, 'hero1', 'hero2' , edge_attr='size') # dobbiamo scegliere la metrica giusta"
      ]
    },
    {
      "cell_type": "code",
      "source": [
        "#nx.draw(G_1) # mi da errore, forse sono troppi nodi?\n",
        "#plt.show()"
      ],
      "metadata": {
        "id": "QARy74uBDUez"
      },
      "id": "QARy74uBDUez",
      "execution_count": 22,
      "outputs": []
    },
    {
      "cell_type": "markdown",
      "source": [
        "#### Second"
      ],
      "metadata": {
        "id": "3vFz5AMpIsTd"
      },
      "id": "3vFz5AMpIsTd"
    },
    {
      "cell_type": "code",
      "source": [
        "nodes"
      ],
      "metadata": {
        "colab": {
          "base_uri": "https://localhost:8080/",
          "height": 424
        },
        "id": "8qHWLz0kIryg",
        "outputId": "086c48bc-4616-47b6-9b88-24b828904f6a"
      },
      "id": "8qHWLz0kIryg",
      "execution_count": 23,
      "outputs": [
        {
          "output_type": "execute_result",
          "data": {
            "text/plain": [
              "                       node   type\n",
              "0                   2001 10  comic\n",
              "1                    2001 8  comic\n",
              "2                    2001 9  comic\n",
              "3      24-HOUR MAN/EMMANUEL   hero\n",
              "4      3-D MAN/CHARLES CHAN   hero\n",
              "...                     ...    ...\n",
              "19085           ZOTA, CARLO   hero\n",
              "19086                  ZOTA   hero\n",
              "19087                 ZURAS   hero\n",
              "19088                  ZURI   hero\n",
              "19089                 ZZZAX   hero\n",
              "\n",
              "[19090 rows x 2 columns]"
            ],
            "text/html": [
              "\n",
              "  <div id=\"df-e5e4bcbe-f6c6-41c9-b3ec-5f5e6b8963b2\">\n",
              "    <div class=\"colab-df-container\">\n",
              "      <div>\n",
              "<style scoped>\n",
              "    .dataframe tbody tr th:only-of-type {\n",
              "        vertical-align: middle;\n",
              "    }\n",
              "\n",
              "    .dataframe tbody tr th {\n",
              "        vertical-align: top;\n",
              "    }\n",
              "\n",
              "    .dataframe thead th {\n",
              "        text-align: right;\n",
              "    }\n",
              "</style>\n",
              "<table border=\"1\" class=\"dataframe\">\n",
              "  <thead>\n",
              "    <tr style=\"text-align: right;\">\n",
              "      <th></th>\n",
              "      <th>node</th>\n",
              "      <th>type</th>\n",
              "    </tr>\n",
              "  </thead>\n",
              "  <tbody>\n",
              "    <tr>\n",
              "      <th>0</th>\n",
              "      <td>2001 10</td>\n",
              "      <td>comic</td>\n",
              "    </tr>\n",
              "    <tr>\n",
              "      <th>1</th>\n",
              "      <td>2001 8</td>\n",
              "      <td>comic</td>\n",
              "    </tr>\n",
              "    <tr>\n",
              "      <th>2</th>\n",
              "      <td>2001 9</td>\n",
              "      <td>comic</td>\n",
              "    </tr>\n",
              "    <tr>\n",
              "      <th>3</th>\n",
              "      <td>24-HOUR MAN/EMMANUEL</td>\n",
              "      <td>hero</td>\n",
              "    </tr>\n",
              "    <tr>\n",
              "      <th>4</th>\n",
              "      <td>3-D MAN/CHARLES CHAN</td>\n",
              "      <td>hero</td>\n",
              "    </tr>\n",
              "    <tr>\n",
              "      <th>...</th>\n",
              "      <td>...</td>\n",
              "      <td>...</td>\n",
              "    </tr>\n",
              "    <tr>\n",
              "      <th>19085</th>\n",
              "      <td>ZOTA, CARLO</td>\n",
              "      <td>hero</td>\n",
              "    </tr>\n",
              "    <tr>\n",
              "      <th>19086</th>\n",
              "      <td>ZOTA</td>\n",
              "      <td>hero</td>\n",
              "    </tr>\n",
              "    <tr>\n",
              "      <th>19087</th>\n",
              "      <td>ZURAS</td>\n",
              "      <td>hero</td>\n",
              "    </tr>\n",
              "    <tr>\n",
              "      <th>19088</th>\n",
              "      <td>ZURI</td>\n",
              "      <td>hero</td>\n",
              "    </tr>\n",
              "    <tr>\n",
              "      <th>19089</th>\n",
              "      <td>ZZZAX</td>\n",
              "      <td>hero</td>\n",
              "    </tr>\n",
              "  </tbody>\n",
              "</table>\n",
              "<p>19090 rows × 2 columns</p>\n",
              "</div>\n",
              "      <button class=\"colab-df-convert\" onclick=\"convertToInteractive('df-e5e4bcbe-f6c6-41c9-b3ec-5f5e6b8963b2')\"\n",
              "              title=\"Convert this dataframe to an interactive table.\"\n",
              "              style=\"display:none;\">\n",
              "        \n",
              "  <svg xmlns=\"http://www.w3.org/2000/svg\" height=\"24px\"viewBox=\"0 0 24 24\"\n",
              "       width=\"24px\">\n",
              "    <path d=\"M0 0h24v24H0V0z\" fill=\"none\"/>\n",
              "    <path d=\"M18.56 5.44l.94 2.06.94-2.06 2.06-.94-2.06-.94-.94-2.06-.94 2.06-2.06.94zm-11 1L8.5 8.5l.94-2.06 2.06-.94-2.06-.94L8.5 2.5l-.94 2.06-2.06.94zm10 10l.94 2.06.94-2.06 2.06-.94-2.06-.94-.94-2.06-.94 2.06-2.06.94z\"/><path d=\"M17.41 7.96l-1.37-1.37c-.4-.4-.92-.59-1.43-.59-.52 0-1.04.2-1.43.59L10.3 9.45l-7.72 7.72c-.78.78-.78 2.05 0 2.83L4 21.41c.39.39.9.59 1.41.59.51 0 1.02-.2 1.41-.59l7.78-7.78 2.81-2.81c.8-.78.8-2.07 0-2.86zM5.41 20L4 18.59l7.72-7.72 1.47 1.35L5.41 20z\"/>\n",
              "  </svg>\n",
              "      </button>\n",
              "      \n",
              "  <style>\n",
              "    .colab-df-container {\n",
              "      display:flex;\n",
              "      flex-wrap:wrap;\n",
              "      gap: 12px;\n",
              "    }\n",
              "\n",
              "    .colab-df-convert {\n",
              "      background-color: #E8F0FE;\n",
              "      border: none;\n",
              "      border-radius: 50%;\n",
              "      cursor: pointer;\n",
              "      display: none;\n",
              "      fill: #1967D2;\n",
              "      height: 32px;\n",
              "      padding: 0 0 0 0;\n",
              "      width: 32px;\n",
              "    }\n",
              "\n",
              "    .colab-df-convert:hover {\n",
              "      background-color: #E2EBFA;\n",
              "      box-shadow: 0px 1px 2px rgba(60, 64, 67, 0.3), 0px 1px 3px 1px rgba(60, 64, 67, 0.15);\n",
              "      fill: #174EA6;\n",
              "    }\n",
              "\n",
              "    [theme=dark] .colab-df-convert {\n",
              "      background-color: #3B4455;\n",
              "      fill: #D2E3FC;\n",
              "    }\n",
              "\n",
              "    [theme=dark] .colab-df-convert:hover {\n",
              "      background-color: #434B5C;\n",
              "      box-shadow: 0px 1px 3px 1px rgba(0, 0, 0, 0.15);\n",
              "      filter: drop-shadow(0px 1px 2px rgba(0, 0, 0, 0.3));\n",
              "      fill: #FFFFFF;\n",
              "    }\n",
              "  </style>\n",
              "\n",
              "      <script>\n",
              "        const buttonEl =\n",
              "          document.querySelector('#df-e5e4bcbe-f6c6-41c9-b3ec-5f5e6b8963b2 button.colab-df-convert');\n",
              "        buttonEl.style.display =\n",
              "          google.colab.kernel.accessAllowed ? 'block' : 'none';\n",
              "\n",
              "        async function convertToInteractive(key) {\n",
              "          const element = document.querySelector('#df-e5e4bcbe-f6c6-41c9-b3ec-5f5e6b8963b2');\n",
              "          const dataTable =\n",
              "            await google.colab.kernel.invokeFunction('convertToInteractive',\n",
              "                                                     [key], {});\n",
              "          if (!dataTable) return;\n",
              "\n",
              "          const docLinkHtml = 'Like what you see? Visit the ' +\n",
              "            '<a target=\"_blank\" href=https://colab.research.google.com/notebooks/data_table.ipynb>data table notebook</a>'\n",
              "            + ' to learn more about interactive tables.';\n",
              "          element.innerHTML = '';\n",
              "          dataTable['output_type'] = 'display_data';\n",
              "          await google.colab.output.renderOutput(dataTable, element);\n",
              "          const docLink = document.createElement('div');\n",
              "          docLink.innerHTML = docLinkHtml;\n",
              "          element.appendChild(docLink);\n",
              "        }\n",
              "      </script>\n",
              "    </div>\n",
              "  </div>\n",
              "  "
            ]
          },
          "metadata": {},
          "execution_count": 23
        }
      ]
    },
    {
      "cell_type": "code",
      "source": [
        "edges"
      ],
      "metadata": {
        "colab": {
          "base_uri": "https://localhost:8080/",
          "height": 424
        },
        "id": "yzAMR0-sI6in",
        "outputId": "a6530c70-69c4-4747-bc96-66103018c38b"
      },
      "id": "yzAMR0-sI6in",
      "execution_count": 24,
      "outputs": [
        {
          "output_type": "execute_result",
          "data": {
            "text/plain": [
              "                       hero     comic\n",
              "0      24-HOUR MAN/EMMANUEL    AA2 35\n",
              "1      3-D MAN/CHARLES CHAN     AVF 4\n",
              "2      3-D MAN/CHARLES CHAN     AVF 5\n",
              "3      3-D MAN/CHARLES CHAN     COC 1\n",
              "4      3-D MAN/CHARLES CHAN    H2 251\n",
              "...                     ...       ...\n",
              "96099                 ZZZAX    H2 326\n",
              "96100                 ZZZAX    H2 327\n",
              "96101                 ZZZAX  M/CP 8/4\n",
              "96102                 ZZZAX     PM 47\n",
              "96103                 ZZZAX   WCA2 12\n",
              "\n",
              "[96104 rows x 2 columns]"
            ],
            "text/html": [
              "\n",
              "  <div id=\"df-f4af8f4c-4349-4b7f-a6e0-c67c2b759a05\">\n",
              "    <div class=\"colab-df-container\">\n",
              "      <div>\n",
              "<style scoped>\n",
              "    .dataframe tbody tr th:only-of-type {\n",
              "        vertical-align: middle;\n",
              "    }\n",
              "\n",
              "    .dataframe tbody tr th {\n",
              "        vertical-align: top;\n",
              "    }\n",
              "\n",
              "    .dataframe thead th {\n",
              "        text-align: right;\n",
              "    }\n",
              "</style>\n",
              "<table border=\"1\" class=\"dataframe\">\n",
              "  <thead>\n",
              "    <tr style=\"text-align: right;\">\n",
              "      <th></th>\n",
              "      <th>hero</th>\n",
              "      <th>comic</th>\n",
              "    </tr>\n",
              "  </thead>\n",
              "  <tbody>\n",
              "    <tr>\n",
              "      <th>0</th>\n",
              "      <td>24-HOUR MAN/EMMANUEL</td>\n",
              "      <td>AA2 35</td>\n",
              "    </tr>\n",
              "    <tr>\n",
              "      <th>1</th>\n",
              "      <td>3-D MAN/CHARLES CHAN</td>\n",
              "      <td>AVF 4</td>\n",
              "    </tr>\n",
              "    <tr>\n",
              "      <th>2</th>\n",
              "      <td>3-D MAN/CHARLES CHAN</td>\n",
              "      <td>AVF 5</td>\n",
              "    </tr>\n",
              "    <tr>\n",
              "      <th>3</th>\n",
              "      <td>3-D MAN/CHARLES CHAN</td>\n",
              "      <td>COC 1</td>\n",
              "    </tr>\n",
              "    <tr>\n",
              "      <th>4</th>\n",
              "      <td>3-D MAN/CHARLES CHAN</td>\n",
              "      <td>H2 251</td>\n",
              "    </tr>\n",
              "    <tr>\n",
              "      <th>...</th>\n",
              "      <td>...</td>\n",
              "      <td>...</td>\n",
              "    </tr>\n",
              "    <tr>\n",
              "      <th>96099</th>\n",
              "      <td>ZZZAX</td>\n",
              "      <td>H2 326</td>\n",
              "    </tr>\n",
              "    <tr>\n",
              "      <th>96100</th>\n",
              "      <td>ZZZAX</td>\n",
              "      <td>H2 327</td>\n",
              "    </tr>\n",
              "    <tr>\n",
              "      <th>96101</th>\n",
              "      <td>ZZZAX</td>\n",
              "      <td>M/CP 8/4</td>\n",
              "    </tr>\n",
              "    <tr>\n",
              "      <th>96102</th>\n",
              "      <td>ZZZAX</td>\n",
              "      <td>PM 47</td>\n",
              "    </tr>\n",
              "    <tr>\n",
              "      <th>96103</th>\n",
              "      <td>ZZZAX</td>\n",
              "      <td>WCA2 12</td>\n",
              "    </tr>\n",
              "  </tbody>\n",
              "</table>\n",
              "<p>96104 rows × 2 columns</p>\n",
              "</div>\n",
              "      <button class=\"colab-df-convert\" onclick=\"convertToInteractive('df-f4af8f4c-4349-4b7f-a6e0-c67c2b759a05')\"\n",
              "              title=\"Convert this dataframe to an interactive table.\"\n",
              "              style=\"display:none;\">\n",
              "        \n",
              "  <svg xmlns=\"http://www.w3.org/2000/svg\" height=\"24px\"viewBox=\"0 0 24 24\"\n",
              "       width=\"24px\">\n",
              "    <path d=\"M0 0h24v24H0V0z\" fill=\"none\"/>\n",
              "    <path d=\"M18.56 5.44l.94 2.06.94-2.06 2.06-.94-2.06-.94-.94-2.06-.94 2.06-2.06.94zm-11 1L8.5 8.5l.94-2.06 2.06-.94-2.06-.94L8.5 2.5l-.94 2.06-2.06.94zm10 10l.94 2.06.94-2.06 2.06-.94-2.06-.94-.94-2.06-.94 2.06-2.06.94z\"/><path d=\"M17.41 7.96l-1.37-1.37c-.4-.4-.92-.59-1.43-.59-.52 0-1.04.2-1.43.59L10.3 9.45l-7.72 7.72c-.78.78-.78 2.05 0 2.83L4 21.41c.39.39.9.59 1.41.59.51 0 1.02-.2 1.41-.59l7.78-7.78 2.81-2.81c.8-.78.8-2.07 0-2.86zM5.41 20L4 18.59l7.72-7.72 1.47 1.35L5.41 20z\"/>\n",
              "  </svg>\n",
              "      </button>\n",
              "      \n",
              "  <style>\n",
              "    .colab-df-container {\n",
              "      display:flex;\n",
              "      flex-wrap:wrap;\n",
              "      gap: 12px;\n",
              "    }\n",
              "\n",
              "    .colab-df-convert {\n",
              "      background-color: #E8F0FE;\n",
              "      border: none;\n",
              "      border-radius: 50%;\n",
              "      cursor: pointer;\n",
              "      display: none;\n",
              "      fill: #1967D2;\n",
              "      height: 32px;\n",
              "      padding: 0 0 0 0;\n",
              "      width: 32px;\n",
              "    }\n",
              "\n",
              "    .colab-df-convert:hover {\n",
              "      background-color: #E2EBFA;\n",
              "      box-shadow: 0px 1px 2px rgba(60, 64, 67, 0.3), 0px 1px 3px 1px rgba(60, 64, 67, 0.15);\n",
              "      fill: #174EA6;\n",
              "    }\n",
              "\n",
              "    [theme=dark] .colab-df-convert {\n",
              "      background-color: #3B4455;\n",
              "      fill: #D2E3FC;\n",
              "    }\n",
              "\n",
              "    [theme=dark] .colab-df-convert:hover {\n",
              "      background-color: #434B5C;\n",
              "      box-shadow: 0px 1px 3px 1px rgba(0, 0, 0, 0.15);\n",
              "      filter: drop-shadow(0px 1px 2px rgba(0, 0, 0, 0.3));\n",
              "      fill: #FFFFFF;\n",
              "    }\n",
              "  </style>\n",
              "\n",
              "      <script>\n",
              "        const buttonEl =\n",
              "          document.querySelector('#df-f4af8f4c-4349-4b7f-a6e0-c67c2b759a05 button.colab-df-convert');\n",
              "        buttonEl.style.display =\n",
              "          google.colab.kernel.accessAllowed ? 'block' : 'none';\n",
              "\n",
              "        async function convertToInteractive(key) {\n",
              "          const element = document.querySelector('#df-f4af8f4c-4349-4b7f-a6e0-c67c2b759a05');\n",
              "          const dataTable =\n",
              "            await google.colab.kernel.invokeFunction('convertToInteractive',\n",
              "                                                     [key], {});\n",
              "          if (!dataTable) return;\n",
              "\n",
              "          const docLinkHtml = 'Like what you see? Visit the ' +\n",
              "            '<a target=\"_blank\" href=https://colab.research.google.com/notebooks/data_table.ipynb>data table notebook</a>'\n",
              "            + ' to learn more about interactive tables.';\n",
              "          element.innerHTML = '';\n",
              "          dataTable['output_type'] = 'display_data';\n",
              "          await google.colab.output.renderOutput(dataTable, element);\n",
              "          const docLink = document.createElement('div');\n",
              "          docLink.innerHTML = docLinkHtml;\n",
              "          element.appendChild(docLink);\n",
              "        }\n",
              "      </script>\n",
              "    </div>\n",
              "  </div>\n",
              "  "
            ]
          },
          "metadata": {},
          "execution_count": 24
        }
      ]
    },
    {
      "cell_type": "markdown",
      "source": [
        "First, we create the normal graph from edges.csv"
      ],
      "metadata": {
        "id": "Jmztu1ZRXX_8"
      },
      "id": "Jmztu1ZRXX_8"
    },
    {
      "cell_type": "code",
      "source": [
        "G_2 = nx.from_pandas_edgelist(edges, 'hero', 'comic')"
      ],
      "metadata": {
        "id": "0hyeZhevJ-M7"
      },
      "id": "0hyeZhevJ-M7",
      "execution_count": 25,
      "outputs": []
    },
    {
      "cell_type": "markdown",
      "source": [
        "Then we create two different list that contains only the name of heroes or comics"
      ],
      "metadata": {
        "id": "MMp2u0viXerK"
      },
      "id": "MMp2u0viXerK"
    },
    {
      "cell_type": "code",
      "source": [
        "n_h=nodes[nodes['type'] == 'hero']['node'].tolist()"
      ],
      "metadata": {
        "id": "V5CaHNyfVl2U"
      },
      "id": "V5CaHNyfVl2U",
      "execution_count": 26,
      "outputs": []
    },
    {
      "cell_type": "code",
      "source": [
        "n_c=nodes[nodes['type'] == 'comic']['node'].tolist()"
      ],
      "metadata": {
        "id": "12MvafjMWUlR"
      },
      "id": "12MvafjMWUlR",
      "execution_count": 27,
      "outputs": []
    },
    {
      "cell_type": "markdown",
      "source": [
        "Now we merge the two lists in a dictionary "
      ],
      "metadata": {
        "id": "zf1QuSc9Xpwx"
      },
      "id": "zf1QuSc9Xpwx"
    },
    {
      "cell_type": "code",
      "source": [
        "dict_heroes_comics = {key: 'hero' if key in n_h else 'comic' for key in n_c + n_h}"
      ],
      "metadata": {
        "id": "smcHUQTzWJtk"
      },
      "id": "smcHUQTzWJtk",
      "execution_count": 28,
      "outputs": []
    },
    {
      "cell_type": "markdown",
      "source": [
        "Finally we add at each node of the graph its type"
      ],
      "metadata": {
        "id": "ARYlmVHiXwvH"
      },
      "id": "ARYlmVHiXwvH"
    },
    {
      "cell_type": "code",
      "source": [
        "nx.set_node_attributes(G_2, dict_heroes_comics, 'type')"
      ],
      "metadata": {
        "id": "Mmb1fKJnTTHB"
      },
      "id": "Mmb1fKJnTTHB",
      "execution_count": 29,
      "outputs": []
    },
    {
      "cell_type": "code",
      "source": [
        "#nx.draw(G_2) # mi da errore, forse sono troppi nodi?\n",
        "#plt.show()"
      ],
      "metadata": {
        "id": "dlBR-8yeYyma"
      },
      "id": "dlBR-8yeYyma",
      "execution_count": 30,
      "outputs": []
    },
    {
      "cell_type": "markdown",
      "source": [
        "# 2. Backend Implementation"
      ],
      "metadata": {
        "id": "oR8k8QTjZLzb"
      },
      "id": "oR8k8QTjZLzb"
    },
    {
      "cell_type": "code",
      "source": [
        "def get_topN(N):\n",
        "  series=edges['hero'].value_counts()[0:N]\n",
        "  series_list=series.index.tolist()\n",
        "  return series_list"
      ],
      "metadata": {
        "id": "5fIQlNbk03Fj"
      },
      "id": "5fIQlNbk03Fj",
      "execution_count": 50,
      "outputs": []
    },
    {
      "cell_type": "code",
      "source": [
        "all_heroes=len(edges['hero'].value_counts())\n",
        "all_heroes"
      ],
      "metadata": {
        "id": "iOdrGSwW27q3"
      },
      "id": "iOdrGSwW27q3",
      "execution_count": 56,
      "outputs": []
    },
    {
      "cell_type": "code",
      "source": [
        "get_topN(10)"
      ],
      "metadata": {
        "colab": {
          "base_uri": "https://localhost:8080/"
        },
        "id": "G-BG0U6T2mPD",
        "outputId": "4fd4d512-9f4f-4479-ce05-dc66634225d0"
      },
      "id": "G-BG0U6T2mPD",
      "execution_count": 53,
      "outputs": [
        {
          "output_type": "execute_result",
          "data": {
            "text/plain": [
              "['SPIDER-MAN/PETER PARKER',\n",
              " 'CAPTAIN AMERICA',\n",
              " 'IRON MAN/TONY STARK',\n",
              " 'THING/BENJAMIN J. GR',\n",
              " 'THOR/DR. DONALD BLAK',\n",
              " 'HUMAN TORCH/JOHNNY S',\n",
              " 'MR. FANTASTIC/REED R',\n",
              " 'HULK/DR. ROBERT BRUC',\n",
              " 'WOLVERINE/LOGAN',\n",
              " 'INVISIBLE WOMAN/SUE']"
            ]
          },
          "metadata": {},
          "execution_count": 53
        }
      ]
    },
    {
      "cell_type": "code",
      "source": [
        "edges"
      ],
      "metadata": {
        "colab": {
          "base_uri": "https://localhost:8080/",
          "height": 424
        },
        "id": "AhHhqFQA0bM-",
        "outputId": "f9c742eb-f899-4f19-b2de-a68a831f8539"
      },
      "id": "AhHhqFQA0bM-",
      "execution_count": 33,
      "outputs": [
        {
          "output_type": "execute_result",
          "data": {
            "text/plain": [
              "                       hero     comic\n",
              "0      24-HOUR MAN/EMMANUEL    AA2 35\n",
              "1      3-D MAN/CHARLES CHAN     AVF 4\n",
              "2      3-D MAN/CHARLES CHAN     AVF 5\n",
              "3      3-D MAN/CHARLES CHAN     COC 1\n",
              "4      3-D MAN/CHARLES CHAN    H2 251\n",
              "...                     ...       ...\n",
              "96099                 ZZZAX    H2 326\n",
              "96100                 ZZZAX    H2 327\n",
              "96101                 ZZZAX  M/CP 8/4\n",
              "96102                 ZZZAX     PM 47\n",
              "96103                 ZZZAX   WCA2 12\n",
              "\n",
              "[96104 rows x 2 columns]"
            ],
            "text/html": [
              "\n",
              "  <div id=\"df-3cb74e0c-00a2-4ee9-8a1d-fb9cbd1c0e9e\">\n",
              "    <div class=\"colab-df-container\">\n",
              "      <div>\n",
              "<style scoped>\n",
              "    .dataframe tbody tr th:only-of-type {\n",
              "        vertical-align: middle;\n",
              "    }\n",
              "\n",
              "    .dataframe tbody tr th {\n",
              "        vertical-align: top;\n",
              "    }\n",
              "\n",
              "    .dataframe thead th {\n",
              "        text-align: right;\n",
              "    }\n",
              "</style>\n",
              "<table border=\"1\" class=\"dataframe\">\n",
              "  <thead>\n",
              "    <tr style=\"text-align: right;\">\n",
              "      <th></th>\n",
              "      <th>hero</th>\n",
              "      <th>comic</th>\n",
              "    </tr>\n",
              "  </thead>\n",
              "  <tbody>\n",
              "    <tr>\n",
              "      <th>0</th>\n",
              "      <td>24-HOUR MAN/EMMANUEL</td>\n",
              "      <td>AA2 35</td>\n",
              "    </tr>\n",
              "    <tr>\n",
              "      <th>1</th>\n",
              "      <td>3-D MAN/CHARLES CHAN</td>\n",
              "      <td>AVF 4</td>\n",
              "    </tr>\n",
              "    <tr>\n",
              "      <th>2</th>\n",
              "      <td>3-D MAN/CHARLES CHAN</td>\n",
              "      <td>AVF 5</td>\n",
              "    </tr>\n",
              "    <tr>\n",
              "      <th>3</th>\n",
              "      <td>3-D MAN/CHARLES CHAN</td>\n",
              "      <td>COC 1</td>\n",
              "    </tr>\n",
              "    <tr>\n",
              "      <th>4</th>\n",
              "      <td>3-D MAN/CHARLES CHAN</td>\n",
              "      <td>H2 251</td>\n",
              "    </tr>\n",
              "    <tr>\n",
              "      <th>...</th>\n",
              "      <td>...</td>\n",
              "      <td>...</td>\n",
              "    </tr>\n",
              "    <tr>\n",
              "      <th>96099</th>\n",
              "      <td>ZZZAX</td>\n",
              "      <td>H2 326</td>\n",
              "    </tr>\n",
              "    <tr>\n",
              "      <th>96100</th>\n",
              "      <td>ZZZAX</td>\n",
              "      <td>H2 327</td>\n",
              "    </tr>\n",
              "    <tr>\n",
              "      <th>96101</th>\n",
              "      <td>ZZZAX</td>\n",
              "      <td>M/CP 8/4</td>\n",
              "    </tr>\n",
              "    <tr>\n",
              "      <th>96102</th>\n",
              "      <td>ZZZAX</td>\n",
              "      <td>PM 47</td>\n",
              "    </tr>\n",
              "    <tr>\n",
              "      <th>96103</th>\n",
              "      <td>ZZZAX</td>\n",
              "      <td>WCA2 12</td>\n",
              "    </tr>\n",
              "  </tbody>\n",
              "</table>\n",
              "<p>96104 rows × 2 columns</p>\n",
              "</div>\n",
              "      <button class=\"colab-df-convert\" onclick=\"convertToInteractive('df-3cb74e0c-00a2-4ee9-8a1d-fb9cbd1c0e9e')\"\n",
              "              title=\"Convert this dataframe to an interactive table.\"\n",
              "              style=\"display:none;\">\n",
              "        \n",
              "  <svg xmlns=\"http://www.w3.org/2000/svg\" height=\"24px\"viewBox=\"0 0 24 24\"\n",
              "       width=\"24px\">\n",
              "    <path d=\"M0 0h24v24H0V0z\" fill=\"none\"/>\n",
              "    <path d=\"M18.56 5.44l.94 2.06.94-2.06 2.06-.94-2.06-.94-.94-2.06-.94 2.06-2.06.94zm-11 1L8.5 8.5l.94-2.06 2.06-.94-2.06-.94L8.5 2.5l-.94 2.06-2.06.94zm10 10l.94 2.06.94-2.06 2.06-.94-2.06-.94-.94-2.06-.94 2.06-2.06.94z\"/><path d=\"M17.41 7.96l-1.37-1.37c-.4-.4-.92-.59-1.43-.59-.52 0-1.04.2-1.43.59L10.3 9.45l-7.72 7.72c-.78.78-.78 2.05 0 2.83L4 21.41c.39.39.9.59 1.41.59.51 0 1.02-.2 1.41-.59l7.78-7.78 2.81-2.81c.8-.78.8-2.07 0-2.86zM5.41 20L4 18.59l7.72-7.72 1.47 1.35L5.41 20z\"/>\n",
              "  </svg>\n",
              "      </button>\n",
              "      \n",
              "  <style>\n",
              "    .colab-df-container {\n",
              "      display:flex;\n",
              "      flex-wrap:wrap;\n",
              "      gap: 12px;\n",
              "    }\n",
              "\n",
              "    .colab-df-convert {\n",
              "      background-color: #E8F0FE;\n",
              "      border: none;\n",
              "      border-radius: 50%;\n",
              "      cursor: pointer;\n",
              "      display: none;\n",
              "      fill: #1967D2;\n",
              "      height: 32px;\n",
              "      padding: 0 0 0 0;\n",
              "      width: 32px;\n",
              "    }\n",
              "\n",
              "    .colab-df-convert:hover {\n",
              "      background-color: #E2EBFA;\n",
              "      box-shadow: 0px 1px 2px rgba(60, 64, 67, 0.3), 0px 1px 3px 1px rgba(60, 64, 67, 0.15);\n",
              "      fill: #174EA6;\n",
              "    }\n",
              "\n",
              "    [theme=dark] .colab-df-convert {\n",
              "      background-color: #3B4455;\n",
              "      fill: #D2E3FC;\n",
              "    }\n",
              "\n",
              "    [theme=dark] .colab-df-convert:hover {\n",
              "      background-color: #434B5C;\n",
              "      box-shadow: 0px 1px 3px 1px rgba(0, 0, 0, 0.15);\n",
              "      filter: drop-shadow(0px 1px 2px rgba(0, 0, 0, 0.3));\n",
              "      fill: #FFFFFF;\n",
              "    }\n",
              "  </style>\n",
              "\n",
              "      <script>\n",
              "        const buttonEl =\n",
              "          document.querySelector('#df-3cb74e0c-00a2-4ee9-8a1d-fb9cbd1c0e9e button.colab-df-convert');\n",
              "        buttonEl.style.display =\n",
              "          google.colab.kernel.accessAllowed ? 'block' : 'none';\n",
              "\n",
              "        async function convertToInteractive(key) {\n",
              "          const element = document.querySelector('#df-3cb74e0c-00a2-4ee9-8a1d-fb9cbd1c0e9e');\n",
              "          const dataTable =\n",
              "            await google.colab.kernel.invokeFunction('convertToInteractive',\n",
              "                                                     [key], {});\n",
              "          if (!dataTable) return;\n",
              "\n",
              "          const docLinkHtml = 'Like what you see? Visit the ' +\n",
              "            '<a target=\"_blank\" href=https://colab.research.google.com/notebooks/data_table.ipynb>data table notebook</a>'\n",
              "            + ' to learn more about interactive tables.';\n",
              "          element.innerHTML = '';\n",
              "          dataTable['output_type'] = 'display_data';\n",
              "          await google.colab.output.renderOutput(dataTable, element);\n",
              "          const docLink = document.createElement('div');\n",
              "          docLink.innerHTML = docLinkHtml;\n",
              "          element.appendChild(docLink);\n",
              "        }\n",
              "      </script>\n",
              "    </div>\n",
              "  </div>\n",
              "  "
            ]
          },
          "metadata": {},
          "execution_count": 33
        }
      ]
    },
    {
      "cell_type": "code",
      "source": [
        "edges['hero'].value_counts()[0:10].index.tolist()"
      ],
      "metadata": {
        "colab": {
          "base_uri": "https://localhost:8080/"
        },
        "id": "nyy7tUaA0cD3",
        "outputId": "0a7d7997-2331-4701-cbd7-d4698681049f"
      },
      "id": "nyy7tUaA0cD3",
      "execution_count": 47,
      "outputs": [
        {
          "output_type": "execute_result",
          "data": {
            "text/plain": [
              "['SPIDER-MAN/PETER PARKER',\n",
              " 'CAPTAIN AMERICA',\n",
              " 'IRON MAN/TONY STARK',\n",
              " 'THING/BENJAMIN J. GR',\n",
              " 'THOR/DR. DONALD BLAK',\n",
              " 'HUMAN TORCH/JOHNNY S',\n",
              " 'MR. FANTASTIC/REED R',\n",
              " 'HULK/DR. ROBERT BRUC',\n",
              " 'WOLVERINE/LOGAN',\n",
              " 'INVISIBLE WOMAN/SUE']"
            ]
          },
          "metadata": {},
          "execution_count": 47
        }
      ]
    },
    {
      "cell_type": "code",
      "source": [
        "nx.density(G_1)"
      ],
      "metadata": {
        "colab": {
          "base_uri": "https://localhost:8080/"
        },
        "id": "jOpNte2Oz5uI",
        "outputId": "eae611d5-aab8-47db-e79d-e2d370bf124d"
      },
      "id": "jOpNte2Oz5uI",
      "execution_count": 32,
      "outputs": [
        {
          "output_type": "execute_result",
          "data": {
            "text/plain": [
              "0.008107160063285336"
            ]
          },
          "metadata": {},
          "execution_count": 32
        }
      ]
    },
    {
      "cell_type": "code",
      "source": [
        "def ex_features(G, G_type, N = all_heroes):\n",
        "  \n",
        "  # The network's density\n",
        "  density = nx.density(G)\n",
        "  # The average degree of the network\n",
        "  avg_degree=sum(G.degree().values())/float(len(G))\n"
      ],
      "metadata": {
        "id": "a4GsM3KJZOj6"
      },
      "id": "a4GsM3KJZOj6",
      "execution_count": null,
      "outputs": []
    }
  ],
  "metadata": {
    "kernelspec": {
      "display_name": "Python 3 (ipykernel)",
      "language": "python",
      "name": "python3"
    },
    "language_info": {
      "codemirror_mode": {
        "name": "ipython",
        "version": 3
      },
      "file_extension": ".py",
      "mimetype": "text/x-python",
      "name": "python",
      "nbconvert_exporter": "python",
      "pygments_lexer": "ipython3",
      "version": "3.9.12"
    },
    "colab": {
      "provenance": [],
      "include_colab_link": true
    }
  },
  "nbformat": 4,
  "nbformat_minor": 5
}