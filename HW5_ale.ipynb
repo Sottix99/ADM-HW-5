{
  "cells": [
    {
      "cell_type": "markdown",
      "metadata": {
        "id": "view-in-github",
        "colab_type": "text"
      },
      "source": [
        "<a href=\"https://colab.research.google.com/github/Sottix99/ADM-HW5/blob/main/HW5_ale.ipynb\" target=\"_parent\"><img src=\"https://colab.research.google.com/assets/colab-badge.svg\" alt=\"Open In Colab\"/></a>"
      ]
    },
    {
      "cell_type": "markdown",
      "source": [
        "# 1. Data"
      ],
      "metadata": {
        "id": "Iah5LcGWZGYg"
      },
      "id": "Iah5LcGWZGYg"
    },
    {
      "cell_type": "markdown",
      "id": "3a059ac1",
      "metadata": {
        "id": "3a059ac1"
      },
      "source": [
        "## Data Preprocessing"
      ]
    },
    {
      "cell_type": "code",
      "execution_count": 1,
      "id": "9d7f89fa",
      "metadata": {
        "id": "9d7f89fa"
      },
      "outputs": [],
      "source": [
        "import pandas as pd\n",
        "import networkx as nx\n",
        "import string \n",
        "import matplotlib.pyplot as plt\n",
        "import scipy"
      ]
    },
    {
      "cell_type": "code",
      "source": [
        "from google.colab import drive\n",
        "drive.mount('/content/drive')"
      ],
      "metadata": {
        "colab": {
          "base_uri": "https://localhost:8080/"
        },
        "id": "gshsSP4Y5Xd2",
        "outputId": "30a163de-5da1-40b0-d082-bf4222eb3925"
      },
      "id": "gshsSP4Y5Xd2",
      "execution_count": 2,
      "outputs": [
        {
          "output_type": "stream",
          "name": "stdout",
          "text": [
            "Mounted at /content/drive\n"
          ]
        }
      ]
    },
    {
      "cell_type": "code",
      "execution_count": 3,
      "id": "570e34c8",
      "metadata": {
        "id": "570e34c8"
      },
      "outputs": [],
      "source": [
        "edges = pd.read_csv('/content/drive/MyDrive/hw 5 ADM/edges.csv')"
      ]
    },
    {
      "cell_type": "code",
      "execution_count": 4,
      "id": "6457d16b",
      "metadata": {
        "id": "6457d16b"
      },
      "outputs": [],
      "source": [
        "hero_network = pd.read_csv('/content/drive/MyDrive/hw 5 ADM/hero-network.csv')"
      ]
    },
    {
      "cell_type": "code",
      "execution_count": 5,
      "id": "923f80c4",
      "metadata": {
        "id": "923f80c4"
      },
      "outputs": [],
      "source": [
        "nodes = pd.read_csv('/content/drive/MyDrive/hw 5 ADM/nodes.csv')"
      ]
    },
    {
      "cell_type": "markdown",
      "id": "57ac2bc7",
      "metadata": {
        "id": "57ac2bc7"
      },
      "source": [
        "Some of the heroes' names in 'hero-network.csv' are not found in 'edges.csv'. This inconsistency exists for the following reasons:\n",
        "\n",
        "Some heroes' names in 'hero-netowrk.csv' have extra spaces at the end of their names compared to their names in 'edges.csv'.\n",
        "Some heroes' names in 'hero-netowrk.csv' have an extra '/' at the end of their names compared to their names in 'edges.csv'.\n",
        "The hero name 'SPIDER-MAN/PETER PARKER' in 'edges.csv' has been changed to 'SPIDER-MAN/PETER PAR' in 'hero-network.csv' due to a string length limit in 'hero-network.csv'."
      ]
    },
    {
      "cell_type": "code",
      "execution_count": 6,
      "id": "3e488a1f",
      "metadata": {
        "id": "3e488a1f"
      },
      "outputs": [],
      "source": [
        "#Removing extra spaces at the end of the hero name\n",
        "hero_network['hero1'] = hero_network['hero1'].apply(lambda x: x.rstrip())\n",
        "hero_network['hero2'] = hero_network['hero2'].apply(lambda x: x.rstrip())"
      ]
    },
    {
      "cell_type": "code",
      "execution_count": 7,
      "id": "54113bca",
      "metadata": {
        "id": "54113bca"
      },
      "outputs": [],
      "source": [
        "#Replace 'SPIDER-MAN/PETER PAR' with 'SPIDER-MAN/PETER PARKER'\n",
        "hero_network.replace({'SPIDER-MAN/PETER PAR': 'SPIDER-MAN/PETER PARKER'}, inplace = True)"
      ]
    },
    {
      "cell_type": "code",
      "execution_count": 8,
      "id": "80816b72",
      "metadata": {
        "id": "80816b72"
      },
      "outputs": [],
      "source": [
        "#Removing extra '/'\n",
        "hero_network['hero1'] = hero_network['hero1'].apply(lambda x: x.rstrip('/'))\n",
        "hero_network['hero2'] = hero_network['hero2'].apply(lambda x: x.rstrip('/'))\n",
        "edges['hero'] = edges['hero'].apply(lambda x: x.strip('/'))"
      ]
    },
    {
      "cell_type": "code",
      "execution_count": 9,
      "id": "8e5b5242",
      "metadata": {
        "id": "8e5b5242"
      },
      "outputs": [],
      "source": [
        "#After this we need to remove again the empty spaces at the end\n",
        "hero_network['hero1'] = hero_network['hero1'].apply(lambda x: x.rstrip())\n",
        "hero_network['hero2'] = hero_network['hero2'].apply(lambda x: x.rstrip())\n",
        "edges['hero'] = edges['hero'].apply(lambda x: x.rstrip())"
      ]
    },
    {
      "cell_type": "code",
      "execution_count": 10,
      "id": "3d0d7428",
      "metadata": {
        "colab": {
          "base_uri": "https://localhost:8080/"
        },
        "id": "3d0d7428",
        "outputId": "8cfe6791-b7ed-4e3d-f338-d30f17cda5ba"
      },
      "outputs": [
        {
          "output_type": "execute_result",
          "data": {
            "text/plain": [
              "False"
            ]
          },
          "metadata": {},
          "execution_count": 10
        }
      ],
      "source": [
        "set(hero_network['hero1']).union(set(hero_network['hero2'])) == set(edges['hero'])"
      ]
    },
    {
      "cell_type": "code",
      "execution_count": 11,
      "id": "ec44abbc",
      "metadata": {
        "colab": {
          "base_uri": "https://localhost:8080/"
        },
        "id": "ec44abbc",
        "outputId": "8a50ccc1-c5a7-41a3-cc53-ea8fdeecb238"
      },
      "outputs": [
        {
          "output_type": "execute_result",
          "data": {
            "text/plain": [
              "set()"
            ]
          },
          "metadata": {},
          "execution_count": 11
        }
      ],
      "source": [
        "(set(hero_network['hero1']).union(set(hero_network['hero2']))).difference(set(edges['hero']))"
      ]
    },
    {
      "cell_type": "code",
      "execution_count": 12,
      "id": "a13b6150",
      "metadata": {
        "colab": {
          "base_uri": "https://localhost:8080/"
        },
        "id": "a13b6150",
        "outputId": "3d4b8fc5-1cbf-40ad-d913-d80289da5323"
      },
      "outputs": [
        {
          "output_type": "execute_result",
          "data": {
            "text/plain": [
              "18"
            ]
          },
          "metadata": {},
          "execution_count": 12
        }
      ],
      "source": [
        "len(set(edges['hero']).difference(set(hero_network['hero1']).union(set(hero_network['hero2']))))"
      ]
    },
    {
      "cell_type": "markdown",
      "id": "de139bd2",
      "metadata": {
        "id": "de139bd2"
      },
      "source": [
        "### Removing duplicates"
      ]
    },
    {
      "cell_type": "code",
      "execution_count": 13,
      "id": "184108d8",
      "metadata": {
        "id": "184108d8"
      },
      "outputs": [],
      "source": [
        "hero_network.drop((hero_network[hero_network['hero1'] == hero_network['hero2']]).index, inplace = True)"
      ]
    },
    {
      "cell_type": "markdown",
      "source": [
        "### Save datasets"
      ],
      "metadata": {
        "id": "MTJNmVKLOaqx"
      },
      "id": "MTJNmVKLOaqx"
    },
    {
      "cell_type": "code",
      "source": [
        "hero_network.to_csv('/content/drive/MyDrive/hw 5 ADM/hero_net_clean.csv', index=False)"
      ],
      "metadata": {
        "id": "UVmhz-7pOd4R"
      },
      "id": "UVmhz-7pOd4R",
      "execution_count": 14,
      "outputs": []
    },
    {
      "cell_type": "code",
      "source": [
        "edges.to_csv('/content/drive/MyDrive/hw 5 ADM/edges_clean.csv', index=False)"
      ],
      "metadata": {
        "id": "BwQt-fXWPA72"
      },
      "id": "BwQt-fXWPA72",
      "execution_count": 15,
      "outputs": []
    },
    {
      "cell_type": "code",
      "source": [
        "nodes.to_csv('/content/drive/MyDrive/hw 5 ADM/nodes_clean.csv', index=False)"
      ],
      "metadata": {
        "id": "XBrYKWqIPA_U"
      },
      "id": "XBrYKWqIPA_U",
      "execution_count": 16,
      "outputs": []
    },
    {
      "cell_type": "markdown",
      "source": [
        "## Graphs setup"
      ],
      "metadata": {
        "id": "xghWSDKI64PH"
      },
      "id": "xghWSDKI64PH"
    },
    {
      "cell_type": "markdown",
      "source": [
        "#### First"
      ],
      "metadata": {
        "id": "aWmtrEEwIogO"
      },
      "id": "aWmtrEEwIogO"
    },
    {
      "cell_type": "code",
      "execution_count": 17,
      "id": "734e7279",
      "metadata": {
        "colab": {
          "base_uri": "https://localhost:8080/",
          "height": 424
        },
        "id": "734e7279",
        "outputId": "77238a56-4174-4e9a-82c6-02f3a88a0896"
      },
      "outputs": [
        {
          "output_type": "execute_result",
          "data": {
            "text/plain": [
              "                       hero1                 hero2\n",
              "0              LITTLE, ABNER        PRINCESS ZANDA\n",
              "1              LITTLE, ABNER  BLACK PANTHER/T'CHAL\n",
              "2       BLACK PANTHER/T'CHAL        PRINCESS ZANDA\n",
              "3              LITTLE, ABNER        PRINCESS ZANDA\n",
              "4              LITTLE, ABNER  BLACK PANTHER/T'CHAL\n",
              "...                      ...                   ...\n",
              "574462  COLOSSUS II/PETER RA              CALLISTO\n",
              "574463              CALLISTO                 ROGUE\n",
              "574464              CALLISTO               CALIBAN\n",
              "574465               CALIBAN                 ROGUE\n",
              "574466  HULK/DR. ROBERT BRUC     MARKS, DR. SHIELA\n",
              "\n",
              "[572235 rows x 2 columns]"
            ],
            "text/html": [
              "\n",
              "  <div id=\"df-080ba31d-b089-43da-a1ba-8f5c43e64a14\">\n",
              "    <div class=\"colab-df-container\">\n",
              "      <div>\n",
              "<style scoped>\n",
              "    .dataframe tbody tr th:only-of-type {\n",
              "        vertical-align: middle;\n",
              "    }\n",
              "\n",
              "    .dataframe tbody tr th {\n",
              "        vertical-align: top;\n",
              "    }\n",
              "\n",
              "    .dataframe thead th {\n",
              "        text-align: right;\n",
              "    }\n",
              "</style>\n",
              "<table border=\"1\" class=\"dataframe\">\n",
              "  <thead>\n",
              "    <tr style=\"text-align: right;\">\n",
              "      <th></th>\n",
              "      <th>hero1</th>\n",
              "      <th>hero2</th>\n",
              "    </tr>\n",
              "  </thead>\n",
              "  <tbody>\n",
              "    <tr>\n",
              "      <th>0</th>\n",
              "      <td>LITTLE, ABNER</td>\n",
              "      <td>PRINCESS ZANDA</td>\n",
              "    </tr>\n",
              "    <tr>\n",
              "      <th>1</th>\n",
              "      <td>LITTLE, ABNER</td>\n",
              "      <td>BLACK PANTHER/T'CHAL</td>\n",
              "    </tr>\n",
              "    <tr>\n",
              "      <th>2</th>\n",
              "      <td>BLACK PANTHER/T'CHAL</td>\n",
              "      <td>PRINCESS ZANDA</td>\n",
              "    </tr>\n",
              "    <tr>\n",
              "      <th>3</th>\n",
              "      <td>LITTLE, ABNER</td>\n",
              "      <td>PRINCESS ZANDA</td>\n",
              "    </tr>\n",
              "    <tr>\n",
              "      <th>4</th>\n",
              "      <td>LITTLE, ABNER</td>\n",
              "      <td>BLACK PANTHER/T'CHAL</td>\n",
              "    </tr>\n",
              "    <tr>\n",
              "      <th>...</th>\n",
              "      <td>...</td>\n",
              "      <td>...</td>\n",
              "    </tr>\n",
              "    <tr>\n",
              "      <th>574462</th>\n",
              "      <td>COLOSSUS II/PETER RA</td>\n",
              "      <td>CALLISTO</td>\n",
              "    </tr>\n",
              "    <tr>\n",
              "      <th>574463</th>\n",
              "      <td>CALLISTO</td>\n",
              "      <td>ROGUE</td>\n",
              "    </tr>\n",
              "    <tr>\n",
              "      <th>574464</th>\n",
              "      <td>CALLISTO</td>\n",
              "      <td>CALIBAN</td>\n",
              "    </tr>\n",
              "    <tr>\n",
              "      <th>574465</th>\n",
              "      <td>CALIBAN</td>\n",
              "      <td>ROGUE</td>\n",
              "    </tr>\n",
              "    <tr>\n",
              "      <th>574466</th>\n",
              "      <td>HULK/DR. ROBERT BRUC</td>\n",
              "      <td>MARKS, DR. SHIELA</td>\n",
              "    </tr>\n",
              "  </tbody>\n",
              "</table>\n",
              "<p>572235 rows × 2 columns</p>\n",
              "</div>\n",
              "      <button class=\"colab-df-convert\" onclick=\"convertToInteractive('df-080ba31d-b089-43da-a1ba-8f5c43e64a14')\"\n",
              "              title=\"Convert this dataframe to an interactive table.\"\n",
              "              style=\"display:none;\">\n",
              "        \n",
              "  <svg xmlns=\"http://www.w3.org/2000/svg\" height=\"24px\"viewBox=\"0 0 24 24\"\n",
              "       width=\"24px\">\n",
              "    <path d=\"M0 0h24v24H0V0z\" fill=\"none\"/>\n",
              "    <path d=\"M18.56 5.44l.94 2.06.94-2.06 2.06-.94-2.06-.94-.94-2.06-.94 2.06-2.06.94zm-11 1L8.5 8.5l.94-2.06 2.06-.94-2.06-.94L8.5 2.5l-.94 2.06-2.06.94zm10 10l.94 2.06.94-2.06 2.06-.94-2.06-.94-.94-2.06-.94 2.06-2.06.94z\"/><path d=\"M17.41 7.96l-1.37-1.37c-.4-.4-.92-.59-1.43-.59-.52 0-1.04.2-1.43.59L10.3 9.45l-7.72 7.72c-.78.78-.78 2.05 0 2.83L4 21.41c.39.39.9.59 1.41.59.51 0 1.02-.2 1.41-.59l7.78-7.78 2.81-2.81c.8-.78.8-2.07 0-2.86zM5.41 20L4 18.59l7.72-7.72 1.47 1.35L5.41 20z\"/>\n",
              "  </svg>\n",
              "      </button>\n",
              "      \n",
              "  <style>\n",
              "    .colab-df-container {\n",
              "      display:flex;\n",
              "      flex-wrap:wrap;\n",
              "      gap: 12px;\n",
              "    }\n",
              "\n",
              "    .colab-df-convert {\n",
              "      background-color: #E8F0FE;\n",
              "      border: none;\n",
              "      border-radius: 50%;\n",
              "      cursor: pointer;\n",
              "      display: none;\n",
              "      fill: #1967D2;\n",
              "      height: 32px;\n",
              "      padding: 0 0 0 0;\n",
              "      width: 32px;\n",
              "    }\n",
              "\n",
              "    .colab-df-convert:hover {\n",
              "      background-color: #E2EBFA;\n",
              "      box-shadow: 0px 1px 2px rgba(60, 64, 67, 0.3), 0px 1px 3px 1px rgba(60, 64, 67, 0.15);\n",
              "      fill: #174EA6;\n",
              "    }\n",
              "\n",
              "    [theme=dark] .colab-df-convert {\n",
              "      background-color: #3B4455;\n",
              "      fill: #D2E3FC;\n",
              "    }\n",
              "\n",
              "    [theme=dark] .colab-df-convert:hover {\n",
              "      background-color: #434B5C;\n",
              "      box-shadow: 0px 1px 3px 1px rgba(0, 0, 0, 0.15);\n",
              "      filter: drop-shadow(0px 1px 2px rgba(0, 0, 0, 0.3));\n",
              "      fill: #FFFFFF;\n",
              "    }\n",
              "  </style>\n",
              "\n",
              "      <script>\n",
              "        const buttonEl =\n",
              "          document.querySelector('#df-080ba31d-b089-43da-a1ba-8f5c43e64a14 button.colab-df-convert');\n",
              "        buttonEl.style.display =\n",
              "          google.colab.kernel.accessAllowed ? 'block' : 'none';\n",
              "\n",
              "        async function convertToInteractive(key) {\n",
              "          const element = document.querySelector('#df-080ba31d-b089-43da-a1ba-8f5c43e64a14');\n",
              "          const dataTable =\n",
              "            await google.colab.kernel.invokeFunction('convertToInteractive',\n",
              "                                                     [key], {});\n",
              "          if (!dataTable) return;\n",
              "\n",
              "          const docLinkHtml = 'Like what you see? Visit the ' +\n",
              "            '<a target=\"_blank\" href=https://colab.research.google.com/notebooks/data_table.ipynb>data table notebook</a>'\n",
              "            + ' to learn more about interactive tables.';\n",
              "          element.innerHTML = '';\n",
              "          dataTable['output_type'] = 'display_data';\n",
              "          await google.colab.output.renderOutput(dataTable, element);\n",
              "          const docLink = document.createElement('div');\n",
              "          docLink.innerHTML = docLinkHtml;\n",
              "          element.appendChild(docLink);\n",
              "        }\n",
              "      </script>\n",
              "    </div>\n",
              "  </div>\n",
              "  "
            ]
          },
          "metadata": {},
          "execution_count": 17
        }
      ],
      "source": [
        "hero_network"
      ]
    },
    {
      "cell_type": "code",
      "source": [
        "hero_net_g=hero_network.groupby(hero_network.columns.tolist(),as_index=False).size()\n",
        "hero_net_g"
      ],
      "metadata": {
        "colab": {
          "base_uri": "https://localhost:8080/",
          "height": 424
        },
        "id": "sylkHSTS9AHT",
        "outputId": "adb399f9-d673-480b-a9de-d9945cd5eb68"
      },
      "id": "sylkHSTS9AHT",
      "execution_count": 18,
      "outputs": [
        {
          "output_type": "execute_result",
          "data": {
            "text/plain": [
              "                       hero1                 hero2  size\n",
              "0       24-HOUR MAN/EMMANUEL       FROST, CARMILLA     1\n",
              "1       24-HOUR MAN/EMMANUEL  KILLRAVEN/JONATHAN R     1\n",
              "2       24-HOUR MAN/EMMANUEL              M'SHULLA     1\n",
              "3       3-D MAN/CHARLES CHAN  ANGEL/WARREN KENNETH     1\n",
              "4       3-D MAN/CHARLES CHAN  ANT-MAN II/SCOTT HAR     1\n",
              "...                      ...                   ...   ...\n",
              "224094                 ZZZAX      RODRIGUEZ, DEBRA     1\n",
              "224095                 ZZZAX   ROSS, GEN. THADDEUS     2\n",
              "224096                 ZZZAX  SUMMERS, NATHAN CHRI     1\n",
              "224097                 ZZZAX    TIGRA/GREER NELSON     1\n",
              "224098                 ZZZAX  WONDER MAN/SIMON WIL     1\n",
              "\n",
              "[224099 rows x 3 columns]"
            ],
            "text/html": [
              "\n",
              "  <div id=\"df-2b5d4b9c-9311-419c-b5d9-ed7c0fb9889c\">\n",
              "    <div class=\"colab-df-container\">\n",
              "      <div>\n",
              "<style scoped>\n",
              "    .dataframe tbody tr th:only-of-type {\n",
              "        vertical-align: middle;\n",
              "    }\n",
              "\n",
              "    .dataframe tbody tr th {\n",
              "        vertical-align: top;\n",
              "    }\n",
              "\n",
              "    .dataframe thead th {\n",
              "        text-align: right;\n",
              "    }\n",
              "</style>\n",
              "<table border=\"1\" class=\"dataframe\">\n",
              "  <thead>\n",
              "    <tr style=\"text-align: right;\">\n",
              "      <th></th>\n",
              "      <th>hero1</th>\n",
              "      <th>hero2</th>\n",
              "      <th>size</th>\n",
              "    </tr>\n",
              "  </thead>\n",
              "  <tbody>\n",
              "    <tr>\n",
              "      <th>0</th>\n",
              "      <td>24-HOUR MAN/EMMANUEL</td>\n",
              "      <td>FROST, CARMILLA</td>\n",
              "      <td>1</td>\n",
              "    </tr>\n",
              "    <tr>\n",
              "      <th>1</th>\n",
              "      <td>24-HOUR MAN/EMMANUEL</td>\n",
              "      <td>KILLRAVEN/JONATHAN R</td>\n",
              "      <td>1</td>\n",
              "    </tr>\n",
              "    <tr>\n",
              "      <th>2</th>\n",
              "      <td>24-HOUR MAN/EMMANUEL</td>\n",
              "      <td>M'SHULLA</td>\n",
              "      <td>1</td>\n",
              "    </tr>\n",
              "    <tr>\n",
              "      <th>3</th>\n",
              "      <td>3-D MAN/CHARLES CHAN</td>\n",
              "      <td>ANGEL/WARREN KENNETH</td>\n",
              "      <td>1</td>\n",
              "    </tr>\n",
              "    <tr>\n",
              "      <th>4</th>\n",
              "      <td>3-D MAN/CHARLES CHAN</td>\n",
              "      <td>ANT-MAN II/SCOTT HAR</td>\n",
              "      <td>1</td>\n",
              "    </tr>\n",
              "    <tr>\n",
              "      <th>...</th>\n",
              "      <td>...</td>\n",
              "      <td>...</td>\n",
              "      <td>...</td>\n",
              "    </tr>\n",
              "    <tr>\n",
              "      <th>224094</th>\n",
              "      <td>ZZZAX</td>\n",
              "      <td>RODRIGUEZ, DEBRA</td>\n",
              "      <td>1</td>\n",
              "    </tr>\n",
              "    <tr>\n",
              "      <th>224095</th>\n",
              "      <td>ZZZAX</td>\n",
              "      <td>ROSS, GEN. THADDEUS</td>\n",
              "      <td>2</td>\n",
              "    </tr>\n",
              "    <tr>\n",
              "      <th>224096</th>\n",
              "      <td>ZZZAX</td>\n",
              "      <td>SUMMERS, NATHAN CHRI</td>\n",
              "      <td>1</td>\n",
              "    </tr>\n",
              "    <tr>\n",
              "      <th>224097</th>\n",
              "      <td>ZZZAX</td>\n",
              "      <td>TIGRA/GREER NELSON</td>\n",
              "      <td>1</td>\n",
              "    </tr>\n",
              "    <tr>\n",
              "      <th>224098</th>\n",
              "      <td>ZZZAX</td>\n",
              "      <td>WONDER MAN/SIMON WIL</td>\n",
              "      <td>1</td>\n",
              "    </tr>\n",
              "  </tbody>\n",
              "</table>\n",
              "<p>224099 rows × 3 columns</p>\n",
              "</div>\n",
              "      <button class=\"colab-df-convert\" onclick=\"convertToInteractive('df-2b5d4b9c-9311-419c-b5d9-ed7c0fb9889c')\"\n",
              "              title=\"Convert this dataframe to an interactive table.\"\n",
              "              style=\"display:none;\">\n",
              "        \n",
              "  <svg xmlns=\"http://www.w3.org/2000/svg\" height=\"24px\"viewBox=\"0 0 24 24\"\n",
              "       width=\"24px\">\n",
              "    <path d=\"M0 0h24v24H0V0z\" fill=\"none\"/>\n",
              "    <path d=\"M18.56 5.44l.94 2.06.94-2.06 2.06-.94-2.06-.94-.94-2.06-.94 2.06-2.06.94zm-11 1L8.5 8.5l.94-2.06 2.06-.94-2.06-.94L8.5 2.5l-.94 2.06-2.06.94zm10 10l.94 2.06.94-2.06 2.06-.94-2.06-.94-.94-2.06-.94 2.06-2.06.94z\"/><path d=\"M17.41 7.96l-1.37-1.37c-.4-.4-.92-.59-1.43-.59-.52 0-1.04.2-1.43.59L10.3 9.45l-7.72 7.72c-.78.78-.78 2.05 0 2.83L4 21.41c.39.39.9.59 1.41.59.51 0 1.02-.2 1.41-.59l7.78-7.78 2.81-2.81c.8-.78.8-2.07 0-2.86zM5.41 20L4 18.59l7.72-7.72 1.47 1.35L5.41 20z\"/>\n",
              "  </svg>\n",
              "      </button>\n",
              "      \n",
              "  <style>\n",
              "    .colab-df-container {\n",
              "      display:flex;\n",
              "      flex-wrap:wrap;\n",
              "      gap: 12px;\n",
              "    }\n",
              "\n",
              "    .colab-df-convert {\n",
              "      background-color: #E8F0FE;\n",
              "      border: none;\n",
              "      border-radius: 50%;\n",
              "      cursor: pointer;\n",
              "      display: none;\n",
              "      fill: #1967D2;\n",
              "      height: 32px;\n",
              "      padding: 0 0 0 0;\n",
              "      width: 32px;\n",
              "    }\n",
              "\n",
              "    .colab-df-convert:hover {\n",
              "      background-color: #E2EBFA;\n",
              "      box-shadow: 0px 1px 2px rgba(60, 64, 67, 0.3), 0px 1px 3px 1px rgba(60, 64, 67, 0.15);\n",
              "      fill: #174EA6;\n",
              "    }\n",
              "\n",
              "    [theme=dark] .colab-df-convert {\n",
              "      background-color: #3B4455;\n",
              "      fill: #D2E3FC;\n",
              "    }\n",
              "\n",
              "    [theme=dark] .colab-df-convert:hover {\n",
              "      background-color: #434B5C;\n",
              "      box-shadow: 0px 1px 3px 1px rgba(0, 0, 0, 0.15);\n",
              "      filter: drop-shadow(0px 1px 2px rgba(0, 0, 0, 0.3));\n",
              "      fill: #FFFFFF;\n",
              "    }\n",
              "  </style>\n",
              "\n",
              "      <script>\n",
              "        const buttonEl =\n",
              "          document.querySelector('#df-2b5d4b9c-9311-419c-b5d9-ed7c0fb9889c button.colab-df-convert');\n",
              "        buttonEl.style.display =\n",
              "          google.colab.kernel.accessAllowed ? 'block' : 'none';\n",
              "\n",
              "        async function convertToInteractive(key) {\n",
              "          const element = document.querySelector('#df-2b5d4b9c-9311-419c-b5d9-ed7c0fb9889c');\n",
              "          const dataTable =\n",
              "            await google.colab.kernel.invokeFunction('convertToInteractive',\n",
              "                                                     [key], {});\n",
              "          if (!dataTable) return;\n",
              "\n",
              "          const docLinkHtml = 'Like what you see? Visit the ' +\n",
              "            '<a target=\"_blank\" href=https://colab.research.google.com/notebooks/data_table.ipynb>data table notebook</a>'\n",
              "            + ' to learn more about interactive tables.';\n",
              "          element.innerHTML = '';\n",
              "          dataTable['output_type'] = 'display_data';\n",
              "          await google.colab.output.renderOutput(dataTable, element);\n",
              "          const docLink = document.createElement('div');\n",
              "          docLink.innerHTML = docLinkHtml;\n",
              "          element.appendChild(docLink);\n",
              "        }\n",
              "      </script>\n",
              "    </div>\n",
              "  </div>\n",
              "  "
            ]
          },
          "metadata": {},
          "execution_count": 18
        }
      ]
    },
    {
      "cell_type": "markdown",
      "source": [
        "we have the new df "
      ],
      "metadata": {
        "id": "UKlVic-Q_Jds"
      },
      "id": "UKlVic-Q_Jds"
    },
    {
      "cell_type": "code",
      "source": [
        "hero_net_g['size'].describe()"
      ],
      "metadata": {
        "colab": {
          "base_uri": "https://localhost:8080/"
        },
        "id": "CfC4-ztP9noU",
        "outputId": "a0300738-0846-4bc2-f369-e0f734e54478"
      },
      "id": "CfC4-ztP9noU",
      "execution_count": 19,
      "outputs": [
        {
          "output_type": "execute_result",
          "data": {
            "text/plain": [
              "count    224099.000000\n",
              "mean          2.553492\n",
              "std           7.285278\n",
              "min           1.000000\n",
              "25%           1.000000\n",
              "50%           1.000000\n",
              "75%           2.000000\n",
              "max        1267.000000\n",
              "Name: size, dtype: float64"
            ]
          },
          "metadata": {},
          "execution_count": 19
        }
      ]
    },
    {
      "cell_type": "code",
      "source": [
        "hero_net_g['size'].sort_values()[-100:]"
      ],
      "metadata": {
        "colab": {
          "base_uri": "https://localhost:8080/"
        },
        "id": "i0i9yjBx-LBQ",
        "outputId": "e0a37e23-6464-4cea-9b34-d954f6b6e446"
      },
      "id": "i0i9yjBx-LBQ",
      "execution_count": 20,
      "outputs": [
        {
          "output_type": "execute_result",
          "data": {
            "text/plain": [
              "186191     133\n",
              "148855     133\n",
              "218821     134\n",
              "78102      135\n",
              "91072      135\n",
              "          ... \n",
              "196190     365\n",
              "85416      366\n",
              "195966     382\n",
              "124735     627\n",
              "142471    1267\n",
              "Name: size, Length: 100, dtype: int64"
            ]
          },
          "metadata": {},
          "execution_count": 20
        }
      ]
    },
    {
      "cell_type": "code",
      "execution_count": 21,
      "id": "a8b0ff02",
      "metadata": {
        "id": "a8b0ff02"
      },
      "outputs": [],
      "source": [
        "G_1 = nx.from_pandas_edgelist(hero_net_g, 'hero1', 'hero2' , edge_attr='size') # dobbiamo scegliere la metrica giusta"
      ]
    },
    {
      "cell_type": "code",
      "source": [
        "#nx.draw(G_1) # mi da errore, forse sono troppi nodi?\n",
        "#plt.show()"
      ],
      "metadata": {
        "id": "QARy74uBDUez"
      },
      "id": "QARy74uBDUez",
      "execution_count": 22,
      "outputs": []
    },
    {
      "cell_type": "markdown",
      "source": [
        "#### Second"
      ],
      "metadata": {
        "id": "3vFz5AMpIsTd"
      },
      "id": "3vFz5AMpIsTd"
    },
    {
      "cell_type": "code",
      "source": [
        "nodes"
      ],
      "metadata": {
        "colab": {
          "base_uri": "https://localhost:8080/",
          "height": 424
        },
        "id": "8qHWLz0kIryg",
        "outputId": "086c48bc-4616-47b6-9b88-24b828904f6a"
      },
      "id": "8qHWLz0kIryg",
      "execution_count": 23,
      "outputs": [
        {
          "output_type": "execute_result",
          "data": {
            "text/plain": [
              "                       node   type\n",
              "0                   2001 10  comic\n",
              "1                    2001 8  comic\n",
              "2                    2001 9  comic\n",
              "3      24-HOUR MAN/EMMANUEL   hero\n",
              "4      3-D MAN/CHARLES CHAN   hero\n",
              "...                     ...    ...\n",
              "19085           ZOTA, CARLO   hero\n",
              "19086                  ZOTA   hero\n",
              "19087                 ZURAS   hero\n",
              "19088                  ZURI   hero\n",
              "19089                 ZZZAX   hero\n",
              "\n",
              "[19090 rows x 2 columns]"
            ],
            "text/html": [
              "\n",
              "  <div id=\"df-e5e4bcbe-f6c6-41c9-b3ec-5f5e6b8963b2\">\n",
              "    <div class=\"colab-df-container\">\n",
              "      <div>\n",
              "<style scoped>\n",
              "    .dataframe tbody tr th:only-of-type {\n",
              "        vertical-align: middle;\n",
              "    }\n",
              "\n",
              "    .dataframe tbody tr th {\n",
              "        vertical-align: top;\n",
              "    }\n",
              "\n",
              "    .dataframe thead th {\n",
              "        text-align: right;\n",
              "    }\n",
              "</style>\n",
              "<table border=\"1\" class=\"dataframe\">\n",
              "  <thead>\n",
              "    <tr style=\"text-align: right;\">\n",
              "      <th></th>\n",
              "      <th>node</th>\n",
              "      <th>type</th>\n",
              "    </tr>\n",
              "  </thead>\n",
              "  <tbody>\n",
              "    <tr>\n",
              "      <th>0</th>\n",
              "      <td>2001 10</td>\n",
              "      <td>comic</td>\n",
              "    </tr>\n",
              "    <tr>\n",
              "      <th>1</th>\n",
              "      <td>2001 8</td>\n",
              "      <td>comic</td>\n",
              "    </tr>\n",
              "    <tr>\n",
              "      <th>2</th>\n",
              "      <td>2001 9</td>\n",
              "      <td>comic</td>\n",
              "    </tr>\n",
              "    <tr>\n",
              "      <th>3</th>\n",
              "      <td>24-HOUR MAN/EMMANUEL</td>\n",
              "      <td>hero</td>\n",
              "    </tr>\n",
              "    <tr>\n",
              "      <th>4</th>\n",
              "      <td>3-D MAN/CHARLES CHAN</td>\n",
              "      <td>hero</td>\n",
              "    </tr>\n",
              "    <tr>\n",
              "      <th>...</th>\n",
              "      <td>...</td>\n",
              "      <td>...</td>\n",
              "    </tr>\n",
              "    <tr>\n",
              "      <th>19085</th>\n",
              "      <td>ZOTA, CARLO</td>\n",
              "      <td>hero</td>\n",
              "    </tr>\n",
              "    <tr>\n",
              "      <th>19086</th>\n",
              "      <td>ZOTA</td>\n",
              "      <td>hero</td>\n",
              "    </tr>\n",
              "    <tr>\n",
              "      <th>19087</th>\n",
              "      <td>ZURAS</td>\n",
              "      <td>hero</td>\n",
              "    </tr>\n",
              "    <tr>\n",
              "      <th>19088</th>\n",
              "      <td>ZURI</td>\n",
              "      <td>hero</td>\n",
              "    </tr>\n",
              "    <tr>\n",
              "      <th>19089</th>\n",
              "      <td>ZZZAX</td>\n",
              "      <td>hero</td>\n",
              "    </tr>\n",
              "  </tbody>\n",
              "</table>\n",
              "<p>19090 rows × 2 columns</p>\n",
              "</div>\n",
              "      <button class=\"colab-df-convert\" onclick=\"convertToInteractive('df-e5e4bcbe-f6c6-41c9-b3ec-5f5e6b8963b2')\"\n",
              "              title=\"Convert this dataframe to an interactive table.\"\n",
              "              style=\"display:none;\">\n",
              "        \n",
              "  <svg xmlns=\"http://www.w3.org/2000/svg\" height=\"24px\"viewBox=\"0 0 24 24\"\n",
              "       width=\"24px\">\n",
              "    <path d=\"M0 0h24v24H0V0z\" fill=\"none\"/>\n",
              "    <path d=\"M18.56 5.44l.94 2.06.94-2.06 2.06-.94-2.06-.94-.94-2.06-.94 2.06-2.06.94zm-11 1L8.5 8.5l.94-2.06 2.06-.94-2.06-.94L8.5 2.5l-.94 2.06-2.06.94zm10 10l.94 2.06.94-2.06 2.06-.94-2.06-.94-.94-2.06-.94 2.06-2.06.94z\"/><path d=\"M17.41 7.96l-1.37-1.37c-.4-.4-.92-.59-1.43-.59-.52 0-1.04.2-1.43.59L10.3 9.45l-7.72 7.72c-.78.78-.78 2.05 0 2.83L4 21.41c.39.39.9.59 1.41.59.51 0 1.02-.2 1.41-.59l7.78-7.78 2.81-2.81c.8-.78.8-2.07 0-2.86zM5.41 20L4 18.59l7.72-7.72 1.47 1.35L5.41 20z\"/>\n",
              "  </svg>\n",
              "      </button>\n",
              "      \n",
              "  <style>\n",
              "    .colab-df-container {\n",
              "      display:flex;\n",
              "      flex-wrap:wrap;\n",
              "      gap: 12px;\n",
              "    }\n",
              "\n",
              "    .colab-df-convert {\n",
              "      background-color: #E8F0FE;\n",
              "      border: none;\n",
              "      border-radius: 50%;\n",
              "      cursor: pointer;\n",
              "      display: none;\n",
              "      fill: #1967D2;\n",
              "      height: 32px;\n",
              "      padding: 0 0 0 0;\n",
              "      width: 32px;\n",
              "    }\n",
              "\n",
              "    .colab-df-convert:hover {\n",
              "      background-color: #E2EBFA;\n",
              "      box-shadow: 0px 1px 2px rgba(60, 64, 67, 0.3), 0px 1px 3px 1px rgba(60, 64, 67, 0.15);\n",
              "      fill: #174EA6;\n",
              "    }\n",
              "\n",
              "    [theme=dark] .colab-df-convert {\n",
              "      background-color: #3B4455;\n",
              "      fill: #D2E3FC;\n",
              "    }\n",
              "\n",
              "    [theme=dark] .colab-df-convert:hover {\n",
              "      background-color: #434B5C;\n",
              "      box-shadow: 0px 1px 3px 1px rgba(0, 0, 0, 0.15);\n",
              "      filter: drop-shadow(0px 1px 2px rgba(0, 0, 0, 0.3));\n",
              "      fill: #FFFFFF;\n",
              "    }\n",
              "  </style>\n",
              "\n",
              "      <script>\n",
              "        const buttonEl =\n",
              "          document.querySelector('#df-e5e4bcbe-f6c6-41c9-b3ec-5f5e6b8963b2 button.colab-df-convert');\n",
              "        buttonEl.style.display =\n",
              "          google.colab.kernel.accessAllowed ? 'block' : 'none';\n",
              "\n",
              "        async function convertToInteractive(key) {\n",
              "          const element = document.querySelector('#df-e5e4bcbe-f6c6-41c9-b3ec-5f5e6b8963b2');\n",
              "          const dataTable =\n",
              "            await google.colab.kernel.invokeFunction('convertToInteractive',\n",
              "                                                     [key], {});\n",
              "          if (!dataTable) return;\n",
              "\n",
              "          const docLinkHtml = 'Like what you see? Visit the ' +\n",
              "            '<a target=\"_blank\" href=https://colab.research.google.com/notebooks/data_table.ipynb>data table notebook</a>'\n",
              "            + ' to learn more about interactive tables.';\n",
              "          element.innerHTML = '';\n",
              "          dataTable['output_type'] = 'display_data';\n",
              "          await google.colab.output.renderOutput(dataTable, element);\n",
              "          const docLink = document.createElement('div');\n",
              "          docLink.innerHTML = docLinkHtml;\n",
              "          element.appendChild(docLink);\n",
              "        }\n",
              "      </script>\n",
              "    </div>\n",
              "  </div>\n",
              "  "
            ]
          },
          "metadata": {},
          "execution_count": 23
        }
      ]
    },
    {
      "cell_type": "code",
      "source": [
        "edges"
      ],
      "metadata": {
        "colab": {
          "base_uri": "https://localhost:8080/",
          "height": 424
        },
        "id": "yzAMR0-sI6in",
        "outputId": "a6530c70-69c4-4747-bc96-66103018c38b"
      },
      "id": "yzAMR0-sI6in",
      "execution_count": 24,
      "outputs": [
        {
          "output_type": "execute_result",
          "data": {
            "text/plain": [
              "                       hero     comic\n",
              "0      24-HOUR MAN/EMMANUEL    AA2 35\n",
              "1      3-D MAN/CHARLES CHAN     AVF 4\n",
              "2      3-D MAN/CHARLES CHAN     AVF 5\n",
              "3      3-D MAN/CHARLES CHAN     COC 1\n",
              "4      3-D MAN/CHARLES CHAN    H2 251\n",
              "...                     ...       ...\n",
              "96099                 ZZZAX    H2 326\n",
              "96100                 ZZZAX    H2 327\n",
              "96101                 ZZZAX  M/CP 8/4\n",
              "96102                 ZZZAX     PM 47\n",
              "96103                 ZZZAX   WCA2 12\n",
              "\n",
              "[96104 rows x 2 columns]"
            ],
            "text/html": [
              "\n",
              "  <div id=\"df-f4af8f4c-4349-4b7f-a6e0-c67c2b759a05\">\n",
              "    <div class=\"colab-df-container\">\n",
              "      <div>\n",
              "<style scoped>\n",
              "    .dataframe tbody tr th:only-of-type {\n",
              "        vertical-align: middle;\n",
              "    }\n",
              "\n",
              "    .dataframe tbody tr th {\n",
              "        vertical-align: top;\n",
              "    }\n",
              "\n",
              "    .dataframe thead th {\n",
              "        text-align: right;\n",
              "    }\n",
              "</style>\n",
              "<table border=\"1\" class=\"dataframe\">\n",
              "  <thead>\n",
              "    <tr style=\"text-align: right;\">\n",
              "      <th></th>\n",
              "      <th>hero</th>\n",
              "      <th>comic</th>\n",
              "    </tr>\n",
              "  </thead>\n",
              "  <tbody>\n",
              "    <tr>\n",
              "      <th>0</th>\n",
              "      <td>24-HOUR MAN/EMMANUEL</td>\n",
              "      <td>AA2 35</td>\n",
              "    </tr>\n",
              "    <tr>\n",
              "      <th>1</th>\n",
              "      <td>3-D MAN/CHARLES CHAN</td>\n",
              "      <td>AVF 4</td>\n",
              "    </tr>\n",
              "    <tr>\n",
              "      <th>2</th>\n",
              "      <td>3-D MAN/CHARLES CHAN</td>\n",
              "      <td>AVF 5</td>\n",
              "    </tr>\n",
              "    <tr>\n",
              "      <th>3</th>\n",
              "      <td>3-D MAN/CHARLES CHAN</td>\n",
              "      <td>COC 1</td>\n",
              "    </tr>\n",
              "    <tr>\n",
              "      <th>4</th>\n",
              "      <td>3-D MAN/CHARLES CHAN</td>\n",
              "      <td>H2 251</td>\n",
              "    </tr>\n",
              "    <tr>\n",
              "      <th>...</th>\n",
              "      <td>...</td>\n",
              "      <td>...</td>\n",
              "    </tr>\n",
              "    <tr>\n",
              "      <th>96099</th>\n",
              "      <td>ZZZAX</td>\n",
              "      <td>H2 326</td>\n",
              "    </tr>\n",
              "    <tr>\n",
              "      <th>96100</th>\n",
              "      <td>ZZZAX</td>\n",
              "      <td>H2 327</td>\n",
              "    </tr>\n",
              "    <tr>\n",
              "      <th>96101</th>\n",
              "      <td>ZZZAX</td>\n",
              "      <td>M/CP 8/4</td>\n",
              "    </tr>\n",
              "    <tr>\n",
              "      <th>96102</th>\n",
              "      <td>ZZZAX</td>\n",
              "      <td>PM 47</td>\n",
              "    </tr>\n",
              "    <tr>\n",
              "      <th>96103</th>\n",
              "      <td>ZZZAX</td>\n",
              "      <td>WCA2 12</td>\n",
              "    </tr>\n",
              "  </tbody>\n",
              "</table>\n",
              "<p>96104 rows × 2 columns</p>\n",
              "</div>\n",
              "      <button class=\"colab-df-convert\" onclick=\"convertToInteractive('df-f4af8f4c-4349-4b7f-a6e0-c67c2b759a05')\"\n",
              "              title=\"Convert this dataframe to an interactive table.\"\n",
              "              style=\"display:none;\">\n",
              "        \n",
              "  <svg xmlns=\"http://www.w3.org/2000/svg\" height=\"24px\"viewBox=\"0 0 24 24\"\n",
              "       width=\"24px\">\n",
              "    <path d=\"M0 0h24v24H0V0z\" fill=\"none\"/>\n",
              "    <path d=\"M18.56 5.44l.94 2.06.94-2.06 2.06-.94-2.06-.94-.94-2.06-.94 2.06-2.06.94zm-11 1L8.5 8.5l.94-2.06 2.06-.94-2.06-.94L8.5 2.5l-.94 2.06-2.06.94zm10 10l.94 2.06.94-2.06 2.06-.94-2.06-.94-.94-2.06-.94 2.06-2.06.94z\"/><path d=\"M17.41 7.96l-1.37-1.37c-.4-.4-.92-.59-1.43-.59-.52 0-1.04.2-1.43.59L10.3 9.45l-7.72 7.72c-.78.78-.78 2.05 0 2.83L4 21.41c.39.39.9.59 1.41.59.51 0 1.02-.2 1.41-.59l7.78-7.78 2.81-2.81c.8-.78.8-2.07 0-2.86zM5.41 20L4 18.59l7.72-7.72 1.47 1.35L5.41 20z\"/>\n",
              "  </svg>\n",
              "      </button>\n",
              "      \n",
              "  <style>\n",
              "    .colab-df-container {\n",
              "      display:flex;\n",
              "      flex-wrap:wrap;\n",
              "      gap: 12px;\n",
              "    }\n",
              "\n",
              "    .colab-df-convert {\n",
              "      background-color: #E8F0FE;\n",
              "      border: none;\n",
              "      border-radius: 50%;\n",
              "      cursor: pointer;\n",
              "      display: none;\n",
              "      fill: #1967D2;\n",
              "      height: 32px;\n",
              "      padding: 0 0 0 0;\n",
              "      width: 32px;\n",
              "    }\n",
              "\n",
              "    .colab-df-convert:hover {\n",
              "      background-color: #E2EBFA;\n",
              "      box-shadow: 0px 1px 2px rgba(60, 64, 67, 0.3), 0px 1px 3px 1px rgba(60, 64, 67, 0.15);\n",
              "      fill: #174EA6;\n",
              "    }\n",
              "\n",
              "    [theme=dark] .colab-df-convert {\n",
              "      background-color: #3B4455;\n",
              "      fill: #D2E3FC;\n",
              "    }\n",
              "\n",
              "    [theme=dark] .colab-df-convert:hover {\n",
              "      background-color: #434B5C;\n",
              "      box-shadow: 0px 1px 3px 1px rgba(0, 0, 0, 0.15);\n",
              "      filter: drop-shadow(0px 1px 2px rgba(0, 0, 0, 0.3));\n",
              "      fill: #FFFFFF;\n",
              "    }\n",
              "  </style>\n",
              "\n",
              "      <script>\n",
              "        const buttonEl =\n",
              "          document.querySelector('#df-f4af8f4c-4349-4b7f-a6e0-c67c2b759a05 button.colab-df-convert');\n",
              "        buttonEl.style.display =\n",
              "          google.colab.kernel.accessAllowed ? 'block' : 'none';\n",
              "\n",
              "        async function convertToInteractive(key) {\n",
              "          const element = document.querySelector('#df-f4af8f4c-4349-4b7f-a6e0-c67c2b759a05');\n",
              "          const dataTable =\n",
              "            await google.colab.kernel.invokeFunction('convertToInteractive',\n",
              "                                                     [key], {});\n",
              "          if (!dataTable) return;\n",
              "\n",
              "          const docLinkHtml = 'Like what you see? Visit the ' +\n",
              "            '<a target=\"_blank\" href=https://colab.research.google.com/notebooks/data_table.ipynb>data table notebook</a>'\n",
              "            + ' to learn more about interactive tables.';\n",
              "          element.innerHTML = '';\n",
              "          dataTable['output_type'] = 'display_data';\n",
              "          await google.colab.output.renderOutput(dataTable, element);\n",
              "          const docLink = document.createElement('div');\n",
              "          docLink.innerHTML = docLinkHtml;\n",
              "          element.appendChild(docLink);\n",
              "        }\n",
              "      </script>\n",
              "    </div>\n",
              "  </div>\n",
              "  "
            ]
          },
          "metadata": {},
          "execution_count": 24
        }
      ]
    },
    {
      "cell_type": "markdown",
      "source": [
        "First, we create the normal graph from edges.csv"
      ],
      "metadata": {
        "id": "Jmztu1ZRXX_8"
      },
      "id": "Jmztu1ZRXX_8"
    },
    {
      "cell_type": "code",
      "source": [
        "G_2 = nx.from_pandas_edgelist(edges, 'hero', 'comic')"
      ],
      "metadata": {
        "id": "0hyeZhevJ-M7"
      },
      "id": "0hyeZhevJ-M7",
      "execution_count": 25,
      "outputs": []
    },
    {
      "cell_type": "markdown",
      "source": [
        "Then we create two different list that contains only the name of heroes or comics"
      ],
      "metadata": {
        "id": "MMp2u0viXerK"
      },
      "id": "MMp2u0viXerK"
    },
    {
      "cell_type": "code",
      "source": [
        "n_h=nodes[nodes['type'] == 'hero']['node'].tolist()"
      ],
      "metadata": {
        "id": "V5CaHNyfVl2U"
      },
      "id": "V5CaHNyfVl2U",
      "execution_count": 26,
      "outputs": []
    },
    {
      "cell_type": "code",
      "source": [
        "n_c=nodes[nodes['type'] == 'comic']['node'].tolist()"
      ],
      "metadata": {
        "id": "12MvafjMWUlR"
      },
      "id": "12MvafjMWUlR",
      "execution_count": 27,
      "outputs": []
    },
    {
      "cell_type": "markdown",
      "source": [
        "Now we merge the two lists in a dictionary "
      ],
      "metadata": {
        "id": "zf1QuSc9Xpwx"
      },
      "id": "zf1QuSc9Xpwx"
    },
    {
      "cell_type": "code",
      "source": [
        "dict_heroes_comics = {key: 'hero' if key in n_h else 'comic' for key in n_c + n_h}"
      ],
      "metadata": {
        "id": "smcHUQTzWJtk"
      },
      "id": "smcHUQTzWJtk",
      "execution_count": 28,
      "outputs": []
    },
    {
      "cell_type": "markdown",
      "source": [
        "Finally we add at each node of the graph its type"
      ],
      "metadata": {
        "id": "ARYlmVHiXwvH"
      },
      "id": "ARYlmVHiXwvH"
    },
    {
      "cell_type": "code",
      "source": [
        "nx.set_node_attributes(G_2, dict_heroes_comics, 'type')"
      ],
      "metadata": {
        "id": "Mmb1fKJnTTHB"
      },
      "id": "Mmb1fKJnTTHB",
      "execution_count": 29,
      "outputs": []
    },
    {
      "cell_type": "code",
      "source": [
        "#nx.draw(G_2) # mi da errore, forse sono troppi nodi?\n",
        "#plt.show()"
      ],
      "metadata": {
        "id": "dlBR-8yeYyma"
      },
      "id": "dlBR-8yeYyma",
      "execution_count": 30,
      "outputs": []
    },
    {
      "cell_type": "markdown",
      "source": [
        "# 2. Backend Implementation"
      ],
      "metadata": {
        "id": "oR8k8QTjZLzb"
      },
      "id": "oR8k8QTjZLzb"
    },
    {
      "cell_type": "code",
      "source": [
        "def get_topN(N):\n",
        "  series=edges['hero'].value_counts()[0:N]\n",
        "  series_list=series.index.tolist()\n",
        "  return series_list"
      ],
      "metadata": {
        "id": "5fIQlNbk03Fj"
      },
      "id": "5fIQlNbk03Fj",
      "execution_count": 50,
      "outputs": []
    },
    {
      "cell_type": "code",
      "source": [
        "all_heroes=len(edges['hero'].value_counts())\n",
        "all_heroes"
      ],
      "metadata": {
        "id": "iOdrGSwW27q3"
      },
      "id": "iOdrGSwW27q3",
      "execution_count": 56,
      "outputs": []
    },
    {
      "cell_type": "code",
      "source": [
        "get_topN(10)"
      ],
      "metadata": {
        "colab": {
          "base_uri": "https://localhost:8080/"
        },
        "id": "G-BG0U6T2mPD",
        "outputId": "4fd4d512-9f4f-4479-ce05-dc66634225d0"
      },
      "id": "G-BG0U6T2mPD",
      "execution_count": 53,
      "outputs": [
        {
          "output_type": "execute_result",
          "data": {
            "text/plain": [
              "['SPIDER-MAN/PETER PARKER',\n",
              " 'CAPTAIN AMERICA',\n",
              " 'IRON MAN/TONY STARK',\n",
              " 'THING/BENJAMIN J. GR',\n",
              " 'THOR/DR. DONALD BLAK',\n",
              " 'HUMAN TORCH/JOHNNY S',\n",
              " 'MR. FANTASTIC/REED R',\n",
              " 'HULK/DR. ROBERT BRUC',\n",
              " 'WOLVERINE/LOGAN',\n",
              " 'INVISIBLE WOMAN/SUE']"
            ]
          },
          "metadata": {},
          "execution_count": 53
        }
      ]
    },
    {
      "cell_type": "code",
      "source": [
        "edges"
      ],
      "metadata": {
        "colab": {
          "base_uri": "https://localhost:8080/",
          "height": 424
        },
        "id": "AhHhqFQA0bM-",
        "outputId": "f9c742eb-f899-4f19-b2de-a68a831f8539"
      },
      "id": "AhHhqFQA0bM-",
      "execution_count": 33,
      "outputs": [
        {
          "output_type": "execute_result",
          "data": {
            "text/plain": [
              "                       hero     comic\n",
              "0      24-HOUR MAN/EMMANUEL    AA2 35\n",
              "1      3-D MAN/CHARLES CHAN     AVF 4\n",
              "2      3-D MAN/CHARLES CHAN     AVF 5\n",
              "3      3-D MAN/CHARLES CHAN     COC 1\n",
              "4      3-D MAN/CHARLES CHAN    H2 251\n",
              "...                     ...       ...\n",
              "96099                 ZZZAX    H2 326\n",
              "96100                 ZZZAX    H2 327\n",
              "96101                 ZZZAX  M/CP 8/4\n",
              "96102                 ZZZAX     PM 47\n",
              "96103                 ZZZAX   WCA2 12\n",
              "\n",
              "[96104 rows x 2 columns]"
            ],
            "text/html": [
              "\n",
              "  <div id=\"df-3cb74e0c-00a2-4ee9-8a1d-fb9cbd1c0e9e\">\n",
              "    <div class=\"colab-df-container\">\n",
              "      <div>\n",
              "<style scoped>\n",
              "    .dataframe tbody tr th:only-of-type {\n",
              "        vertical-align: middle;\n",
              "    }\n",
              "\n",
              "    .dataframe tbody tr th {\n",
              "        vertical-align: top;\n",
              "    }\n",
              "\n",
              "    .dataframe thead th {\n",
              "        text-align: right;\n",
              "    }\n",
              "</style>\n",
              "<table border=\"1\" class=\"dataframe\">\n",
              "  <thead>\n",
              "    <tr style=\"text-align: right;\">\n",
              "      <th></th>\n",
              "      <th>hero</th>\n",
              "      <th>comic</th>\n",
              "    </tr>\n",
              "  </thead>\n",
              "  <tbody>\n",
              "    <tr>\n",
              "      <th>0</th>\n",
              "      <td>24-HOUR MAN/EMMANUEL</td>\n",
              "      <td>AA2 35</td>\n",
              "    </tr>\n",
              "    <tr>\n",
              "      <th>1</th>\n",
              "      <td>3-D MAN/CHARLES CHAN</td>\n",
              "      <td>AVF 4</td>\n",
              "    </tr>\n",
              "    <tr>\n",
              "      <th>2</th>\n",
              "      <td>3-D MAN/CHARLES CHAN</td>\n",
              "      <td>AVF 5</td>\n",
              "    </tr>\n",
              "    <tr>\n",
              "      <th>3</th>\n",
              "      <td>3-D MAN/CHARLES CHAN</td>\n",
              "      <td>COC 1</td>\n",
              "    </tr>\n",
              "    <tr>\n",
              "      <th>4</th>\n",
              "      <td>3-D MAN/CHARLES CHAN</td>\n",
              "      <td>H2 251</td>\n",
              "    </tr>\n",
              "    <tr>\n",
              "      <th>...</th>\n",
              "      <td>...</td>\n",
              "      <td>...</td>\n",
              "    </tr>\n",
              "    <tr>\n",
              "      <th>96099</th>\n",
              "      <td>ZZZAX</td>\n",
              "      <td>H2 326</td>\n",
              "    </tr>\n",
              "    <tr>\n",
              "      <th>96100</th>\n",
              "      <td>ZZZAX</td>\n",
              "      <td>H2 327</td>\n",
              "    </tr>\n",
              "    <tr>\n",
              "      <th>96101</th>\n",
              "      <td>ZZZAX</td>\n",
              "      <td>M/CP 8/4</td>\n",
              "    </tr>\n",
              "    <tr>\n",
              "      <th>96102</th>\n",
              "      <td>ZZZAX</td>\n",
              "      <td>PM 47</td>\n",
              "    </tr>\n",
              "    <tr>\n",
              "      <th>96103</th>\n",
              "      <td>ZZZAX</td>\n",
              "      <td>WCA2 12</td>\n",
              "    </tr>\n",
              "  </tbody>\n",
              "</table>\n",
              "<p>96104 rows × 2 columns</p>\n",
              "</div>\n",
              "      <button class=\"colab-df-convert\" onclick=\"convertToInteractive('df-3cb74e0c-00a2-4ee9-8a1d-fb9cbd1c0e9e')\"\n",
              "              title=\"Convert this dataframe to an interactive table.\"\n",
              "              style=\"display:none;\">\n",
              "        \n",
              "  <svg xmlns=\"http://www.w3.org/2000/svg\" height=\"24px\"viewBox=\"0 0 24 24\"\n",
              "       width=\"24px\">\n",
              "    <path d=\"M0 0h24v24H0V0z\" fill=\"none\"/>\n",
              "    <path d=\"M18.56 5.44l.94 2.06.94-2.06 2.06-.94-2.06-.94-.94-2.06-.94 2.06-2.06.94zm-11 1L8.5 8.5l.94-2.06 2.06-.94-2.06-.94L8.5 2.5l-.94 2.06-2.06.94zm10 10l.94 2.06.94-2.06 2.06-.94-2.06-.94-.94-2.06-.94 2.06-2.06.94z\"/><path d=\"M17.41 7.96l-1.37-1.37c-.4-.4-.92-.59-1.43-.59-.52 0-1.04.2-1.43.59L10.3 9.45l-7.72 7.72c-.78.78-.78 2.05 0 2.83L4 21.41c.39.39.9.59 1.41.59.51 0 1.02-.2 1.41-.59l7.78-7.78 2.81-2.81c.8-.78.8-2.07 0-2.86zM5.41 20L4 18.59l7.72-7.72 1.47 1.35L5.41 20z\"/>\n",
              "  </svg>\n",
              "      </button>\n",
              "      \n",
              "  <style>\n",
              "    .colab-df-container {\n",
              "      display:flex;\n",
              "      flex-wrap:wrap;\n",
              "      gap: 12px;\n",
              "    }\n",
              "\n",
              "    .colab-df-convert {\n",
              "      background-color: #E8F0FE;\n",
              "      border: none;\n",
              "      border-radius: 50%;\n",
              "      cursor: pointer;\n",
              "      display: none;\n",
              "      fill: #1967D2;\n",
              "      height: 32px;\n",
              "      padding: 0 0 0 0;\n",
              "      width: 32px;\n",
              "    }\n",
              "\n",
              "    .colab-df-convert:hover {\n",
              "      background-color: #E2EBFA;\n",
              "      box-shadow: 0px 1px 2px rgba(60, 64, 67, 0.3), 0px 1px 3px 1px rgba(60, 64, 67, 0.15);\n",
              "      fill: #174EA6;\n",
              "    }\n",
              "\n",
              "    [theme=dark] .colab-df-convert {\n",
              "      background-color: #3B4455;\n",
              "      fill: #D2E3FC;\n",
              "    }\n",
              "\n",
              "    [theme=dark] .colab-df-convert:hover {\n",
              "      background-color: #434B5C;\n",
              "      box-shadow: 0px 1px 3px 1px rgba(0, 0, 0, 0.15);\n",
              "      filter: drop-shadow(0px 1px 2px rgba(0, 0, 0, 0.3));\n",
              "      fill: #FFFFFF;\n",
              "    }\n",
              "  </style>\n",
              "\n",
              "      <script>\n",
              "        const buttonEl =\n",
              "          document.querySelector('#df-3cb74e0c-00a2-4ee9-8a1d-fb9cbd1c0e9e button.colab-df-convert');\n",
              "        buttonEl.style.display =\n",
              "          google.colab.kernel.accessAllowed ? 'block' : 'none';\n",
              "\n",
              "        async function convertToInteractive(key) {\n",
              "          const element = document.querySelector('#df-3cb74e0c-00a2-4ee9-8a1d-fb9cbd1c0e9e');\n",
              "          const dataTable =\n",
              "            await google.colab.kernel.invokeFunction('convertToInteractive',\n",
              "                                                     [key], {});\n",
              "          if (!dataTable) return;\n",
              "\n",
              "          const docLinkHtml = 'Like what you see? Visit the ' +\n",
              "            '<a target=\"_blank\" href=https://colab.research.google.com/notebooks/data_table.ipynb>data table notebook</a>'\n",
              "            + ' to learn more about interactive tables.';\n",
              "          element.innerHTML = '';\n",
              "          dataTable['output_type'] = 'display_data';\n",
              "          await google.colab.output.renderOutput(dataTable, element);\n",
              "          const docLink = document.createElement('div');\n",
              "          docLink.innerHTML = docLinkHtml;\n",
              "          element.appendChild(docLink);\n",
              "        }\n",
              "      </script>\n",
              "    </div>\n",
              "  </div>\n",
              "  "
            ]
          },
          "metadata": {},
          "execution_count": 33
        }
      ]
    },
    {
      "cell_type": "code",
      "source": [
        "edges['hero'].value_counts()[0:10].index.tolist()"
      ],
      "metadata": {
        "colab": {
          "base_uri": "https://localhost:8080/"
        },
        "id": "nyy7tUaA0cD3",
        "outputId": "0a7d7997-2331-4701-cbd7-d4698681049f"
      },
      "id": "nyy7tUaA0cD3",
      "execution_count": 47,
      "outputs": [
        {
          "output_type": "execute_result",
          "data": {
            "text/plain": [
              "['SPIDER-MAN/PETER PARKER',\n",
              " 'CAPTAIN AMERICA',\n",
              " 'IRON MAN/TONY STARK',\n",
              " 'THING/BENJAMIN J. GR',\n",
              " 'THOR/DR. DONALD BLAK',\n",
              " 'HUMAN TORCH/JOHNNY S',\n",
              " 'MR. FANTASTIC/REED R',\n",
              " 'HULK/DR. ROBERT BRUC',\n",
              " 'WOLVERINE/LOGAN',\n",
              " 'INVISIBLE WOMAN/SUE']"
            ]
          },
          "metadata": {},
          "execution_count": 47
        }
      ]
    },
    {
      "cell_type": "code",
      "source": [
        "nx.density(G_1)"
      ],
      "metadata": {
        "colab": {
          "base_uri": "https://localhost:8080/"
        },
        "id": "jOpNte2Oz5uI",
        "outputId": "eae611d5-aab8-47db-e79d-e2d370bf124d"
      },
      "id": "jOpNte2Oz5uI",
      "execution_count": 32,
      "outputs": [
        {
          "output_type": "execute_result",
          "data": {
            "text/plain": [
              "0.008107160063285336"
            ]
          },
          "metadata": {},
          "execution_count": 32
        }
      ]
    },
    {
      "cell_type": "code",
      "source": [
        "def ex_features(G, G_type, N = all_heroes):\n",
        "  output={} # initialize the dict of outputs\n",
        "\n",
        "  if N == all_heroes: # if N is not set by the user, the function should consider the whole data\n",
        "    sub_g=G\n",
        "  else: # otherwise we select only the top n nodes\n",
        "    names_list=get_topN(N)\n",
        "    sub_g=G.subgraph(names_list)\n",
        "  \n",
        "  # The network's density\n",
        "  density = nx.density(sub_g)\n",
        "  output['Density']=density\n",
        "\n",
        "  # The average degree of the network\n",
        "  degrees=dict(sub_g.degree()).values()\n",
        "  avg_degree=sum(degrees)/len(degrees)\n",
        "  output['Average Degree']=avg_degree\n",
        "\n",
        "  # The network's degree distribution\n",
        "  degree_distr = nx.degree_histogram(sub_g)\n",
        "  output['Degree Distribution']=degree_distr\n",
        "\n",
        "  return output"
      ],
      "metadata": {
        "id": "a4GsM3KJZOj6"
      },
      "id": "a4GsM3KJZOj6",
      "execution_count": 128,
      "outputs": []
    },
    {
      "cell_type": "code",
      "source": [
        "ex_features(G_1, 1,20)"
      ],
      "metadata": {
        "colab": {
          "base_uri": "https://localhost:8080/"
        },
        "id": "Zo6QzmPv4iL-",
        "outputId": "52c27020-4cdb-43f6-85f4-34e2e3f9230a"
      },
      "id": "Zo6QzmPv4iL-",
      "execution_count": 129,
      "outputs": [
        {
          "output_type": "execute_result",
          "data": {
            "text/plain": [
              "{'Density': 1.0,\n",
              " 'Average Degree': 19.0,\n",
              " 'Degree Distribution': [0,\n",
              "  0,\n",
              "  0,\n",
              "  0,\n",
              "  0,\n",
              "  0,\n",
              "  0,\n",
              "  0,\n",
              "  0,\n",
              "  0,\n",
              "  0,\n",
              "  0,\n",
              "  0,\n",
              "  0,\n",
              "  0,\n",
              "  0,\n",
              "  0,\n",
              "  0,\n",
              "  0,\n",
              "  20]}"
            ]
          },
          "metadata": {},
          "execution_count": 129
        }
      ]
    },
    {
      "cell_type": "code",
      "source": [
        "dict(G_1.degree()).values()"
      ],
      "metadata": {
        "colab": {
          "base_uri": "https://localhost:8080/"
        },
        "id": "NC24srMy9AbE",
        "outputId": "f0c6307a-e164-4daa-9171-c59a6a6e4b17"
      },
      "id": "NC24srMy9AbE",
      "execution_count": 103,
      "outputs": [
        {
          "output_type": "execute_result",
          "data": {
            "text/plain": [
              "dict_values([5, 28, 35, 34, 122, 1070, 410, 406, 711, 920, 607, 1903, 138, 701, 1078, 329, 137, 481, 1065, 11, 1175, 11, 208, 254, 1236, 332, 539, 445, 124, 395, 18, 208, 522, 389, 370, 1032, 875, 228, 456, 1322, 718, 1071, 175, 51, 1416, 224, 176, 11, 201, 72, 352, 225, 246, 19, 167, 130, 393, 42, 922, 41, 144, 257, 57, 393, 1521, 920, 186, 425, 572, 423, 69, 380, 140, 76, 27, 1289, 19, 350, 128, 14, 8, 30, 8, 61, 71, 138, 8, 8, 8, 857, 829, 273, 8, 21, 21, 460, 1023, 316, 21, 206, 164, 537, 16, 8, 8, 967, 100, 442, 67, 130, 15, 56, 1265, 56, 610, 182, 28, 449, 102, 1377, 395, 1368, 11, 11, 133, 435, 641, 11, 333, 451, 10, 13, 16, 48, 48, 48, 52, 48, 65, 82, 48, 48, 48, 60, 123, 48, 68, 48, 48, 79, 56, 65, 57, 96, 48, 48, 48, 65, 187, 59, 119, 1082, 28, 20, 83, 344, 116, 23, 195, 10, 38, 153, 21, 33, 8, 304, 35, 81, 281, 541, 211, 162, 779, 67, 70, 1055, 142, 65, 176, 172, 187, 21, 33, 128, 13, 14, 91, 23, 242, 81, 135, 17, 180, 21, 26, 40, 73, 21, 692, 20, 17, 134, 67, 146, 38, 116, 311, 635, 76, 329, 45, 6, 44, 17, 667, 21, 20, 284, 1070, 977, 126, 534, 31, 420, 115, 175, 137, 800, 17, 72, 1031, 258, 6, 6, 105, 27, 21, 317, 21, 1361, 10, 10, 526, 41, 163, 126, 178, 114, 102, 144, 200, 32, 230, 42, 156, 185, 214, 366, 133, 585, 520, 66, 275, 139, 261, 21, 123, 41, 137, 175, 21, 46, 20, 236, 537, 740, 171, 74, 53, 177, 47, 531, 337, 130, 376, 648, 62, 232, 72, 497, 62, 319, 14, 86, 79, 296, 6, 116, 127, 56, 118, 397, 262, 402, 142, 989, 103, 27, 134, 38, 214, 465, 986, 282, 48, 39, 263, 157, 49, 268, 30, 414, 161, 324, 122, 258, 526, 48, 69, 42, 449, 125, 208, 21, 158, 62, 429, 6, 497, 283, 81, 104, 289, 184, 731, 59, 114, 218, 270, 643, 148, 122, 432, 151, 29, 6, 20, 1737, 411, 164, 27, 6, 166, 233, 349, 212, 191, 253, 59, 183, 57, 1238, 189, 142, 1091, 32, 69, 244, 228, 106, 34, 128, 152, 280, 102, 152, 189, 123, 100, 118, 302, 581, 86, 172, 46, 69, 253, 201, 208, 8, 21, 58, 91, 90, 8, 395, 87, 39, 20, 37, 8, 138, 28, 38, 65, 204, 60, 50, 98, 56, 68, 31, 169, 23, 28, 10, 57, 8, 16, 292, 18, 550, 28, 32, 43, 484, 45, 16, 86, 7, 85, 6, 15, 15, 15, 13, 29, 15, 15, 15, 29, 77, 142, 99, 14, 14, 25, 1003, 157, 189, 457, 8, 49, 7, 7, 118, 476, 263, 944, 56, 137, 241, 20, 20, 166, 516, 19, 9, 281, 10, 31, 87, 85, 179, 108, 25, 11, 489, 73, 439, 67, 142, 111, 85, 9, 132, 69, 48, 118, 18, 4, 4, 6, 9, 4, 45, 128, 99, 45, 31, 613, 11, 262, 26, 38, 64, 86, 200, 595, 679, 149, 280, 32, 93, 105, 355, 57, 66, 32, 244, 32, 58, 187, 53, 53, 32, 34, 78, 59, 28, 40, 206, 53, 355, 302, 12, 26, 438, 21, 123, 33, 36, 32, 67, 62, 23, 97, 74, 15, 352, 38, 20, 36, 64, 41, 31, 10, 83, 90, 60, 246, 39, 149, 98, 38, 66, 131, 49, 73, 51, 38, 42, 46, 488, 45, 10, 10, 31, 17, 44, 23, 46, 503, 48, 50, 277, 423, 39, 539, 96, 228, 222, 452, 66, 64, 60, 563, 298, 145, 89, 63, 81, 251, 106, 65, 250, 66, 11, 502, 19, 25, 17, 127, 65, 152, 235, 210, 275, 39, 211, 88, 32, 37, 28, 44, 51, 49, 15, 19, 16, 228, 37, 19, 12, 216, 27, 19, 393, 220, 29, 29, 29, 281, 28, 18, 24, 28, 18, 34, 23, 18, 28, 26, 149, 22, 397, 31, 29, 29, 26, 10, 444, 5, 5, 5, 82, 27, 5, 3, 17, 11, 152, 11, 11, 20, 18, 14, 40, 38, 73, 296, 11, 24, 27, 14, 146, 61, 32, 63, 84, 14, 299, 12, 25, 79, 9, 9, 37, 17, 359, 50, 203, 81, 82, 133, 74, 15, 78, 84, 17, 27, 15, 15, 15, 52, 88, 12, 20, 30, 18, 126, 83, 22, 20, 343, 16, 12, 107, 116, 56, 44, 17, 17, 2, 44, 192, 120, 171, 68, 67, 60, 62, 50, 46, 187, 67, 67, 43, 143, 58, 299, 30, 110, 122, 108, 81, 87, 10, 444, 10, 164, 10, 20, 20, 585, 21, 21, 14, 65, 44, 89, 213, 94, 167, 142, 84, 30, 63, 46, 175, 379, 85, 279, 20, 25, 43, 37, 63, 145, 79, 51, 54, 52, 50, 43, 50, 50, 439, 90, 147, 156, 69, 239, 50, 11, 85, 50, 108, 50, 43, 11, 11, 210, 2, 2, 14, 124, 2, 185, 51, 17, 19, 11, 46, 66, 27, 85, 85, 46, 27, 231, 140, 46, 35, 260, 71, 120, 44, 46, 69, 206, 70, 24, 29, 28, 47, 78, 20, 126, 29, 43, 47, 28, 34, 38, 81, 55, 384, 36, 19, 86, 32, 249, 49, 64, 19, 84, 95, 37, 76, 154, 28, 171, 16, 34, 170, 39, 159, 143, 94, 94, 138, 195, 304, 185, 60, 365, 277, 39, 69, 217, 330, 257, 39, 148, 420, 210, 167, 279, 244, 294, 104, 161, 35, 28, 142, 19, 196, 35, 17, 78, 310, 41, 140, 59, 323, 45, 15, 117, 16, 11, 139, 12, 37, 17, 40, 73, 13, 13, 37, 23, 40, 15, 83, 238, 15, 54, 17, 15, 5, 5, 5, 8, 120, 5, 5, 27, 5, 13, 20, 20, 84, 126, 87, 87, 20, 87, 42, 28, 58, 394, 130, 130, 370, 91, 28, 13, 28, 8, 13, 6, 38, 21, 205, 70, 38, 120, 137, 41, 191, 29, 209, 206, 398, 73, 73, 190, 55, 40, 106, 104, 25, 12, 25, 221, 112, 25, 25, 41, 25, 25, 25, 25, 25, 41, 25, 43, 15, 16, 39, 50, 44, 87, 18, 333, 91, 48, 56, 169, 70, 15, 16, 16, 76, 12, 68, 44, 61, 15, 10, 5, 178, 12, 105, 234, 242, 38, 87, 302, 82, 29, 50, 190, 117, 265, 29, 76, 7, 125, 73, 7, 37, 11, 11, 35, 19, 11, 27, 38, 11, 17, 70, 49, 49, 79, 28, 128, 11, 39, 79, 25, 18, 299, 228, 30, 22, 93, 59, 68, 36, 35, 58, 43, 32, 35, 38, 52, 35, 33, 24, 24, 32, 32, 35, 66, 36, 46, 52, 11, 8, 301, 15, 25, 41, 51, 13, 123, 266, 191, 55, 33, 14, 14, 38, 103, 33, 8, 13, 14, 300, 6, 7, 71, 13, 377, 9, 200, 16, 12, 96, 93, 19, 50, 59, 34, 23, 44, 45, 18, 35, 26, 11, 60, 145, 350, 23, 140, 221, 13, 52, 73, 65, 35, 21, 38, 72, 38, 88, 169, 43, 20, 12, 11, 12, 21, 13, 43, 149, 12, 18, 6, 6, 6, 6, 21, 21, 21, 21, 142, 21, 21, 132, 124, 15, 109, 108, 15, 40, 61, 18, 127, 53, 180, 67, 133, 79, 183, 206, 115, 164, 7, 101, 9, 18, 7, 236, 15, 75, 71, 7, 29, 7, 7, 8, 25, 182, 7, 106, 62, 68, 9, 9, 4, 4, 14, 196, 252, 28, 145, 40, 55, 125, 18, 23, 23, 18, 18, 18, 18, 33, 18, 18, 27, 121, 120, 54, 59, 98, 18, 18, 58, 93, 63, 52, 78, 77, 85, 68, 152, 32, 46, 78, 31, 13, 78, 48, 142, 15, 60, 13, 27, 169, 20, 42, 84, 70, 166, 139, 77, 152, 29, 59, 157, 71, 41, 82, 80, 14, 87, 333, 41, 39, 78, 235, 65, 119, 92, 94, 171, 49, 70, 56, 66, 59, 84, 44, 60, 44, 58, 56, 47, 84, 70, 56, 86, 44, 70, 14, 57, 140, 119, 184, 80, 143, 106, 77, 187, 136, 85, 111, 73, 44, 105, 42, 135, 229, 74, 44, 8, 91, 49, 39, 238, 21, 41, 53, 50, 334, 23, 14, 47, 118, 44, 44, 76, 56, 45, 25, 71, 42, 44, 77, 64, 90, 151, 201, 222, 31, 55, 335, 39, 52, 127, 151, 47, 96, 204, 123, 110, 58, 73, 123, 27, 134, 49, 16, 19, 3, 3, 20, 13, 13, 13, 13, 20, 13, 20, 20, 20, 30, 20, 20, 18, 20, 19, 18, 24, 6, 13, 44, 6, 5, 6, 6, 4, 26, 93, 225, 321, 6, 14, 11, 27, 60, 27, 124, 124, 67, 72, 27, 27, 27, 65, 27, 41, 27, 27, 65, 18, 34, 89, 25, 27, 26, 11, 5, 5, 49, 14, 90, 31, 148, 15, 49, 33, 14, 72, 23, 23, 60, 64, 15, 16, 14, 30, 17, 14, 14, 15, 15, 42, 26, 50, 69, 20, 15, 15, 79, 138, 54, 92, 238, 54, 34, 100, 159, 11, 11, 135, 12, 11, 145, 74, 5, 59, 43, 14, 250, 190, 14, 25, 195, 37, 135, 26, 119, 120, 55, 66, 80, 42, 9, 25, 25, 61, 25, 79, 121, 25, 407, 15, 58, 43, 28, 16, 47, 13, 42, 13, 446, 28, 14, 37, 25, 134, 53, 286, 23, 131, 18, 141, 37, 188, 51, 73, 94, 15, 61, 86, 31, 13, 29, 421, 19, 34, 162, 183, 97, 74, 13, 146, 13, 14, 49, 18, 204, 9, 9, 39, 9, 34, 39, 61, 113, 117, 3, 17, 12, 13, 14, 41, 39, 69, 198, 24, 64, 67, 62, 94, 44, 95, 20, 51, 36, 128, 36, 21, 118, 30, 96, 14, 47, 79, 41, 34, 35, 96, 24, 24, 17, 10, 3, 282, 92, 70, 61, 43, 23, 20, 68, 36, 10, 32, 13, 120, 131, 18, 197, 66, 22, 42, 53, 17, 173, 45, 39, 26, 68, 234, 11, 139, 17, 28, 129, 13, 206, 70, 29, 144, 200, 129, 77, 21, 20, 12, 126, 43, 35, 49, 25, 182, 94, 233, 30, 31, 29, 19, 20, 20, 94, 31, 8, 29, 55, 32, 300, 24, 38, 110, 68, 51, 23, 8, 15, 29, 107, 14, 153, 59, 29, 77, 60, 26, 68, 36, 81, 77, 100, 75, 40, 47, 34, 73, 20, 117, 117, 32, 226, 64, 271, 25, 9, 22, 123, 48, 72, 36, 118, 26, 89, 90, 20, 75, 25, 23, 117, 20, 24, 92, 120, 79, 4, 96, 45, 129, 21, 235, 99, 20, 78, 28, 141, 23, 71, 10, 8, 15, 11, 212, 45, 30, 34, 17, 30, 41, 59, 33, 78, 143, 77, 30, 33, 184, 38, 26, 141, 80, 65, 12, 195, 164, 22, 46, 80, 45, 29, 52, 44, 33, 171, 10, 38, 50, 24, 111, 16, 79, 10, 12, 296, 98, 79, 113, 50, 161, 282, 94, 30, 158, 108, 100, 31, 80, 32, 92, 64, 81, 108, 96, 11, 69, 101, 145, 42, 228, 111, 77, 12, 100, 59, 108, 162, 55, 58, 39, 47, 23, 66, 112, 226, 79, 92, 134, 11, 49, 36, 61, 32, 32, 172, 81, 48, 32, 24, 53, 68, 30, 23, 9, 64, 29, 26, 20, 125, 97, 73, 82, 128, 19, 101, 425, 100, 26, 113, 46, 65, 119, 46, 29, 33, 19, 43, 24, 74, 114, 11, 97, 108, 10, 25, 20, 15, 58, 9, 55, 20, 165, 371, 156, 130, 215, 12, 76, 68, 151, 50, 24, 111, 69, 11, 45, 24, 23, 78, 8, 72, 26, 84, 64, 62, 47, 122, 193, 20, 20, 85, 68, 19, 128, 47, 122, 131, 104, 5, 31, 5, 28, 64, 95, 37, 105, 152, 6, 7, 70, 86, 42, 91, 55, 74, 24, 20, 61, 76, 9, 23, 15, 15, 7, 5, 5, 10, 24, 24, 139, 3, 48, 60, 50, 126, 68, 120, 114, 28, 12, 142, 18, 175, 77, 10, 20, 86, 86, 141, 65, 12, 26, 69, 27, 140, 40, 71, 80, 72, 76, 23, 106, 60, 107, 243, 110, 8, 255, 9, 56, 23, 39, 13, 88, 13, 9, 2, 73, 138, 80, 16, 78, 19, 75, 14, 23, 25, 94, 94, 83, 14, 80, 98, 56, 22, 139, 30, 10, 89, 6, 43, 37, 27, 44, 88, 36, 57, 13, 73, 73, 21, 6, 14, 150, 2, 66, 127, 110, 11, 23, 22, 127, 58, 55, 90, 64, 136, 23, 18, 45, 49, 27, 22, 45, 92, 23, 61, 79, 42, 45, 11, 25, 89, 16, 57, 49, 22, 34, 80, 27, 60, 38, 106, 29, 20, 24, 13, 13, 42, 50, 41, 45, 258, 25, 19, 15, 109, 56, 30, 30, 3, 55, 39, 35, 181, 46, 31, 106, 39, 68, 87, 71, 146, 261, 40, 103, 27, 38, 11, 24, 29, 29, 102, 11, 27, 33, 102, 44, 39, 147, 78, 34, 49, 13, 24, 61, 41, 24, 62, 37, 12, 44, 102, 36, 130, 34, 14, 68, 27, 57, 33, 23, 24, 46, 17, 30, 55, 24, 89, 47, 122, 72, 18, 32, 26, 54, 19, 67, 29, 136, 49, 27, 17, 27, 42, 53, 24, 89, 22, 89, 83, 84, 42, 27, 41, 10, 8, 70, 70, 42, 35, 5, 65, 18, 26, 119, 90, 30, 35, 122, 49, 38, 147, 59, 30, 42, 21, 48, 82, 13, 44, 40, 35, 76, 107, 42, 94, 16, 102, 73, 24, 26, 68, 38, 57, 46, 90, 49, 27, 28, 95, 63, 73, 14, 24, 31, 21, 11, 31, 11, 98, 37, 14, 29, 89, 12, 72, 27, 36, 21, 118, 28, 34, 53, 35, 61, 14, 33, 25, 78, 23, 120, 17, 24, 29, 11, 109, 147, 35, 27, 27, 36, 18, 61, 123, 61, 48, 25, 27, 79, 16, 57, 55, 11, 35, 54, 100, 66, 76, 40, 34, 9, 19, 66, 29, 49, 71, 136, 156, 153, 30, 36, 88, 49, 36, 66, 17, 142, 25, 51, 27, 90, 22, 50, 74, 24, 5, 92, 42, 8, 34, 11, 24, 26, 45, 8, 148, 24, 16, 69, 68, 29, 2, 65, 17, 28, 18, 13, 84, 120, 60, 84, 17, 28, 66, 8, 18, 8, 9, 9, 2, 18, 18, 50, 97, 36, 24, 20, 23, 23, 20, 19, 19, 13, 13, 13, 86, 13, 13, 83, 13, 10, 10, 52, 12, 77, 65, 42, 40, 10, 36, 45, 36, 23, 60, 20, 21, 21, 89, 81, 15, 81, 76, 88, 26, 15, 14, 33, 37, 15, 15, 21, 23, 38, 5, 68, 23, 18, 20, 31, 36, 199, 34, 53, 14, 58, 25, 23, 23, 7, 12, 81, 251, 72, 34, 158, 86, 188, 21, 97, 77, 12, 25, 25, 150, 25, 25, 46, 25, 30, 30, 35, 38, 41, 34, 41, 12, 86, 51, 8, 97, 9, 66, 10, 10, 69, 30, 17, 46, 29, 45, 44, 73, 83, 32, 9, 29, 2, 17, 73, 31, 39, 11, 11, 46, 14, 11, 15, 17, 42, 8, 31, 43, 111, 41, 46, 15, 31, 34, 32, 97, 50, 61, 48, 50, 87, 37, 35, 20, 29, 169, 20, 31, 20, 22, 27, 19, 30, 22, 22, 27, 25, 17, 34, 21, 31, 16, 21, 12, 18, 13, 34, 11, 31, 13, 13, 25, 11, 13, 31, 57, 25, 25, 7, 11, 11, 58, 51, 52, 8, 8, 21, 9, 8, 30, 29, 14, 34, 25, 40, 34, 37, 34, 31, 20, 23, 46, 23, 18, 20, 23, 27, 71, 72, 5, 25, 20, 30, 30, 28, 66, 5, 19, 35, 13, 13, 20, 10, 100, 17, 21, 10, 12, 12, 8, 10, 20, 8, 19, 27, 35, 18, 48, 13, 57, 9, 21, 14, 13, 19, 15, 19, 13, 8, 23, 8, 16, 21, 21, 110, 54, 22, 21, 14, 83, 77, 32, 69, 12, 17, 9, 150, 9, 36, 7, 7, 7, 31, 7, 19, 11, 18, 11, 15, 34, 109, 38, 105, 59, 39, 77, 56, 42, 41, 41, 52, 4, 86, 181, 33, 48, 52, 78, 79, 106, 33, 74, 162, 2, 47, 70, 28, 277, 5, 7, 7, 7, 7, 13, 7, 38, 38, 60, 38, 38, 38, 38, 64, 38, 8, 8, 8, 18, 81, 12, 13, 8, 21, 7, 7, 8, 8, 8, 8, 8, 6, 58, 45, 110, 39, 39, 38, 41, 38, 73, 41, 125, 33, 35, 109, 13, 62, 19, 91, 11, 11, 33, 67, 34, 47, 35, 55, 55, 19, 55, 55, 3, 30, 59, 57, 17, 40, 30, 35, 29, 15, 15, 28, 5, 4, 35, 25, 58, 4, 34, 26, 26, 40, 40, 40, 48, 40, 110, 24, 17, 18, 10, 8, 14, 17, 16, 11, 11, 15, 6, 10, 8, 56, 81, 80, 23, 69, 89, 16, 21, 46, 30, 3, 9, 17, 15, 42, 17, 9, 69, 61, 45, 26, 37, 21, 20, 21, 33, 176, 63, 29, 150, 27, 43, 71, 81, 21, 40, 31, 136, 49, 35, 89, 57, 35, 98, 112, 53, 113, 47, 96, 47, 15, 15, 15, 15, 20, 15, 15, 20, 206, 21, 54, 89, 89, 14, 67, 24, 15, 43, 114, 19, 19, 31, 31, 110, 18, 47, 37, 50, 34, 42, 20, 48, 42, 28, 25, 19, 54, 12, 21, 32, 89, 60, 31, 54, 31, 17, 39, 54, 34, 54, 117, 30, 18, 21, 77, 56, 62, 10, 21, 21, 10, 21, 39, 33, 28, 10, 46, 22, 28, 22, 10, 163, 21, 28, 44, 44, 22, 28, 43, 28, 22, 21, 9, 59, 9, 9, 9, 9, 10, 39, 9, 10, 14, 10, 54, 34, 110, 60, 34, 10, 10, 44, 39, 164, 166, 13, 12, 44, 38, 54, 69, 28, 27, 34, 13, 27, 75, 61, 88, 33, 15, 34, 20, 29, 47, 64, 15, 17, 17, 48, 58, 69, 22, 39, 15, 13, 17, 17, 26, 16, 9, 54, 99, 5, 1, 8, 8, 6, 5, 5, 6, 41, 6, 6, 6, 6, 6, 51, 20, 64, 26, 22, 23, 22, 23, 19, 15, 17, 22, 13, 39, 18, 19, 6, 5, 25, 19, 54, 39, 24, 48, 13, 12, 24, 33, 17, 17, 12, 13, 26, 26, 38, 35, 40, 40, 7, 12, 29, 66, 31, 35, 42, 8, 21, 34, 18, 5, 42, 11, 45, 13, 31, 29, 10, 37, 33, 25, 22, 78, 30, 14, 66, 18, 25, 24, 44, 101, 10, 18, 64, 32, 5, 28, 4, 79, 3, 65, 23, 6, 91, 12, 18, 12, 12, 38, 20, 15, 18, 33, 20, 20, 23, 25, 16, 16, 16, 16, 40, 56, 26, 27, 20, 11, 32, 30, 18, 15, 26, 18, 3, 10, 10, 4, 25, 68, 7, 13, 6, 23, 22, 5, 20, 9, 11, 13, 9, 63, 22, 33, 9, 8, 39, 11, 16, 23, 14, 44, 30, 130, 13, 21, 16, 11, 29, 11, 6, 13, 29, 9, 9, 10, 84, 12, 14, 24, 51, 79, 48, 43, 17, 55, 13, 8, 13, 14, 7, 22, 17, 20, 32, 17, 29, 33, 27, 60, 9, 44, 19, 18, 15, 59, 20, 16, 23, 40, 30, 17, 14, 43, 13, 48, 72, 11, 95, 16, 36, 181, 26, 49, 17, 23, 17, 18, 53, 14, 57, 25, 29, 6, 17, 65, 23, 41, 17, 23, 24, 14, 8, 21, 35, 85, 50, 11, 11, 17, 19, 84, 28, 17, 24, 23, 35, 25, 11, 24, 11, 11, 12, 16, 16, 5, 5, 5, 9, 27, 18, 9, 9, 48, 38, 11, 11, 11, 39, 14, 29, 10, 15, 14, 15, 60, 28, 59, 16, 36, 24, 46, 33, 41, 7, 8, 7, 7, 8, 6, 9, 11, 24, 11, 8, 18, 59, 22, 9, 56, 17, 15, 9, 5, 15, 23, 25, 12, 13, 21, 18, 15, 42, 18, 11, 24, 4, 21, 46, 33, 36, 9, 40, 52, 101, 9, 37, 9, 26, 23, 12, 21, 19, 11, 22, 11, 18, 48, 13, 13, 17, 30, 19, 36, 13, 25, 17, 36, 36, 35, 26, 7, 12, 9, 31, 9, 8, 8, 11, 20, 20, 20, 15, 9, 9, 18, 7, 8, 11, 24, 59, 10, 118, 36, 30, 11, 11, 11, 12, 12, 35, 10, 20, 10, 18, 22, 22, 37, 24, 39, 59, 14, 51, 46, 29, 60, 18, 145, 13, 37, 24, 19, 28, 14, 12, 17, 17, 13, 11, 79, 8, 23, 83, 64, 8, 38, 33, 36, 22, 49, 48, 49, 23, 32, 23, 15, 15, 33, 22, 27, 15, 15, 15, 13, 3, 33, 14, 15, 4, 16, 18, 3, 92, 9, 11, 21, 27, 32, 70, 28, 39, 12, 28, 12, 77, 21, 8, 9, 49, 8, 8, 59, 11, 93, 25, 35, 27, 59, 15, 21, 18, 34, 19, 20, 19, 28, 8, 13, 73, 16, 14, 53, 53, 15, 4, 21, 33, 21, 56, 18, 8, 14, 9, 21, 27, 7, 10, 19, 12, 30, 10, 73, 22, 9, 19, 8, 21, 26, 54, 52, 11, 105, 13, 17, 47, 9, 9, 14, 8, 36, 11, 40, 10, 8, 8, 8, 10, 36, 9, 9, 73, 40, 12, 36, 98, 18, 21, 54, 18, 23, 25, 26, 4, 4, 4, 4, 2, 2, 37, 36, 23, 15, 15, 12, 8, 10, 10, 14, 8, 67, 30, 15, 15, 41, 24, 23, 10, 37, 10, 7, 18, 16, 18, 9, 9, 31, 62, 43, 15, 20, 40, 46, 32, 46, 46, 39, 69, 15, 27, 27, 48, 22, 38, 53, 22, 39, 16, 15, 16, 48, 34, 9, 17, 34, 22, 11, 13, 15, 24, 13, 30, 11, 30, 22, 90, 16, 26, 38, 22, 27, 50, 21, 36, 53, 17, 43, 17, 13, 22, 15, 50, 21, 44, 43, 27, 18, 11, 13, 11, 12, 59, 44, 12, 61, 12, 19, 12, 12, 10, 11, 15, 6, 16, 9, 9, 12, 4, 52, 9, 9, 26, 36, 29, 29, 29, 29, 27, 29, 6, 42, 16, 27, 16, 24, 71, 52, 52, 46, 52, 8, 8, 8, 8, 8, 8, 11, 14, 33, 6, 16, 18, 14, 7, 7, 16, 9, 12, 34, 5, 11, 13, 23, 12, 14, 11, 12, 5, 7, 20, 11, 19, 5, 5, 9, 46, 12, 6, 16, 30, 11, 21, 13, 25, 48, 48, 48, 48, 71, 48, 76, 69, 48, 21, 21, 17, 17, 21, 17, 12, 12, 16, 43, 21, 39, 27, 67, 30, 19, 24, 24, 19, 24, 21, 24, 19, 19, 17, 16, 30, 21, 51, 9, 15, 25, 11, 15, 9, 35, 27, 15, 15, 18, 25, 13, 42, 13, 13, 13, 26, 14, 30, 8, 15, 29, 21, 37, 64, 41, 12, 30, 37, 12, 53, 55, 25, 55, 55, 56, 25, 52, 28, 56, 11, 20, 38, 41, 25, 17, 11, 6, 13, 36, 54, 46, 11, 11, 14, 39, 57, 40, 13, 8, 73, 62, 10, 17, 37, 37, 64, 101, 80, 83, 40, 75, 58, 58, 58, 58, 64, 79, 4, 73, 31, 29, 26, 27, 33, 11, 49, 33, 11, 10, 41, 12, 40, 26, 11, 17, 13, 157, 40, 29, 17, 11, 14, 11, 48, 37, 11, 54, 128, 29, 7, 41, 23, 29, 11, 11, 17, 3, 15, 48, 31, 11, 11, 31, 24, 27, 29, 17, 7, 11, 22, 46, 63, 14, 9, 17, 18, 18, 7, 6, 80, 42, 51, 11, 21, 19, 28, 26, 38, 39, 33, 22, 41, 35, 16, 21, 31, 10, 6, 46, 40, 8, 29, 3, 16, 10, 10, 13, 10, 10, 15, 9, 19, 86, 20, 36, 27, 37, 7, 19, 25, 36, 19, 24, 28, 12, 17, 39, 17, 17, 42, 10, 55, 34, 44, 16, 19, 10, 20, 31, 59, 12, 17, 20, 68, 46, 34, 57, 7, 7, 7, 7, 7, 21, 62, 26, 5, 48, 6, 32, 13, 39, 24, 12, 11, 28, 7, 7, 11, 10, 12, 39, 22, 4, 53, 39, 39, 11, 11, 39, 41, 15, 27, 39, 5, 15, 40, 20, 9, 2, 13, 5, 2, 7, 17, 12, 15, 13, 9, 10, 17, 2, 60, 11, 7, 30, 49, 61, 28, 12, 15, 36, 58, 30, 15, 45, 21, 18, 18, 48, 28, 14, 18, 25, 4, 15, 15, 15, 17, 15, 15, 56, 7, 22, 16, 5, 29, 17, 12, 12, 19, 20, 5, 43, 11, 9, 10, 4, 23, 4, 20, 61, 17, 27, 48, 12, 20, 18, 37, 17, 17, 33, 16, 89, 17, 25, 15, 16, 22, 16, 49, 109, 6, 20, 16, 17, 31, 8, 13, 16, 4, 86, 1, 10, 2, 15, 9, 41, 41, 34, 25, 15, 11, 27, 23, 18, 21, 12, 17, 21, 17, 40, 12, 9, 15, 17, 33, 27, 23, 12, 12, 24, 5, 5, 5, 5, 19, 5, 11, 22, 10, 10, 19, 11, 6, 9, 15, 13, 19, 9, 9, 21, 8, 51, 12, 7, 25, 46, 3, 2, 4, 4, 4, 14, 7, 7, 42, 8, 14, 3, 14, 14, 14, 7, 14, 6, 16, 14, 42, 5, 8, 44, 29, 18, 4, 7, 4, 5, 10, 9, 16, 19, 11, 9, 8, 15, 10, 10, 10, 8, 20, 10, 11, 11, 64, 9, 16, 35, 34, 9, 11, 2, 2, 15, 17, 8, 10, 8, 10, 8, 10, 5, 25, 22, 22, 3, 13, 8, 6, 32, 5, 20, 8, 11, 17, 16, 29, 19, 13, 25, 22, 35, 25, 29, 9, 7, 17, 11, 61, 26, 33, 24, 14, 3, 8, 8, 8, 18, 30, 18, 29, 60, 24, 68, 1, 27, 17, 17, 17, 8, 33, 35, 16, 24, 31, 34, 13, 91, 14, 25, 17, 29, 17, 17, 16, 45, 13, 15, 15, 26, 15, 26, 26, 15, 22, 15, 26, 15, 10, 9, 14, 9, 9, 8, 13, 23, 23, 17, 17, 13, 11, 11, 11, 11, 27, 27, 25, 25, 25, 25, 25, 25, 25, 27, 25, 25, 18, 22, 10, 6, 10, 16, 15, 26, 28, 38, 20, 34, 22, 42, 26, 54, 17, 10, 14, 16, 14, 23, 20, 17, 59, 14, 38, 23, 23, 17, 14, 25, 24, 31, 20, 30, 31, 41, 43, 28, 50, 13, 40, 48, 27, 27, 11, 11, 11, 22, 26, 11, 28, 21, 10, 5, 5, 9, 32, 10, 26, 10, 8, 24, 24, 15, 15, 15, 10, 14, 26, 4, 41, 23, 22, 20, 13, 17, 20, 10, 15, 19, 19, 11, 20, 21, 30, 21, 13, 49, 12, 12, 12, 12, 12, 4, 4, 14, 27, 21, 8, 11, 18, 9, 20, 41, 16, 39, 8, 10, 10, 6, 10, 8, 6, 54, 9, 12, 12, 4, 12, 12, 29, 12, 42, 8, 6, 6, 8, 18, 22, 12, 12, 12, 10, 8, 13, 7, 8, 7, 7, 7, 7, 19, 9, 5, 4, 25, 11, 7, 11, 7, 15, 9, 11, 23, 15, 7, 36, 10, 12, 39, 54, 13, 13, 18, 12, 14, 39, 55, 39, 29, 14, 49, 14, 14, 20, 14, 14, 12, 12, 12, 3, 5, 11, 25, 41, 25, 29, 9, 9, 8, 5, 5, 2, 15, 15, 2, 32, 2, 27, 13, 27, 26, 39, 45, 26, 23, 10, 7, 28, 30, 10, 6, 20, 32, 14, 50, 4, 20, 9, 9, 9, 3, 3, 41, 22, 22, 38, 22, 22, 22, 22, 41, 33, 13, 41, 41, 22, 22, 21, 16, 18, 14, 48, 24, 24, 59, 16, 16, 16, 16, 16, 16, 16, 16, 16, 13, 21, 13, 9, 26, 11, 24, 6, 7, 55, 54, 18, 12, 13, 38, 7, 8, 13, 9, 5, 10, 16, 13, 39, 12, 12, 4, 10, 7, 13, 14, 16, 12, 36, 8, 23, 10, 10, 9, 12, 18, 20, 36, 11, 3, 37, 6, 43, 8, 8, 8, 9, 8, 8, 6, 27, 27, 24, 10, 10, 10, 10, 37, 9, 8, 28, 3, 45, 32, 10, 12, 20, 26, 10, 10, 36, 11, 23, 22, 11, 28, 10, 22, 8, 9, 6, 12, 37, 25, 13, 5, 37, 11, 11, 48, 13, 11, 12, 12, 7, 5, 21, 73, 3, 16, 16, 34, 4, 8, 4, 2, 2, 9, 9, 24, 16, 30, 39, 13, 30, 12, 33, 14, 16, 37, 102, 10, 8, 9, 12, 6, 4, 19, 8, 8, 20, 17, 25, 25, 21, 8, 6, 11, 11, 10, 14, 10, 10, 10, 10, 10, 10, 4, 14, 21, 30, 25, 7, 10, 21, 26, 4, 14, 10, 21, 8, 3, 20, 4, 13, 4, 13, 10, 12, 21, 3, 5, 15, 21, 2, 6, 19, 14, 11, 19, 12, 6, 7, 21, 17, 29, 9, 13, 18, 11, 15, 54, 7, 16, 13, 11, 10, 14, 28, 9, 7, 4, 20, 4, 5, 38, 10, 2, 14, 23, 2, 19, 8, 63, 39, 13, 9, 14, 4, 40, 31, 46, 10, 16, 11, 15, 15, 6, 6, 6, 22, 10, 14, 14, 3, 8, 9, 15, 30, 8, 20, 9, 7, 13, 20, 8, 8, 3, 20, 12, 22, 8, 13, 8, 8, 4, 9, 4, 5, 43, 12, 9, 16, 21, 6, 8, 6, 7, 7, 7, 7, 7, 10, 5, 5, 16, 7, 7, 7, 6, 30, 9, 15, 15, 15, 10, 10, 10, 10, 18, 13, 6, 10, 10, 14, 8, 8, 9, 19, 19, 5, 7, 26, 25, 26, 48, 15, 11, 10, 52, 18, 22, 9, 6, 8, 24, 6, 6, 6, 6, 5, 5, 5, 5, 48, 48, 15, 13, 13, 7, 32, 44, 3, 30, 12, 12, 7, 7, 7, 8, 9, 9, 8, 9, 9, 17, 24, 18, 18, 18, 17, 18, 18, 18, 18, 38, 38, 38, 38, 56, 21, 5, 21, 26, 7, 1, 15, 15, 15, 15, 15, 15, 25, 28, 16, 28, 12, 9, 11, 4, 12, 17, 23, 17, 17, 17, 10, 34, 4, 17, 9, 12, 18, 9, 16, 12, 17, 15, 15, 20, 18, 16, 16, 34, 34, 8, 16, 9, 16, 13, 11, 10, 15, 9, 4, 6, 19, 19, 22, 16, 6, 5, 5, 5, 5, 5, 23, 19, 15, 23, 12, 6, 38, 38, 10, 27, 6, 21, 6, 9, 8, 9, 13, 8, 9, 8, 11, 29, 20, 15, 9, 23, 17, 12, 7, 23, 17, 17, 17, 21, 12, 12, 11, 18, 14, 14, 17, 16, 3, 5, 14, 10, 16, 4, 13, 5, 8, 14, 8, 8, 11, 8, 10, 10, 54, 30, 5, 3, 20, 13, 24, 12, 24, 4, 7, 3, 12, 12, 7, 12, 14, 6, 11, 2, 18, 11, 21, 5, 5, 22, 6, 6, 11, 16, 9, 24, 13, 13, 10, 16, 25, 10, 39, 9, 11, 11, 11, 18, 18, 19, 2, 6, 6, 5, 8, 8, 8, 20, 9, 19, 16, 21, 19, 19, 16, 2, 11, 13, 11, 7, 27, 11, 11, 11, 35, 3, 11, 14, 21, 14, 13, 13, 13, 13, 13, 13, 13, 11, 26, 16, 15, 11, 15, 1, 16, 22, 6, 13, 22, 22, 22, 22, 2, 6, 11, 4, 19, 25, 6, 2, 11, 10, 4, 8, 15, 25, 25, 14, 9, 12, 12, 12, 10, 12, 23, 6, 3, 7, 8, 12, 6, 5, 5, 36, 14, 26, 7, 7, 6, 10, 22, 22, 9, 13, 20, 7, 7, 7, 8, 5, 6, 6, 6, 6, 10, 9, 10, 9, 9, 17, 12, 12, 12, 2, 3, 15, 9, 29, 14, 12, 20, 32, 14, 10, 9, 10, 21, 20, 11, 15, 7, 10, 7, 11, 9, 16, 11, 31, 19, 15, 9, 20, 59, 23, 12, 10, 16, 3, 12, 19, 21, 8, 20, 10, 25, 4, 3, 11, 14, 4, 26, 18, 7, 15, 10, 2, 17, 15, 13, 9, 19, 29, 3, 9, 10, 19, 12, 10, 10, 10, 11, 16, 9, 12, 9, 3, 16, 14, 4, 6, 8, 6, 26, 12, 13, 9, 10, 10, 8, 4, 16, 15, 10, 13, 32, 9, 1, 20, 2, 5, 18, 14, 14, 14, 5, 6, 11, 8, 4, 14, 22, 31, 12, 8, 16, 8, 23, 6, 19, 24, 24, 24, 24, 24, 19, 20, 10, 12, 23, 34, 19, 12, 11, 4, 14, 39, 39, 12, 8, 12, 9, 9, 12, 10, 10, 23, 9, 30, 33, 1, 9, 8, 11, 11, 22, 13, 13, 6, 10, 15, 7, 7, 10, 11, 7, 7, 7, 58, 15, 3, 5, 4, 5, 3, 8, 18, 6, 9, 11, 11, 32, 24, 15, 9, 9, 9, 10, 5, 5, 10, 8, 11, 1, 11, 11, 11, 11, 11, 12, 12, 12, 19, 12, 15, 8, 10, 3, 3, 7, 9, 9, 4, 3, 15, 15, 19, 20, 16, 10, 6, 4, 4, 6, 6, 8, 8, 11, 11, 11, 11, 12, 11, 9, 11, 13, 14, 9, 8, 10, 9, 6, 4, 8, 6, 9, 8, 8, 14, 7, 14, 8, 4, 4, 4, 9, 9, 5, 7, 7, 14, 16, 9, 7, 5, 7, 5, 5, 11, 14, 14, 5, 5, 5, 10, 14, 48, 1, 10, 13, 22, 18, 10, 9, 9, 9, 2, 8, 18, 9, 17, 18, 5, 5, 6, 5, 3, 6, 15, 9, 19, 15, 11, 4, 10, 34, 19, 34, 10, 10, 14, 12, 21, 7, 1, 10, 5, 10, 7, 7, 8, 7, 6, 7, 13, 6, 25, 18, 20, 13, 5, 5, 6, 6, 23, 13, 4, 12, 10, 13, 13, 13, 1, 9, 9, 9, 9, 8, 9, 1, 14, 4, 14, 5, 4, 17, 17, 17, 6, 6, 5, 7, 7, 7, 11, 9, 2, 9, 11, 25, 8, 8, 12, 12, 12, 4, 3, 3, 3, 8, 7, 12, 12, 6, 6, 6, 6, 7, 6, 15, 19, 16, 10, 5, 38, 11, 11, 14, 3, 3, 11, 11, 48, 7, 6, 6, 11, 1, 10, 10, 21, 58, 8, 8, 8, 10, 10, 10, 10, 13, 9, 26, 5, 10, 13, 13, 23, 23, 8, 3, 18, 4, 16, 20, 20, 7, 10, 11, 3, 15, 10, 7, 10, 13, 8, 11, 13, 13, 19, 19, 22, 12, 25, 11, 11, 11, 9, 1, 8, 7, 22, 13, 13, 19, 8, 10, 1, 14, 27, 4, 25, 11, 7, 8, 25, 28, 10, 14, 10, 3, 3, 3, 15, 15, 20, 17, 2, 11, 8, 6, 4, 15, 15, 14, 11, 14, 6, 13, 13, 13, 6, 4, 5, 5, 3, 2, 12, 4, 6, 11, 3, 3, 7, 21, 10, 10, 10, 11, 3, 3, 4, 4, 5, 14, 19, 10, 6, 6, 11, 15, 15, 6, 5, 9, 12, 7, 3, 3, 9, 11, 3, 5, 7, 8, 10, 5, 15, 33, 5, 14, 14, 11, 6, 11, 5, 10, 7, 5, 17, 6, 3, 8, 6, 16, 20, 8, 12, 17, 17, 17, 17, 4, 14, 9, 4, 5, 1, 11, 11, 26, 14, 14, 30, 8, 13, 7, 7, 4, 16, 26, 12, 6, 6, 7, 4, 10, 10, 8, 15, 12, 10, 12, 9, 11, 20, 4, 13, 11, 1, 4, 4, 4, 6, 5, 12, 16, 28, 18, 21, 8, 27, 4, 6, 9, 9, 1, 2, 5, 5, 1, 15, 10, 15, 8, 8, 14, 14, 18, 13, 7, 24, 12, 4, 11, 30, 20, 20, 5, 6, 14, 23, 2, 13, 4, 10, 11, 6, 10, 25, 2, 7, 7, 6, 13, 10, 24, 25, 10, 12, 17, 11, 11, 13, 15, 12, 10, 14, 19, 19, 19, 3, 14, 12, 8, 7, 19, 9, 3, 11, 9, 3, 3, 9, 10, 8, 8, 8, 5, 4, 9, 7, 2, 13, 18, 14, 4, 4, 4, 13, 10, 6, 2, 10, 10, 10, 10, 5, 5, 10, 12, 18, 14, 15, 25, 5, 5, 5, 5, 4, 3, 24, 1, 10, 15, 8, 10, 3, 3, 3, 20, 14, 6, 6, 4, 8, 7, 14, 4, 4, 4, 4, 7, 7, 7, 1, 2, 8, 13, 16, 9, 2, 1, 3, 1, 9, 5, 1, 10, 2, 1, 7, 10, 9, 6, 2, 8, 7, 6, 6, 7, 9, 8, 8, 17, 6, 23, 10, 5, 5, 5, 9, 4, 4, 4, 7, 9, 5, 6, 15, 9, 19, 19, 26, 7, 5, 11, 2, 12, 3, 13, 15, 5, 4, 5, 3, 6, 10, 7, 6, 5, 15, 13, 13, 10, 14, 5, 4, 4, 2, 10, 13, 5, 5, 3, 4, 11, 6, 8, 16, 7, 9, 6, 12, 23, 3, 3, 7, 9, 6, 11, 9, 9, 5, 2, 27, 10, 10, 8, 11, 4, 4, 3, 3, 4, 11, 2, 5, 19, 13, 17, 3, 2, 12, 8, 14, 7, 15, 2, 9, 10, 5, 5, 19, 2, 10, 4, 12, 12, 4, 4, 1, 2, 2, 7, 10, 10, 3, 8, 18, 2, 2, 9, 4, 5, 7, 5, 10, 4, 5, 5, 6, 12, 24, 13, 11, 8, 15, 18, 2, 2, 7, 9, 6, 7, 13, 6, 6, 9, 9, 9, 2, 5, 7, 7, 7, 12, 15, 7, 11, 8, 8, 19, 10, 6, 6, 7, 5, 8, 3, 4, 7, 7, 7, 15, 9, 15, 4, 39, 9, 9, 1, 20, 1, 3, 3, 3, 8, 11, 1, 4, 18, 13, 13, 13, 4, 11, 5, 3, 6, 4, 8, 16, 2, 8, 4, 7, 8, 8, 3, 3, 2, 9, 4, 6, 6, 6, 2, 2, 8, 4, 2, 8, 3, 17, 6, 4, 12, 5, 4, 1, 4, 11, 10, 2, 14, 1, 7, 5, 8, 8, 4, 4, 2, 3, 1, 4, 3, 7, 4, 6, 9, 7, 7, 7, 14, 3, 8, 6, 4, 4, 10, 6, 6, 6, 9, 2, 7, 5, 4, 16, 8, 9, 25, 17, 1, 5, 5, 4, 1, 11, 3, 2, 4, 5, 4, 10, 2, 1, 10, 10, 11, 11, 4, 2, 5, 5, 19, 4, 8, 2, 12, 9, 5, 5, 6, 6, 7, 1, 11, 3, 12, 9, 2, 2, 5, 8, 9, 15, 10, 10, 1, 5, 16, 14, 7, 17, 10, 10, 10, 6, 6, 13, 5, 5, 5, 4, 14, 2, 2, 6, 3, 7, 5, 7, 13, 1, 9, 1, 10, 6, 7, 7, 16, 10, 30, 17, 3, 11, 4, 3, 5, 5, 5, 7, 8, 6, 1, 38, 38, 17, 6, 4, 1, 1, 2, 2, 15, 25, 5, 5, 7, 1, 3, 7, 13, 13, 8, 1, 1, 2, 4, 2, 4, 3, 2, 2, 3, 1, 12, 10, 15, 15, 8, 11, 9, 2, 9, 1, 89, 8, 3, 7, 2, 11, 8, 5, 22, 1, 3, 5, 25, 1, 4, 4, 1, 6, 6, 5, 20, 4, 1, 1, 11, 5, 10])"
            ]
          },
          "metadata": {},
          "execution_count": 103
        }
      ]
    }
  ],
  "metadata": {
    "kernelspec": {
      "display_name": "Python 3 (ipykernel)",
      "language": "python",
      "name": "python3"
    },
    "language_info": {
      "codemirror_mode": {
        "name": "ipython",
        "version": 3
      },
      "file_extension": ".py",
      "mimetype": "text/x-python",
      "name": "python",
      "nbconvert_exporter": "python",
      "pygments_lexer": "ipython3",
      "version": "3.9.12"
    },
    "colab": {
      "provenance": [],
      "collapsed_sections": [
        "3a059ac1"
      ],
      "include_colab_link": true
    }
  },
  "nbformat": 4,
  "nbformat_minor": 5
}