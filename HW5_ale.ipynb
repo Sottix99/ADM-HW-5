{
  "cells": [
    {
      "cell_type": "markdown",
      "metadata": {
        "id": "view-in-github",
        "colab_type": "text"
      },
      "source": [
        "<a href=\"https://colab.research.google.com/github/Sottix99/ADM-HW5/blob/main/HW5_ale.ipynb\" target=\"_parent\"><img src=\"https://colab.research.google.com/assets/colab-badge.svg\" alt=\"Open In Colab\"/></a>"
      ]
    },
    {
      "cell_type": "markdown",
      "id": "3a059ac1",
      "metadata": {
        "id": "3a059ac1"
      },
      "source": [
        "## Data Preprocessing"
      ]
    },
    {
      "cell_type": "code",
      "execution_count": 89,
      "id": "9d7f89fa",
      "metadata": {
        "id": "9d7f89fa"
      },
      "outputs": [],
      "source": [
        "import pandas as pd\n",
        "import networkx as nx\n",
        "import string \n",
        "import matplotlib.pyplot as plt\n",
        "import scipy"
      ]
    },
    {
      "cell_type": "code",
      "source": [
        "from google.colab import drive\n",
        "drive.mount('/content/drive')"
      ],
      "metadata": {
        "colab": {
          "base_uri": "https://localhost:8080/"
        },
        "id": "gshsSP4Y5Xd2",
        "outputId": "c067e1b4-6408-45f7-fee0-e64ea5c0249d"
      },
      "id": "gshsSP4Y5Xd2",
      "execution_count": 2,
      "outputs": [
        {
          "output_type": "stream",
          "name": "stdout",
          "text": [
            "Mounted at /content/drive\n"
          ]
        }
      ]
    },
    {
      "cell_type": "code",
      "execution_count": 4,
      "id": "570e34c8",
      "metadata": {
        "id": "570e34c8"
      },
      "outputs": [],
      "source": [
        "edges = pd.read_csv('/content/drive/MyDrive/hw 5 ADM/edges.csv')"
      ]
    },
    {
      "cell_type": "code",
      "execution_count": 28,
      "id": "6457d16b",
      "metadata": {
        "id": "6457d16b"
      },
      "outputs": [],
      "source": [
        "hero_network = pd.read_csv('/content/drive/MyDrive/hw 5 ADM/hero-network.csv')"
      ]
    },
    {
      "cell_type": "code",
      "execution_count": 6,
      "id": "923f80c4",
      "metadata": {
        "id": "923f80c4"
      },
      "outputs": [],
      "source": [
        "nodes = pd.read_csv('/content/drive/MyDrive/hw 5 ADM/nodes.csv')"
      ]
    },
    {
      "cell_type": "markdown",
      "id": "57ac2bc7",
      "metadata": {
        "id": "57ac2bc7"
      },
      "source": [
        "Some of the heroes' names in 'hero-network.csv' are not found in 'edges.csv'. This inconsistency exists for the following reasons:\n",
        "\n",
        "Some heroes' names in 'hero-netowrk.csv' have extra spaces at the end of their names compared to their names in 'edges.csv'.\n",
        "Some heroes' names in 'hero-netowrk.csv' have an extra '/' at the end of their names compared to their names in 'edges.csv'.\n",
        "The hero name 'SPIDER-MAN/PETER PARKER' in 'edges.csv' has been changed to 'SPIDER-MAN/PETER PAR' in 'hero-network.csv' due to a string length limit in 'hero-network.csv'."
      ]
    },
    {
      "cell_type": "code",
      "execution_count": 29,
      "id": "3e488a1f",
      "metadata": {
        "id": "3e488a1f"
      },
      "outputs": [],
      "source": [
        "#Removing extra spaces at the end of the hero name\n",
        "hero_network['hero1'] = hero_network['hero1'].apply(lambda x: x.rstrip())\n",
        "hero_network['hero2'] = hero_network['hero2'].apply(lambda x: x.rstrip())"
      ]
    },
    {
      "cell_type": "code",
      "execution_count": 30,
      "id": "54113bca",
      "metadata": {
        "id": "54113bca"
      },
      "outputs": [],
      "source": [
        "#Replace 'SPIDER-MAN/PETER PAR' with 'SPIDER-MAN/PETER PARKER'\n",
        "hero_network.replace({'SPIDER-MAN/PETER PAR': 'SPIDER-MAN/PETER PARKER'}, inplace = True)"
      ]
    },
    {
      "cell_type": "code",
      "execution_count": 31,
      "id": "80816b72",
      "metadata": {
        "id": "80816b72"
      },
      "outputs": [],
      "source": [
        "#Removing extra '/'\n",
        "hero_network['hero1'] = hero_network['hero1'].apply(lambda x: x.rstrip('/'))\n",
        "hero_network['hero2'] = hero_network['hero2'].apply(lambda x: x.rstrip('/'))\n",
        "edges['hero'] = edges['hero'].apply(lambda x: x.strip('/'))"
      ]
    },
    {
      "cell_type": "code",
      "execution_count": 32,
      "id": "8e5b5242",
      "metadata": {
        "id": "8e5b5242"
      },
      "outputs": [],
      "source": [
        "#After this we need to remove again the empty spaces at the end\n",
        "hero_network['hero1'] = hero_network['hero1'].apply(lambda x: x.rstrip())\n",
        "hero_network['hero2'] = hero_network['hero2'].apply(lambda x: x.rstrip())\n",
        "edges['hero'] = edges['hero'].apply(lambda x: x.rstrip())"
      ]
    },
    {
      "cell_type": "code",
      "execution_count": 33,
      "id": "3d0d7428",
      "metadata": {
        "colab": {
          "base_uri": "https://localhost:8080/"
        },
        "id": "3d0d7428",
        "outputId": "088862e0-4784-4b7f-83aa-56a68b13111c"
      },
      "outputs": [
        {
          "output_type": "execute_result",
          "data": {
            "text/plain": [
              "False"
            ]
          },
          "metadata": {},
          "execution_count": 33
        }
      ],
      "source": [
        "set(hero_network['hero1']).union(set(hero_network['hero2'])) == set(edges['hero'])"
      ]
    },
    {
      "cell_type": "code",
      "execution_count": 34,
      "id": "ec44abbc",
      "metadata": {
        "colab": {
          "base_uri": "https://localhost:8080/"
        },
        "id": "ec44abbc",
        "outputId": "87822d9e-ed60-4161-ad3c-1299621cd403"
      },
      "outputs": [
        {
          "output_type": "execute_result",
          "data": {
            "text/plain": [
              "set()"
            ]
          },
          "metadata": {},
          "execution_count": 34
        }
      ],
      "source": [
        "(set(hero_network['hero1']).union(set(hero_network['hero2']))).difference(set(edges['hero']))"
      ]
    },
    {
      "cell_type": "code",
      "execution_count": 35,
      "id": "a13b6150",
      "metadata": {
        "colab": {
          "base_uri": "https://localhost:8080/"
        },
        "id": "a13b6150",
        "outputId": "f1ed3e89-d6f5-43cc-b5ae-55342b4c40a2"
      },
      "outputs": [
        {
          "output_type": "execute_result",
          "data": {
            "text/plain": [
              "18"
            ]
          },
          "metadata": {},
          "execution_count": 35
        }
      ],
      "source": [
        "len(set(edges['hero']).difference(set(hero_network['hero1']).union(set(hero_network['hero2']))))"
      ]
    },
    {
      "cell_type": "markdown",
      "id": "de139bd2",
      "metadata": {
        "id": "de139bd2"
      },
      "source": [
        "### Removing duplicates"
      ]
    },
    {
      "cell_type": "code",
      "execution_count": 36,
      "id": "184108d8",
      "metadata": {
        "id": "184108d8"
      },
      "outputs": [],
      "source": [
        "hero_network.drop((hero_network[hero_network['hero1'] == hero_network['hero2']]).index, inplace = True)"
      ]
    },
    {
      "cell_type": "markdown",
      "source": [
        "### Create the graphs"
      ],
      "metadata": {
        "id": "xghWSDKI64PH"
      },
      "id": "xghWSDKI64PH"
    },
    {
      "cell_type": "code",
      "execution_count": 37,
      "id": "734e7279",
      "metadata": {
        "colab": {
          "base_uri": "https://localhost:8080/",
          "height": 424
        },
        "id": "734e7279",
        "outputId": "14f25484-0344-411c-85d5-7c55391c2816"
      },
      "outputs": [
        {
          "output_type": "execute_result",
          "data": {
            "text/plain": [
              "                       hero1                 hero2\n",
              "0              LITTLE, ABNER        PRINCESS ZANDA\n",
              "1              LITTLE, ABNER  BLACK PANTHER/T'CHAL\n",
              "2       BLACK PANTHER/T'CHAL        PRINCESS ZANDA\n",
              "3              LITTLE, ABNER        PRINCESS ZANDA\n",
              "4              LITTLE, ABNER  BLACK PANTHER/T'CHAL\n",
              "...                      ...                   ...\n",
              "574462  COLOSSUS II/PETER RA              CALLISTO\n",
              "574463              CALLISTO                 ROGUE\n",
              "574464              CALLISTO               CALIBAN\n",
              "574465               CALIBAN                 ROGUE\n",
              "574466  HULK/DR. ROBERT BRUC     MARKS, DR. SHIELA\n",
              "\n",
              "[572235 rows x 2 columns]"
            ],
            "text/html": [
              "\n",
              "  <div id=\"df-40f5c20e-81a1-4e2d-bec2-d7df9f0abc23\">\n",
              "    <div class=\"colab-df-container\">\n",
              "      <div>\n",
              "<style scoped>\n",
              "    .dataframe tbody tr th:only-of-type {\n",
              "        vertical-align: middle;\n",
              "    }\n",
              "\n",
              "    .dataframe tbody tr th {\n",
              "        vertical-align: top;\n",
              "    }\n",
              "\n",
              "    .dataframe thead th {\n",
              "        text-align: right;\n",
              "    }\n",
              "</style>\n",
              "<table border=\"1\" class=\"dataframe\">\n",
              "  <thead>\n",
              "    <tr style=\"text-align: right;\">\n",
              "      <th></th>\n",
              "      <th>hero1</th>\n",
              "      <th>hero2</th>\n",
              "    </tr>\n",
              "  </thead>\n",
              "  <tbody>\n",
              "    <tr>\n",
              "      <th>0</th>\n",
              "      <td>LITTLE, ABNER</td>\n",
              "      <td>PRINCESS ZANDA</td>\n",
              "    </tr>\n",
              "    <tr>\n",
              "      <th>1</th>\n",
              "      <td>LITTLE, ABNER</td>\n",
              "      <td>BLACK PANTHER/T'CHAL</td>\n",
              "    </tr>\n",
              "    <tr>\n",
              "      <th>2</th>\n",
              "      <td>BLACK PANTHER/T'CHAL</td>\n",
              "      <td>PRINCESS ZANDA</td>\n",
              "    </tr>\n",
              "    <tr>\n",
              "      <th>3</th>\n",
              "      <td>LITTLE, ABNER</td>\n",
              "      <td>PRINCESS ZANDA</td>\n",
              "    </tr>\n",
              "    <tr>\n",
              "      <th>4</th>\n",
              "      <td>LITTLE, ABNER</td>\n",
              "      <td>BLACK PANTHER/T'CHAL</td>\n",
              "    </tr>\n",
              "    <tr>\n",
              "      <th>...</th>\n",
              "      <td>...</td>\n",
              "      <td>...</td>\n",
              "    </tr>\n",
              "    <tr>\n",
              "      <th>574462</th>\n",
              "      <td>COLOSSUS II/PETER RA</td>\n",
              "      <td>CALLISTO</td>\n",
              "    </tr>\n",
              "    <tr>\n",
              "      <th>574463</th>\n",
              "      <td>CALLISTO</td>\n",
              "      <td>ROGUE</td>\n",
              "    </tr>\n",
              "    <tr>\n",
              "      <th>574464</th>\n",
              "      <td>CALLISTO</td>\n",
              "      <td>CALIBAN</td>\n",
              "    </tr>\n",
              "    <tr>\n",
              "      <th>574465</th>\n",
              "      <td>CALIBAN</td>\n",
              "      <td>ROGUE</td>\n",
              "    </tr>\n",
              "    <tr>\n",
              "      <th>574466</th>\n",
              "      <td>HULK/DR. ROBERT BRUC</td>\n",
              "      <td>MARKS, DR. SHIELA</td>\n",
              "    </tr>\n",
              "  </tbody>\n",
              "</table>\n",
              "<p>572235 rows × 2 columns</p>\n",
              "</div>\n",
              "      <button class=\"colab-df-convert\" onclick=\"convertToInteractive('df-40f5c20e-81a1-4e2d-bec2-d7df9f0abc23')\"\n",
              "              title=\"Convert this dataframe to an interactive table.\"\n",
              "              style=\"display:none;\">\n",
              "        \n",
              "  <svg xmlns=\"http://www.w3.org/2000/svg\" height=\"24px\"viewBox=\"0 0 24 24\"\n",
              "       width=\"24px\">\n",
              "    <path d=\"M0 0h24v24H0V0z\" fill=\"none\"/>\n",
              "    <path d=\"M18.56 5.44l.94 2.06.94-2.06 2.06-.94-2.06-.94-.94-2.06-.94 2.06-2.06.94zm-11 1L8.5 8.5l.94-2.06 2.06-.94-2.06-.94L8.5 2.5l-.94 2.06-2.06.94zm10 10l.94 2.06.94-2.06 2.06-.94-2.06-.94-.94-2.06-.94 2.06-2.06.94z\"/><path d=\"M17.41 7.96l-1.37-1.37c-.4-.4-.92-.59-1.43-.59-.52 0-1.04.2-1.43.59L10.3 9.45l-7.72 7.72c-.78.78-.78 2.05 0 2.83L4 21.41c.39.39.9.59 1.41.59.51 0 1.02-.2 1.41-.59l7.78-7.78 2.81-2.81c.8-.78.8-2.07 0-2.86zM5.41 20L4 18.59l7.72-7.72 1.47 1.35L5.41 20z\"/>\n",
              "  </svg>\n",
              "      </button>\n",
              "      \n",
              "  <style>\n",
              "    .colab-df-container {\n",
              "      display:flex;\n",
              "      flex-wrap:wrap;\n",
              "      gap: 12px;\n",
              "    }\n",
              "\n",
              "    .colab-df-convert {\n",
              "      background-color: #E8F0FE;\n",
              "      border: none;\n",
              "      border-radius: 50%;\n",
              "      cursor: pointer;\n",
              "      display: none;\n",
              "      fill: #1967D2;\n",
              "      height: 32px;\n",
              "      padding: 0 0 0 0;\n",
              "      width: 32px;\n",
              "    }\n",
              "\n",
              "    .colab-df-convert:hover {\n",
              "      background-color: #E2EBFA;\n",
              "      box-shadow: 0px 1px 2px rgba(60, 64, 67, 0.3), 0px 1px 3px 1px rgba(60, 64, 67, 0.15);\n",
              "      fill: #174EA6;\n",
              "    }\n",
              "\n",
              "    [theme=dark] .colab-df-convert {\n",
              "      background-color: #3B4455;\n",
              "      fill: #D2E3FC;\n",
              "    }\n",
              "\n",
              "    [theme=dark] .colab-df-convert:hover {\n",
              "      background-color: #434B5C;\n",
              "      box-shadow: 0px 1px 3px 1px rgba(0, 0, 0, 0.15);\n",
              "      filter: drop-shadow(0px 1px 2px rgba(0, 0, 0, 0.3));\n",
              "      fill: #FFFFFF;\n",
              "    }\n",
              "  </style>\n",
              "\n",
              "      <script>\n",
              "        const buttonEl =\n",
              "          document.querySelector('#df-40f5c20e-81a1-4e2d-bec2-d7df9f0abc23 button.colab-df-convert');\n",
              "        buttonEl.style.display =\n",
              "          google.colab.kernel.accessAllowed ? 'block' : 'none';\n",
              "\n",
              "        async function convertToInteractive(key) {\n",
              "          const element = document.querySelector('#df-40f5c20e-81a1-4e2d-bec2-d7df9f0abc23');\n",
              "          const dataTable =\n",
              "            await google.colab.kernel.invokeFunction('convertToInteractive',\n",
              "                                                     [key], {});\n",
              "          if (!dataTable) return;\n",
              "\n",
              "          const docLinkHtml = 'Like what you see? Visit the ' +\n",
              "            '<a target=\"_blank\" href=https://colab.research.google.com/notebooks/data_table.ipynb>data table notebook</a>'\n",
              "            + ' to learn more about interactive tables.';\n",
              "          element.innerHTML = '';\n",
              "          dataTable['output_type'] = 'display_data';\n",
              "          await google.colab.output.renderOutput(dataTable, element);\n",
              "          const docLink = document.createElement('div');\n",
              "          docLink.innerHTML = docLinkHtml;\n",
              "          element.appendChild(docLink);\n",
              "        }\n",
              "      </script>\n",
              "    </div>\n",
              "  </div>\n",
              "  "
            ]
          },
          "metadata": {},
          "execution_count": 37
        }
      ],
      "source": [
        "hero_network"
      ]
    },
    {
      "cell_type": "code",
      "source": [
        "hero_net_g=hero_network.groupby(hero_network.columns.tolist(),as_index=False).size()\n",
        "hero_net_g"
      ],
      "metadata": {
        "colab": {
          "base_uri": "https://localhost:8080/",
          "height": 424
        },
        "id": "sylkHSTS9AHT",
        "outputId": "39b354e0-aded-40ad-c1b9-6b70900cf6c8"
      },
      "id": "sylkHSTS9AHT",
      "execution_count": 54,
      "outputs": [
        {
          "output_type": "execute_result",
          "data": {
            "text/plain": [
              "                       hero1                 hero2  size\n",
              "0       24-HOUR MAN/EMMANUEL       FROST, CARMILLA     1\n",
              "1       24-HOUR MAN/EMMANUEL  KILLRAVEN/JONATHAN R     1\n",
              "2       24-HOUR MAN/EMMANUEL              M'SHULLA     1\n",
              "3       3-D MAN/CHARLES CHAN  ANGEL/WARREN KENNETH     1\n",
              "4       3-D MAN/CHARLES CHAN  ANT-MAN II/SCOTT HAR     1\n",
              "...                      ...                   ...   ...\n",
              "224094                 ZZZAX      RODRIGUEZ, DEBRA     1\n",
              "224095                 ZZZAX   ROSS, GEN. THADDEUS     2\n",
              "224096                 ZZZAX  SUMMERS, NATHAN CHRI     1\n",
              "224097                 ZZZAX    TIGRA/GREER NELSON     1\n",
              "224098                 ZZZAX  WONDER MAN/SIMON WIL     1\n",
              "\n",
              "[224099 rows x 3 columns]"
            ],
            "text/html": [
              "\n",
              "  <div id=\"df-12c81738-2c11-4bb8-83fe-46c1c7c16d63\">\n",
              "    <div class=\"colab-df-container\">\n",
              "      <div>\n",
              "<style scoped>\n",
              "    .dataframe tbody tr th:only-of-type {\n",
              "        vertical-align: middle;\n",
              "    }\n",
              "\n",
              "    .dataframe tbody tr th {\n",
              "        vertical-align: top;\n",
              "    }\n",
              "\n",
              "    .dataframe thead th {\n",
              "        text-align: right;\n",
              "    }\n",
              "</style>\n",
              "<table border=\"1\" class=\"dataframe\">\n",
              "  <thead>\n",
              "    <tr style=\"text-align: right;\">\n",
              "      <th></th>\n",
              "      <th>hero1</th>\n",
              "      <th>hero2</th>\n",
              "      <th>size</th>\n",
              "    </tr>\n",
              "  </thead>\n",
              "  <tbody>\n",
              "    <tr>\n",
              "      <th>0</th>\n",
              "      <td>24-HOUR MAN/EMMANUEL</td>\n",
              "      <td>FROST, CARMILLA</td>\n",
              "      <td>1</td>\n",
              "    </tr>\n",
              "    <tr>\n",
              "      <th>1</th>\n",
              "      <td>24-HOUR MAN/EMMANUEL</td>\n",
              "      <td>KILLRAVEN/JONATHAN R</td>\n",
              "      <td>1</td>\n",
              "    </tr>\n",
              "    <tr>\n",
              "      <th>2</th>\n",
              "      <td>24-HOUR MAN/EMMANUEL</td>\n",
              "      <td>M'SHULLA</td>\n",
              "      <td>1</td>\n",
              "    </tr>\n",
              "    <tr>\n",
              "      <th>3</th>\n",
              "      <td>3-D MAN/CHARLES CHAN</td>\n",
              "      <td>ANGEL/WARREN KENNETH</td>\n",
              "      <td>1</td>\n",
              "    </tr>\n",
              "    <tr>\n",
              "      <th>4</th>\n",
              "      <td>3-D MAN/CHARLES CHAN</td>\n",
              "      <td>ANT-MAN II/SCOTT HAR</td>\n",
              "      <td>1</td>\n",
              "    </tr>\n",
              "    <tr>\n",
              "      <th>...</th>\n",
              "      <td>...</td>\n",
              "      <td>...</td>\n",
              "      <td>...</td>\n",
              "    </tr>\n",
              "    <tr>\n",
              "      <th>224094</th>\n",
              "      <td>ZZZAX</td>\n",
              "      <td>RODRIGUEZ, DEBRA</td>\n",
              "      <td>1</td>\n",
              "    </tr>\n",
              "    <tr>\n",
              "      <th>224095</th>\n",
              "      <td>ZZZAX</td>\n",
              "      <td>ROSS, GEN. THADDEUS</td>\n",
              "      <td>2</td>\n",
              "    </tr>\n",
              "    <tr>\n",
              "      <th>224096</th>\n",
              "      <td>ZZZAX</td>\n",
              "      <td>SUMMERS, NATHAN CHRI</td>\n",
              "      <td>1</td>\n",
              "    </tr>\n",
              "    <tr>\n",
              "      <th>224097</th>\n",
              "      <td>ZZZAX</td>\n",
              "      <td>TIGRA/GREER NELSON</td>\n",
              "      <td>1</td>\n",
              "    </tr>\n",
              "    <tr>\n",
              "      <th>224098</th>\n",
              "      <td>ZZZAX</td>\n",
              "      <td>WONDER MAN/SIMON WIL</td>\n",
              "      <td>1</td>\n",
              "    </tr>\n",
              "  </tbody>\n",
              "</table>\n",
              "<p>224099 rows × 3 columns</p>\n",
              "</div>\n",
              "      <button class=\"colab-df-convert\" onclick=\"convertToInteractive('df-12c81738-2c11-4bb8-83fe-46c1c7c16d63')\"\n",
              "              title=\"Convert this dataframe to an interactive table.\"\n",
              "              style=\"display:none;\">\n",
              "        \n",
              "  <svg xmlns=\"http://www.w3.org/2000/svg\" height=\"24px\"viewBox=\"0 0 24 24\"\n",
              "       width=\"24px\">\n",
              "    <path d=\"M0 0h24v24H0V0z\" fill=\"none\"/>\n",
              "    <path d=\"M18.56 5.44l.94 2.06.94-2.06 2.06-.94-2.06-.94-.94-2.06-.94 2.06-2.06.94zm-11 1L8.5 8.5l.94-2.06 2.06-.94-2.06-.94L8.5 2.5l-.94 2.06-2.06.94zm10 10l.94 2.06.94-2.06 2.06-.94-2.06-.94-.94-2.06-.94 2.06-2.06.94z\"/><path d=\"M17.41 7.96l-1.37-1.37c-.4-.4-.92-.59-1.43-.59-.52 0-1.04.2-1.43.59L10.3 9.45l-7.72 7.72c-.78.78-.78 2.05 0 2.83L4 21.41c.39.39.9.59 1.41.59.51 0 1.02-.2 1.41-.59l7.78-7.78 2.81-2.81c.8-.78.8-2.07 0-2.86zM5.41 20L4 18.59l7.72-7.72 1.47 1.35L5.41 20z\"/>\n",
              "  </svg>\n",
              "      </button>\n",
              "      \n",
              "  <style>\n",
              "    .colab-df-container {\n",
              "      display:flex;\n",
              "      flex-wrap:wrap;\n",
              "      gap: 12px;\n",
              "    }\n",
              "\n",
              "    .colab-df-convert {\n",
              "      background-color: #E8F0FE;\n",
              "      border: none;\n",
              "      border-radius: 50%;\n",
              "      cursor: pointer;\n",
              "      display: none;\n",
              "      fill: #1967D2;\n",
              "      height: 32px;\n",
              "      padding: 0 0 0 0;\n",
              "      width: 32px;\n",
              "    }\n",
              "\n",
              "    .colab-df-convert:hover {\n",
              "      background-color: #E2EBFA;\n",
              "      box-shadow: 0px 1px 2px rgba(60, 64, 67, 0.3), 0px 1px 3px 1px rgba(60, 64, 67, 0.15);\n",
              "      fill: #174EA6;\n",
              "    }\n",
              "\n",
              "    [theme=dark] .colab-df-convert {\n",
              "      background-color: #3B4455;\n",
              "      fill: #D2E3FC;\n",
              "    }\n",
              "\n",
              "    [theme=dark] .colab-df-convert:hover {\n",
              "      background-color: #434B5C;\n",
              "      box-shadow: 0px 1px 3px 1px rgba(0, 0, 0, 0.15);\n",
              "      filter: drop-shadow(0px 1px 2px rgba(0, 0, 0, 0.3));\n",
              "      fill: #FFFFFF;\n",
              "    }\n",
              "  </style>\n",
              "\n",
              "      <script>\n",
              "        const buttonEl =\n",
              "          document.querySelector('#df-12c81738-2c11-4bb8-83fe-46c1c7c16d63 button.colab-df-convert');\n",
              "        buttonEl.style.display =\n",
              "          google.colab.kernel.accessAllowed ? 'block' : 'none';\n",
              "\n",
              "        async function convertToInteractive(key) {\n",
              "          const element = document.querySelector('#df-12c81738-2c11-4bb8-83fe-46c1c7c16d63');\n",
              "          const dataTable =\n",
              "            await google.colab.kernel.invokeFunction('convertToInteractive',\n",
              "                                                     [key], {});\n",
              "          if (!dataTable) return;\n",
              "\n",
              "          const docLinkHtml = 'Like what you see? Visit the ' +\n",
              "            '<a target=\"_blank\" href=https://colab.research.google.com/notebooks/data_table.ipynb>data table notebook</a>'\n",
              "            + ' to learn more about interactive tables.';\n",
              "          element.innerHTML = '';\n",
              "          dataTable['output_type'] = 'display_data';\n",
              "          await google.colab.output.renderOutput(dataTable, element);\n",
              "          const docLink = document.createElement('div');\n",
              "          docLink.innerHTML = docLinkHtml;\n",
              "          element.appendChild(docLink);\n",
              "        }\n",
              "      </script>\n",
              "    </div>\n",
              "  </div>\n",
              "  "
            ]
          },
          "metadata": {},
          "execution_count": 54
        }
      ]
    },
    {
      "cell_type": "markdown",
      "source": [
        "we have the new df "
      ],
      "metadata": {
        "id": "UKlVic-Q_Jds"
      },
      "id": "UKlVic-Q_Jds"
    },
    {
      "cell_type": "code",
      "source": [
        "hero_net_g['size'].describe()"
      ],
      "metadata": {
        "colab": {
          "base_uri": "https://localhost:8080/"
        },
        "id": "CfC4-ztP9noU",
        "outputId": "c4a6e79e-1318-41a1-b5bf-0b8f0ba8c9ed"
      },
      "id": "CfC4-ztP9noU",
      "execution_count": 58,
      "outputs": [
        {
          "output_type": "execute_result",
          "data": {
            "text/plain": [
              "count    224099.000000\n",
              "mean          2.553492\n",
              "std           7.285278\n",
              "min           1.000000\n",
              "25%           1.000000\n",
              "50%           1.000000\n",
              "75%           2.000000\n",
              "max        1267.000000\n",
              "Name: size, dtype: float64"
            ]
          },
          "metadata": {},
          "execution_count": 58
        }
      ]
    },
    {
      "cell_type": "code",
      "source": [
        "hero_net_g['size'].sort_values()[-100:]"
      ],
      "metadata": {
        "colab": {
          "base_uri": "https://localhost:8080/"
        },
        "id": "i0i9yjBx-LBQ",
        "outputId": "2301c87a-18d9-460c-df5b-28e0a10885ea"
      },
      "id": "i0i9yjBx-LBQ",
      "execution_count": 59,
      "outputs": [
        {
          "output_type": "execute_result",
          "data": {
            "text/plain": [
              "186191     133\n",
              "148855     133\n",
              "218821     134\n",
              "78102      135\n",
              "91072      135\n",
              "          ... \n",
              "196190     365\n",
              "85416      366\n",
              "195966     382\n",
              "124735     627\n",
              "142471    1267\n",
              "Name: size, Length: 100, dtype: int64"
            ]
          },
          "metadata": {},
          "execution_count": 59
        }
      ]
    },
    {
      "cell_type": "code",
      "execution_count": 82,
      "id": "a8b0ff02",
      "metadata": {
        "id": "a8b0ff02"
      },
      "outputs": [],
      "source": [
        "G_1 = nx.from_pandas_edgelist(hero_net_g, 'hero1', 'hero2' , edge_attr='size') # dobbiamo scegliere la metrica giusta"
      ]
    },
    {
      "cell_type": "code",
      "source": [
        "nx.draw(G_1) # mi da errore \n",
        "plt.show()"
      ],
      "metadata": {
        "id": "QARy74uBDUez"
      },
      "id": "QARy74uBDUez",
      "execution_count": null,
      "outputs": []
    }
  ],
  "metadata": {
    "kernelspec": {
      "display_name": "Python 3 (ipykernel)",
      "language": "python",
      "name": "python3"
    },
    "language_info": {
      "codemirror_mode": {
        "name": "ipython",
        "version": 3
      },
      "file_extension": ".py",
      "mimetype": "text/x-python",
      "name": "python",
      "nbconvert_exporter": "python",
      "pygments_lexer": "ipython3",
      "version": "3.9.12"
    },
    "colab": {
      "provenance": [],
      "include_colab_link": true
    }
  },
  "nbformat": 4,
  "nbformat_minor": 5
}