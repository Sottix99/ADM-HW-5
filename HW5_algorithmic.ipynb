{
 "cells": [
  {
   "attachments": {},
   "cell_type": "markdown",
   "id": "3a059ac1",
   "metadata": {},
   "source": [
    "# ALGORITHMIC QUESTION"
   ]
  },
  {
   "cell_type": "code",
   "execution_count": 1,
   "id": "9d7f89fa",
   "metadata": {},
   "outputs": [],
   "source": [
    "import networkx as nx\n",
    "from matplotlib import pyplot as plt\n",
    "import numpy as np"
   ]
  },
  {
   "cell_type": "code",
   "execution_count": 2,
   "id": "80152299",
   "metadata": {},
   "outputs": [
    {
     "data": {
      "image/png": "[encoded data removed]",
      "text/plain": [
       "<Figure size 432x432 with 1 Axes>"
      ]
     },
     "metadata": {},
     "output_type": "display_data"
    }
   ],
   "source": [
    "#First create a 3x3 graph and visualize it\n",
    "G = nx.grid_2d_graph(3,3)\n",
    "\n",
    "plt.figure(figsize=(6,6))\n",
    "pos = {(x,y):(x,-y) for x,y in G.nodes()}\n",
    "nx.draw(G, pos=pos, node_color = 'orchid', with_labels = True, node_size = 500)"
   ]
  },
  {
   "cell_type": "code",
   "execution_count": 3,
   "id": "5aefded5",
   "metadata": {},
   "outputs": [],
   "source": [
    "#STEP-TO-STRING FUNCTION: From a single step, returns the direction of the step (e.g. 'R')\n",
    "def step_to_string(couple):      #input: a couple of nodes (coordinates)\n",
    "    diff = np.array(couple[1]) - np.array(couple[0])         #compute difference vector of the two nodes, which is unique for each direction\n",
    "\n",
    "    #now check to which direction the difference corresponds to\n",
    "\n",
    "    if (diff == [1,0]).all():\n",
    "        step = 'R' \n",
    "    elif (diff == [-1,0]).all():\n",
    "        step = 'L' \n",
    "    elif (diff == [0,1]).all():\n",
    "        step = 'D' \n",
    "    elif (diff == [0,-1]).all():\n",
    "        step = 'U' \n",
    "\n",
    "    return step\n",
    "\n",
    "\n",
    "#PATH-TO-STRING FUNCTION. From a single path, generates a string of instructions (e.g. ['R', 'U', 'D', 'L', 'U') \n",
    "def path_to_string(path):     #input: a path (list of nodes)\n",
    "    directions=['F']          #initialize list with a random character \n",
    "\n",
    "    for i in range(0, len(path)-1):    #iterate over each pair of nodes (step) in the given path\n",
    "        direction = step_to_string((path[i], path[i+1]))   #retrieve direction of the step\n",
    "\n",
    "        if direction != directions[-1]:                    #if the retrieved direction is different from the previous one, append it to the directions list. This is to avoid having repetitions in the directions list.\n",
    "            directions.append(direction)\n",
    "\n",
    "    directions.pop(0)       #now remove the initialization character \n",
    "\n",
    "    return directions\n",
    "\n",
    "\n",
    "#GET-LIST-OF-STRINGS FUNCTION: From a graph and a pair of nodes, returns a list of strings corresponding to all possible paths. (e.g. [['R', 'U', 'L'], ['R', 'U', 'L'], ['R', 'D', 'R', 'U', 'L']])\n",
    "def get_list_of_strings(G, i, j):  #input: a graph G and a pair of nodes: i, j\n",
    "\n",
    "    strings = []\n",
    "    for path in nx.all_simple_paths(G, i, j):    #find all simple paths from i to j \n",
    "        strings.append(path_to_string(path))    #convert them to strings and append to strings list\n",
    "\n",
    "    return strings\n",
    "\n"
   ]
  },
  {
   "cell_type": "code",
   "execution_count": 24,
   "id": "19f74ad1",
   "metadata": {},
   "outputs": [],
   "source": [
    "#Now define the final function that returns the total number of paths\n",
    "\n",
    "def get_number_of_paths(G, input_string): \n",
    "\n",
    "    allowed_instructions = ['D', 'R', 'L', 'U']    #the only possible instructions (directions)\n",
    "\n",
    "    if ((len(input_string) <=10) & set(input_string).issubset(set(allowed_instructions))):   #checking the input string\n",
    "        total = 0\n",
    "\n",
    "        for i in G.nodes:   #iterate over all pairs of nodes in the graph\n",
    "            for j in G.nodes:\n",
    "                if j != i:\n",
    "                    total += get_list_of_strings(G,i,j).count(input_string)    #and add the number of matching paths to the total\n",
    "    \n",
    "        print(total)\n",
    "\n",
    "    #if input is incorrect, print warnings\n",
    "    elif(len(input_string) > 10):     \n",
    "        print(\"Maximimum Length of input string is 10\")       \n",
    "\n",
    "    if not(set(input_string).issubset(set(allowed_instructions))):\n",
    "        print(\"Please insert only valid instructions such as D, U, R, L.\")\n",
    "\n",
    "    return \n"
   ]
  },
  {
   "cell_type": "code",
   "execution_count": 27,
   "id": "30cb77ad",
   "metadata": {},
   "outputs": [
    {
     "name": "stdout",
     "output_type": "stream",
     "text": [
      "15\n"
     ]
    }
   ],
   "source": [
    "input_string = list(input())      #take input from standard input\n",
    "\n",
    "get_number_of_paths(G, input_string)  #apply function to input"
   ]
  },
  {
   "attachments": {},
   "cell_type": "markdown",
   "id": "3efe3ec4",
   "metadata": {},
   "source": [
    "Recreating the examples from the text of the exercise: "
   ]
  },
  {
   "cell_type": "code",
   "execution_count": 28,
   "id": "7efc9e6d",
   "metadata": {},
   "outputs": [
    {
     "name": "stdout",
     "output_type": "stream",
     "text": [
      "15\n"
     ]
    }
   ],
   "source": [
    "#INPUT 1: DRU\n",
    "\n",
    "input_string = list('DRU')\n",
    "get_number_of_paths(G, input_string)"
   ]
  },
  {
   "cell_type": "code",
   "execution_count": 29,
   "id": "ecbf2fd5",
   "metadata": {},
   "outputs": [
    {
     "name": "stdout",
     "output_type": "stream",
     "text": [
      "9\n"
     ]
    }
   ],
   "source": [
    "#INPUT 1: R\n",
    "\n",
    "input_string = list('R')\n",
    "get_number_of_paths(G, input_string)"
   ]
  },
  {
   "cell_type": "code",
   "execution_count": 30,
   "id": "8ebda5b1",
   "metadata": {},
   "outputs": [
    {
     "name": "stdout",
     "output_type": "stream",
     "text": [
      "0\n"
     ]
    }
   ],
   "source": [
    "#INPUT 3: LDRDRUL\n",
    "\n",
    "input_string = list('LDRDRUL')\n",
    "get_number_of_paths(G, input_string)"
   ]
  }
 ],
 "metadata": {
  "kernelspec": {
   "display_name": "base",
   "language": "python",
   "name": "python3"
  },
  "language_info": {
   "codemirror_mode": {
    "name": "ipython",
    "version": 3
   },
   "file_extension": ".py",
   "mimetype": "text/x-python",
   "name": "python",
   "nbconvert_exporter": "python",
   "pygments_lexer": "ipython3",
   "version": "3.9.12"
  },
  "vscode": {
   "interpreter": {
    "hash": "dc07d24e2f18896857f0b2a651fe84ba40ce7b297e58d8804a308c8039f752a6"
   }
  }
 },
 "nbformat": 4,
 "nbformat_minor": 5
}
