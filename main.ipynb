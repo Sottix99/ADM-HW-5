{
 "cells": [
  {
   "cell_type": "markdown",
   "id": "3a059ac1",
   "metadata": {
    "id": "3a059ac1"
   },
   "source": [
    "## 1. Data"
   ]
  },
  {
   "cell_type": "markdown",
   "id": "e5296477",
   "metadata": {
    "id": "e5296477"
   },
   "source": [
    "### Data Preprocessing"
   ]
  },
  {
   "cell_type": "code",
   "execution_count": 1,
   "id": "9d7f89fa",
   "metadata": {
    "id": "9d7f89fa"
   },
   "outputs": [],
   "source": [
    "import pandas as pd\n",
    "import networkx as nx\n",
    "import string\n",
    "import numpy as np\n",
    "import scipy\n",
    "from collections import Counter\n",
    "from tabulate import tabulate\n",
    "import matplotlib.pyplot as plt\n",
    "import random"
   ]
  },
  {
   "attachments": {},
   "cell_type": "markdown",
   "id": "d665944f",
   "metadata": {},
   "source": [
    "Loading the datasets:"
   ]
  },
  {
   "cell_type": "code",
   "execution_count": 2,
   "id": "819f6b59-5327-4bc0-98ef-6c0d0401db1d",
   "metadata": {},
   "outputs": [],
   "source": [
    "edges = pd.read_csv('edges.csv')"
   ]
  },
  {
   "cell_type": "code",
   "execution_count": 3,
   "id": "6b6783f6-4d29-4bcd-b228-59084982a340",
   "metadata": {},
   "outputs": [],
   "source": [
    "hero_network = pd.read_csv('hero-network.csv')"
   ]
  },
  {
   "cell_type": "code",
   "execution_count": 4,
   "id": "c74fdf41-aadf-465f-b3de-37c1fac004b1",
   "metadata": {},
   "outputs": [],
   "source": [
    "nodes = pd.read_csv('nodes.csv')"
   ]
  },
  {
   "attachments": {},
   "cell_type": "markdown",
   "id": "81e69cec",
   "metadata": {
    "id": "81e69cec"
   },
   "source": [
    "Removing inconsistencies:"
   ]
  },
  {
   "cell_type": "code",
   "execution_count": 5,
   "id": "3e488a1f",
   "metadata": {
    "id": "3e488a1f"
   },
   "outputs": [],
   "source": [
    "#Removing extra spaces at the end of the hero name\n",
    "hero_network['hero1'] = hero_network['hero1'].apply(lambda x: x.rstrip())\n",
    "hero_network['hero2'] = hero_network['hero2'].apply(lambda x: x.rstrip())"
   ]
  },
  {
   "cell_type": "code",
   "execution_count": 6,
   "id": "54113bca",
   "metadata": {
    "id": "54113bca"
   },
   "outputs": [],
   "source": [
    "#Replace 'SPIDER-MAN/PETER PAR' with 'SPIDER-MAN/PETER PARKER'\n",
    "hero_network.replace({'SPIDER-MAN/PETER PAR': 'SPIDER-MAN/PETER PARKER'}, inplace = True)"
   ]
  },
  {
   "cell_type": "code",
   "execution_count": 7,
   "id": "80816b72",
   "metadata": {
    "id": "80816b72"
   },
   "outputs": [],
   "source": [
    "#Removing extra '/'\n",
    "hero_network['hero1'] = hero_network['hero1'].apply(lambda x: x.rstrip('/'))\n",
    "hero_network['hero2'] = hero_network['hero2'].apply(lambda x: x.rstrip('/'))\n",
    "edges['hero'] = edges['hero'].apply(lambda x: x.strip('/'))"
   ]
  },
  {
   "cell_type": "code",
   "execution_count": 8,
   "id": "8e5b5242",
   "metadata": {
    "id": "8e5b5242"
   },
   "outputs": [],
   "source": [
    "#After this we need to remove again the empty spaces at the end\n",
    "hero_network['hero1'] = hero_network['hero1'].apply(lambda x: x.rstrip())\n",
    "hero_network['hero2'] = hero_network['hero2'].apply(lambda x: x.rstrip())\n",
    "edges['hero'] = edges['hero'].apply(lambda x: x.rstrip())"
   ]
  },
  {
   "cell_type": "code",
   "execution_count": 9,
   "id": "be068090-351b-4cc2-b7b5-008c22f40652",
   "metadata": {},
   "outputs": [],
   "source": [
    "#Removing a typo we found in the dataset 'nodes'\n",
    "nodes.replace({'SPIDER-MAN/PETER PARKERKER': 'SPIDER-MAN/PETER PARKER'}, inplace = True)"
   ]
  },
  {
   "attachments": {},
   "cell_type": "markdown",
   "id": "de139bd2",
   "metadata": {
    "id": "de139bd2"
   },
   "source": [
    "Removing duplicates:"
   ]
  },
  {
   "cell_type": "markdown",
   "id": "b17ab2f7",
   "metadata": {
    "id": "b17ab2f7"
   },
   "source": [
    "Let's remove rows where hero1 is equal to hero2 first."
   ]
  },
  {
   "cell_type": "code",
   "execution_count": 10,
   "id": "184108d8",
   "metadata": {
    "id": "184108d8"
   },
   "outputs": [],
   "source": [
    "# removing rows where hero1 is equal to hero2 \n",
    "hero_network.drop((hero_network[hero_network['hero1'] == hero_network['hero2']]).index, inplace = True)"
   ]
  },
  {
   "cell_type": "code",
   "execution_count": 11,
   "id": "eb687d80",
   "metadata": {
    "id": "eb687d80"
   },
   "outputs": [],
   "source": [
    "# sorting hero names by rows to avoid mistakes while computing the number of collaborations and the weights of the first graph\n",
    "hero_network = hero_network.apply(lambda row: sorted(row), axis=1, result_type='expand').set_axis(hero_network.columns, axis=1)\n"
   ]
  },
  {
   "cell_type": "markdown",
   "id": "1eeecef2",
   "metadata": {
    "id": "1eeecef2"
   },
   "source": [
    "### Graphs setup"
   ]
  },
  {
   "cell_type": "markdown",
   "id": "4a5bd1c6",
   "metadata": {
    "id": "4a5bd1c6"
   },
   "source": [
    "##### First graph"
   ]
  },
  {
   "cell_type": "code",
   "execution_count": 12,
   "id": "9784987c",
   "metadata": {},
   "outputs": [],
   "source": [
    "# computing the number of collaborations (size) between two heroes \n",
    "hero_network = hero_network.groupby(['hero1', 'hero2']).size().reset_index().rename(columns={0: 'size'})"
   ]
  },
  {
   "cell_type": "code",
   "execution_count": 13,
   "id": "cc912d03",
   "metadata": {},
   "outputs": [
    {
     "data": {
      "text/html": [
       "<div>\n",
       "<style scoped>\n",
       "    .dataframe tbody tr th:only-of-type {\n",
       "        vertical-align: middle;\n",
       "    }\n",
       "\n",
       "    .dataframe tbody tr th {\n",
       "        vertical-align: top;\n",
       "    }\n",
       "\n",
       "    .dataframe thead th {\n",
       "        text-align: right;\n",
       "    }\n",
       "</style>\n",
       "<table border=\"1\" class=\"dataframe\">\n",
       "  <thead>\n",
       "    <tr style=\"text-align: right;\">\n",
       "      <th></th>\n",
       "      <th>hero1</th>\n",
       "      <th>hero2</th>\n",
       "      <th>size</th>\n",
       "    </tr>\n",
       "  </thead>\n",
       "  <tbody>\n",
       "    <tr>\n",
       "      <th>0</th>\n",
       "      <td>24-HOUR MAN/EMMANUEL</td>\n",
       "      <td>FROST, CARMILLA</td>\n",
       "      <td>1</td>\n",
       "    </tr>\n",
       "    <tr>\n",
       "      <th>1</th>\n",
       "      <td>24-HOUR MAN/EMMANUEL</td>\n",
       "      <td>G'RATH</td>\n",
       "      <td>1</td>\n",
       "    </tr>\n",
       "    <tr>\n",
       "      <th>2</th>\n",
       "      <td>24-HOUR MAN/EMMANUEL</td>\n",
       "      <td>KILLRAVEN/JONATHAN R</td>\n",
       "      <td>1</td>\n",
       "    </tr>\n",
       "    <tr>\n",
       "      <th>3</th>\n",
       "      <td>24-HOUR MAN/EMMANUEL</td>\n",
       "      <td>M'SHULLA</td>\n",
       "      <td>1</td>\n",
       "    </tr>\n",
       "    <tr>\n",
       "      <th>4</th>\n",
       "      <td>24-HOUR MAN/EMMANUEL</td>\n",
       "      <td>OLD SKULL</td>\n",
       "      <td>1</td>\n",
       "    </tr>\n",
       "    <tr>\n",
       "      <th>...</th>\n",
       "      <td>...</td>\n",
       "      <td>...</td>\n",
       "      <td>...</td>\n",
       "    </tr>\n",
       "    <tr>\n",
       "      <th>167095</th>\n",
       "      <td>ZEFRA</td>\n",
       "      <td>ZON</td>\n",
       "      <td>1</td>\n",
       "    </tr>\n",
       "    <tr>\n",
       "      <th>167096</th>\n",
       "      <td>ZEUS</td>\n",
       "      <td>ZIRAN</td>\n",
       "      <td>1</td>\n",
       "    </tr>\n",
       "    <tr>\n",
       "      <th>167097</th>\n",
       "      <td>ZEUS</td>\n",
       "      <td>ZURAS</td>\n",
       "      <td>4</td>\n",
       "    </tr>\n",
       "    <tr>\n",
       "      <th>167098</th>\n",
       "      <td>ZIRAN</td>\n",
       "      <td>ZON</td>\n",
       "      <td>1</td>\n",
       "    </tr>\n",
       "    <tr>\n",
       "      <th>167099</th>\n",
       "      <td>ZIRAN</td>\n",
       "      <td>ZURAS</td>\n",
       "      <td>1</td>\n",
       "    </tr>\n",
       "  </tbody>\n",
       "</table>\n",
       "<p>167100 rows × 3 columns</p>\n",
       "</div>"
      ],
      "text/plain": [
       "                       hero1                 hero2  size\n",
       "0       24-HOUR MAN/EMMANUEL       FROST, CARMILLA     1\n",
       "1       24-HOUR MAN/EMMANUEL                G'RATH     1\n",
       "2       24-HOUR MAN/EMMANUEL  KILLRAVEN/JONATHAN R     1\n",
       "3       24-HOUR MAN/EMMANUEL              M'SHULLA     1\n",
       "4       24-HOUR MAN/EMMANUEL             OLD SKULL     1\n",
       "...                      ...                   ...   ...\n",
       "167095                 ZEFRA                   ZON     1\n",
       "167096                  ZEUS                 ZIRAN     1\n",
       "167097                  ZEUS                 ZURAS     4\n",
       "167098                 ZIRAN                   ZON     1\n",
       "167099                 ZIRAN                 ZURAS     1\n",
       "\n",
       "[167100 rows x 3 columns]"
      ]
     },
     "execution_count": 13,
     "metadata": {},
     "output_type": "execute_result"
    }
   ],
   "source": [
    "hero_network"
   ]
  },
  {
   "cell_type": "code",
   "execution_count": 14,
   "id": "3688be31",
   "metadata": {
    "id": "3688be31"
   },
   "outputs": [],
   "source": [
    "# initializing the first graph\n",
    "G_hero_net = nx.Graph()"
   ]
  },
  {
   "attachments": {},
   "cell_type": "markdown",
   "id": "6f8bfee2",
   "metadata": {
    "id": "6f8bfee2"
   },
   "source": [
    "We want the graph to be weighted and we also want the weights to be lower for heroes with more collaborations, hence we take as weights the reciprocal of the number of collaboration (the size)"
   ]
  },
  {
   "cell_type": "code",
   "execution_count": 15,
   "id": "099d6e95",
   "metadata": {
    "id": "099d6e95"
   },
   "outputs": [],
   "source": [
    "# creating a list of 3d tuples where the first two elements are the nodes and the last is the weight\n",
    "edges_l = []\n",
    "hero_network.apply(lambda row : edges_l.append((row['hero1'], row['hero2'], 1/row['size'])), axis = 1)\n",
    "\n",
    "# creating the weighted graph\n",
    "G_hero_net.add_weighted_edges_from(edges_l)\n"
   ]
  },
  {
   "cell_type": "code",
   "execution_count": 16,
   "id": "79fdecbf",
   "metadata": {
    "colab": {
     "base_uri": "https://localhost:8080/",
     "height": 0
    },
    "id": "79fdecbf",
    "outputId": "19a3408a-c5c4-4531-9e89-bf165b313a60"
   },
   "outputs": [
    {
     "name": "stderr",
     "output_type": "stream",
     "text": [
      "C:\\Users\\erica\\AppData\\Local\\Temp\\ipykernel_12484\\1638737127.py:1: DeprecationWarning: info is deprecated and will be removed in version 3.0.\n",
      "\n",
      "  nx.info(G_hero_net)\n"
     ]
    },
    {
     "data": {
      "text/plain": [
       "'Graph with 6421 nodes and 167100 edges'"
      ]
     },
     "execution_count": 16,
     "metadata": {},
     "output_type": "execute_result"
    }
   ],
   "source": [
    "nx.info(G_hero_net)"
   ]
  },
  {
   "cell_type": "markdown",
   "id": "1251d272",
   "metadata": {
    "id": "1251d272"
   },
   "source": [
    "##### Second graph"
   ]
  },
  {
   "cell_type": "code",
   "execution_count": 17,
   "id": "68aebf83",
   "metadata": {
    "id": "68aebf83"
   },
   "outputs": [],
   "source": [
    "# initializing the second graph\n",
    "G_comic_net = nx.Graph()"
   ]
  },
  {
   "cell_type": "code",
   "execution_count": 18,
   "id": "1a12e3da",
   "metadata": {
    "id": "1a12e3da"
   },
   "outputs": [],
   "source": [
    "# adding the nodes first\n",
    "G_comic_net.add_nodes_from(list(nodes['node']))\n",
    "\n",
    "# creating the edges\n",
    "edges_list= []\n",
    "edges.apply(lambda row: edges_list.append((row['hero'], row['comic'])), axis = 1)\n",
    "\n",
    "#adding the edges to the graph\n",
    "G_comic_net.add_edges_from(edges_list)"
   ]
  },
  {
   "cell_type": "code",
   "execution_count": 19,
   "id": "V5CaHNyfVl2U",
   "metadata": {
    "id": "V5CaHNyfVl2U"
   },
   "outputs": [],
   "source": [
    "# creating two lists, one containing only the heroes and the other containing only the comics\n",
    "n_h=nodes[nodes['type'] == 'hero']['node'].tolist()\n",
    "n_c=nodes[nodes['type'] == 'comic']['node'].tolist()\n",
    "\n",
    "# merging the two lists into a dictionary\n",
    "dict_heroes_comics = {key: 'hero' if key in n_h else 'comic' for key in n_c + n_h}\n",
    "\n",
    "# setting the type as attributes of the nodes\n",
    "nx.set_node_attributes(G_comic_net, dict_heroes_comics, 'type')"
   ]
  },
  {
   "cell_type": "code",
   "execution_count": 20,
   "id": "6d2a346c",
   "metadata": {
    "colab": {
     "base_uri": "https://localhost:8080/",
     "height": 0
    },
    "id": "6d2a346c",
    "outputId": "8abda22e-368b-4c1f-ef08-6533c34ced9f"
   },
   "outputs": [
    {
     "name": "stderr",
     "output_type": "stream",
     "text": [
      "C:\\Users\\erica\\AppData\\Local\\Temp\\ipykernel_12484\\3041480722.py:1: DeprecationWarning: info is deprecated and will be removed in version 3.0.\n",
      "\n",
      "  nx.info(G_comic_net)\n"
     ]
    },
    {
     "data": {
      "text/plain": [
       "'Graph with 19518 nodes and 96104 edges'"
      ]
     },
     "execution_count": 20,
     "metadata": {},
     "output_type": "execute_result"
    }
   ],
   "source": [
    "nx.info(G_comic_net)"
   ]
  },
  {
   "cell_type": "markdown",
   "id": "10d06840",
   "metadata": {
    "id": "10d06840"
   },
   "source": [
    "# Backend Implementation & Frontend Implementation"
   ]
  },
  {
   "attachments": {},
   "cell_type": "markdown",
   "id": "4895c072",
   "metadata": {},
   "source": [
    "Let's define the functions (functionality + visualization) we are going to use to build the controller system."
   ]
  },
  {
   "cell_type": "markdown",
   "id": "IEkeQGZ_ClNW",
   "metadata": {
    "id": "IEkeQGZ_ClNW"
   },
   "source": [
    "## Functionality 1 - extract the graph's features"
   ]
  },
  {
   "cell_type": "code",
   "execution_count": 21,
   "id": "iOdrGSwW27q3",
   "metadata": {
    "colab": {
     "base_uri": "https://localhost:8080/"
    },
    "id": "iOdrGSwW27q3",
    "outputId": "f3549a4f-8199-4485-d0da-6f55ab94ef88"
   },
   "outputs": [
    {
     "data": {
      "text/plain": [
       "6439"
      ]
     },
     "execution_count": 21,
     "metadata": {},
     "output_type": "execute_result"
    }
   ],
   "source": [
    "all_heroes=len(edges['hero'].value_counts())\n",
    "all_heroes"
   ]
  },
  {
   "cell_type": "markdown",
   "id": "15vV4AM63Ixm",
   "metadata": {
    "id": "15vV4AM63Ixm"
   },
   "source": [
    "we save that value because it will be used in the functions to create the subgraph"
   ]
  },
  {
   "cell_type": "code",
   "execution_count": 22,
   "id": "cIzoAgdCqafT",
   "metadata": {
    "id": "cIzoAgdCqafT"
   },
   "outputs": [],
   "source": [
    "def create_subN1(G,N):\n",
    "    if N == all_heroes: # if N is not set by the user, the function should consider the whole data\n",
    "        sub_g=G\n",
    "    else: # otherwise we select only the top n nodes \n",
    "        series=edges['hero'].value_counts()[0:N]\n",
    "        names_list=series.index.tolist()\n",
    "        sub_g=G.subgraph(names_list)\n",
    "    return sub_g"
   ]
  },
  {
   "cell_type": "markdown",
   "id": "5-8ODKm42LEv",
   "metadata": {
    "id": "5-8ODKm42LEv"
   },
   "source": [
    "The difference between subN1 and subN2 is that in the latter one we consider also all the comic nodes, otherwise the graph will be empty (the edges are only  between a hero and a comic)"
   ]
  },
  {
   "cell_type": "code",
   "execution_count": 23,
   "id": "rOgXyl5xvk1q",
   "metadata": {
    "id": "rOgXyl5xvk1q"
   },
   "outputs": [],
   "source": [
    "def create_subN2(G,N):\n",
    "    if N == all_heroes: # if N is not set by the user, the function should consider the whole data\n",
    "        sub_g=G\n",
    "    else: # otherwise we select only the top n nodes of heroes + all comics\n",
    "        series=edges['hero'].value_counts()[0:N]\n",
    "        names_list=series.index.tolist()\n",
    "        comics_list=edges['comic'].value_counts().index.tolist()\n",
    "        all=names_list+comics_list\n",
    "        sub_g=G.subgraph(all)\n",
    "    return sub_g"
   ]
  },
  {
   "cell_type": "code",
   "execution_count": 24,
   "id": "of0jvI16AHAp",
   "metadata": {
    "id": "of0jvI16AHAp"
   },
   "outputs": [],
   "source": [
    "def functional1_type1(sub_g, G_type):\n",
    "    output={} # initialize the dict of outputs\n",
    "\n",
    "    # The number of nodes in the network\n",
    "    num_nodes = sub_g.number_of_nodes()\n",
    "    output['Number of nodes']=num_nodes\n",
    "\n",
    "    # The number of collaborations of each superhero with the others (i.e the degrees)\n",
    "    degrees=dict(sub_g.degree())\n",
    "    output['Collaborations']=list(degrees.items())\n",
    "\n",
    "    # The network's density\n",
    "    density = nx.density(sub_g)\n",
    "    output['Density']=density\n",
    "\n",
    "    # The average degree of the network\n",
    "    avg_degree=sum(degrees.values())/len(degrees.values()) # compute the average\n",
    "    output['Average Degree']=avg_degree\n",
    "\n",
    "    # The network's degree distribution\n",
    "    degrees_list=list(degrees.values())\n",
    "    degree_distribution = Counter(degrees_list) # Given the degrees list we obatin the frequency distribution\n",
    "    sorted_degree_distribution = sorted(degree_distribution.items(), key=lambda x: x[0]) # we sort the frequency by the keys\n",
    "    output['Degree Distribution']=sorted_degree_distribution # The output means how many times each degree appears\n",
    "\n",
    "    # The network's Hubs\n",
    "    sorted_dict = sorted(degrees.items(), key=lambda x: x[1]) # sort the degrees\n",
    "    pos=int(len(sorted_dict)*0.95) # find the rigth position (We want the nodes that have degree greater than 95% of the other)\n",
    "    output['Network Hubs']=sorted_dict[pos-1::] # create the output\n",
    "\n",
    "    # Whether the Network is sparse or dense\n",
    "    if density>0.5:\n",
    "        output['Dense']=1.0 # 1 if it is dense\n",
    "    else:\n",
    "        output['Dense']=0.0 # 0 if it is sparse\n",
    "\n",
    "    return output \n"
   ]
  },
  {
   "cell_type": "code",
   "execution_count": 25,
   "id": "jtAOv44aBa5V",
   "metadata": {
    "id": "jtAOv44aBa5V"
   },
   "outputs": [],
   "source": [
    "\n",
    "def functional1_type2(sub_g, G_type):\n",
    "\n",
    "    output={} # initialize the dict of outputs\n",
    "\n",
    "    # The following 3 rows of code will be usefull for the functionals regarding only the comic nodes\n",
    "\n",
    "    # we obtain for each node the type\n",
    "    dictionary_types=dict(nx.get_node_attributes(sub_g, \"type\"))\n",
    "    # Then we obtain the list with only the comic nodes\n",
    "    keys_comic = {k: v for k, v in dictionary_types.items() if v == 'comic'}\n",
    "    comics=list(keys_comic.keys())\n",
    "\n",
    "    # Now we can start:\n",
    "\n",
    "    # regarding the Density of the graph we will use both types of nodes\n",
    "\n",
    "    # The network's density\n",
    "    density = nx.density(sub_g)\n",
    "    output['Density']=density\n",
    "\n",
    "    # Whether the Network is sparse or dense\n",
    "    if density>0.5:\n",
    "        output['Dense']=1.0 # 1 if it is dense\n",
    "    else:\n",
    "        output['Dense']=0.0 # 0 if it is sparse\n",
    "\n",
    "    # regarding the other operations we will consider only the comic type:\n",
    "\n",
    "    # The number of nodes for both types\n",
    "    total_number= sub_g.number_of_nodes()\n",
    "\n",
    "    degrees=dict(sub_g.degree()) # create the separate subset regarding the node type\n",
    "    comics_subset = {k: v for k, v in degrees.items() if k in comics}\n",
    "    heroes_subset = {k: v for k, v in degrees.items() if k not in comics} \n",
    "\n",
    "    output['Total number of nodes']=total_number\n",
    "\n",
    "    output['Number of heroes']=len(list(heroes_subset.items()))\n",
    "\n",
    "    output['Number of comics']=len(list(comics_subset.items()))\n",
    "\n",
    "    # The number of heroes that have appeared in each comic (i.e the degrees)\n",
    "    degrees_subset = {k: v for k, v in degrees.items() if k in comics} # exctract the degrees\n",
    "    output['Number of heroes in the comic']=list(degrees_subset.items())\n",
    "\n",
    "    # The network's degree distribution\n",
    "    degrees_list=list(degrees_subset.values())\n",
    "    degree_distribution = Counter(degrees_list) # Given the degrees list we obatin the frequency distribution\n",
    "    sorted_degree_distribution = sorted(degree_distribution.items(), key=lambda x: x[0]) # we sort the frequency by the keys\n",
    "    output['Degree Distribution']=sorted_degree_distribution # The output means how many times each degree appears\n",
    "\n",
    "    # The average degree of the network\n",
    "    avg_degree=sum(degrees_subset.values())/len(degrees_subset.values()) # compute the average\n",
    "    output['Average Degree']=avg_degree\n",
    "\n",
    "    # The network's Hubs\n",
    "    sorted_dict = sorted(degrees_subset.items(), key=lambda x: x[1]) # sort the degrees\n",
    "    pos=int(len(sorted_dict)*0.95) # find the rigth position (We want the nodes that have degree greater than 95% of the other)\n",
    "    output['Network Hubs']=sorted_dict[pos-1::] # create the output\n",
    "\n",
    "    return output\n",
    "\n"
   ]
  },
  {
   "cell_type": "code",
   "execution_count": 26,
   "id": "a4GsM3KJZOj6",
   "metadata": {
    "id": "a4GsM3KJZOj6"
   },
   "outputs": [],
   "source": [
    "def functionality1(G, G_type, N = all_heroes):\n",
    "    #################### Neither 1 or 2 ########################################\n",
    "\n",
    "    if G_type not in [1, 2]: \n",
    "        raise ValueError('Invalid graph type: remember, this function only accepts graph types equal to 1 or 2')\n",
    "\n",
    "    #################### TYPE = 1 ##############################################\n",
    "    elif G_type == 1:\n",
    "        # Create the Sub \n",
    "        sub_g= create_subN1(G,N)\n",
    "        # Apply all the functions for Type = 1\n",
    "        output= functional1_type1(sub_g, G_type)\n",
    "\n",
    "\n",
    "    #################### TYPE = 2 ##############################################\n",
    "\n",
    "    else: \n",
    "        # Create the Sub  \n",
    "        sub_g= create_subN2(G,N)\n",
    "        # Apply all the functions for Type = 2\n",
    "        output= functional1_type2(sub_g, G_type)\n",
    "\n",
    "\n",
    "    return output"
   ]
  },
  {
   "cell_type": "markdown",
   "id": "hIHbGUO2NRvz",
   "metadata": {
    "id": "hIHbGUO2NRvz"
   },
   "source": [
    "## Visualization 1 - Visualize some features of the network"
   ]
  },
  {
   "cell_type": "code",
   "execution_count": 27,
   "id": "IGGeCByMxBIo",
   "metadata": {
    "id": "IGGeCByMxBIo"
   },
   "outputs": [],
   "source": [
    "def visualization1(G, G_type, N):\n",
    "  example1=functionality1(G, G_type, N) # call the function\n",
    "\n",
    "  ############### A table containing the following general information about the graph: ##############\n",
    "  # we append all the information in the 'values' list\n",
    "  values=[]\n",
    "  if G_type == 1: # since the names are different in the output of functionality 1 we differenciate the precedure\n",
    "    values.append(example1['Number of nodes'])\n",
    "  else:\n",
    "    values.append(example1['Total number of nodes'])\n",
    "\n",
    "  values.append(example1['Density'])\n",
    "  values.append(example1['Average Degree'])\n",
    "  values.append(example1['Dense'])\n",
    "  # Then, we create the table\n",
    "  table = tabulate([values], headers=[\"Number of nodes\", \"Density\", \"Average degree\", \"Dense\"], tablefmt=\"fancy_grid\")\n",
    "  print('General information about the graph:')\n",
    "  print(table)\n",
    "\n",
    "\n",
    "  ############ A table that lists the network's hubs #######################\n",
    "  example1['Network Hubs'].sort(key=lambda x: x[1], reverse=True) # We take the hubs from the results of function 1\n",
    "  table_hub = tabulate(example1['Network Hubs'], headers=[\"Node\", \"Degree\"], tablefmt=\"fancy_grid\") # we put them into a table\n",
    "  print(\"Network's hubs:\")\n",
    "  print(table_hub)\n",
    "  print(' ')\n",
    "\n",
    "\n",
    "  ############## A plot depicting the number of collaborations of each hero in descending order (if the graph is type 1)  ###############\n",
    "  if G_type == 1:\n",
    "    example1['Collaborations'].sort(key=lambda x: x[1], reverse=True) # sort the collaborations in descending order\n",
    "    ex=dict(example1['Collaborations']) # create a dictionary\n",
    "    names = list(ex.keys()) # extract the keys\n",
    "    values = list(ex.values()) # extract the names\n",
    "\n",
    "    # plot the histogram\n",
    "    plt.figure(figsize=(10, 5))\n",
    "    plt.bar(names, values, color='cadetblue', edgecolor='k', linewidth=2)\n",
    "    plt.title('Histogram of the number of collaborations of each hero')\n",
    "    plt.xlabel('Hero')\n",
    "    plt.ylabel('Collaborations')\n",
    "    plt.xticks(rotation=90)\n",
    "    plt.show()\n",
    "    print('')\n",
    "\n",
    "\n",
    "  ############## A plot depicting the number of heroes who appeared in each comic, sorted in descending order (if the graph is type 2)  ###############\n",
    "  if G_type == 2:\n",
    "    example1['Number of heroes in the comic'].sort(key=lambda x: x[1], reverse=True) # sort the Number of heroes in the comic in descending order\n",
    "    ex=dict(example1['Number of heroes in the comic']) # create a dictionary\n",
    "    names = list(ex.keys()) # extract the keys\n",
    "    values = list(ex.values()) # extract the names\n",
    "\n",
    "    # plot the histogram \n",
    "    plt.figure(figsize=(10, 5))\n",
    "    plt.bar(names, values, color='cadetblue', edgecolor='k', linewidth=2)\n",
    "    plt.title('Histogram of the number of collaborations of each hero')\n",
    "    plt.xlabel('Hero')\n",
    "    plt.ylabel('Collaborations')\n",
    "    plt.xticks(rotation=90)\n",
    "    plt.show()\n",
    "    print('')    \n",
    "\n",
    "\n",
    "  ########## A plot depicting the degree distribution of the network ##################\n",
    "\n",
    "  adict=dict(example1['Degree Distribution']) # create a dictionary from the results of the degree distribution feature in function 1\n",
    "  val=list(adict.values()) # extract the keys\n",
    "  keys=list(adict.keys()) # extract the names\n",
    "\n",
    "  plt.bar(range(len(val)), val, color='tomato',  edgecolor='k', linewidth=2)\n",
    "  plt.title('Histogram of the degree distribution')\n",
    "  plt.xlabel('Degree')\n",
    "  plt.ylabel('Frequency')\n",
    "  plt.xticks(range(len(keys)),keys)\n",
    "  plt.show()"
   ]
  },
  {
   "cell_type": "markdown",
   "id": "3774a220",
   "metadata": {
    "id": "3774a220"
   },
   "source": [
    "## Functionality 2 - Find top superheroes!\n"
   ]
  },
  {
   "cell_type": "code",
   "execution_count": 28,
   "id": "b989647d",
   "metadata": {
    "id": "b989647d"
   },
   "outputs": [],
   "source": [
    "def functionality2(G, node, metric, N):\n",
    "     # finding the topN\n",
    "     topN = edges.groupby('hero').count().sort_values(by = 'comic', ascending = False).head(N)\n",
    "     topN = topN.reset_index()\n",
    "\n",
    "     if G == G_hero_net:\n",
    "          # creating the subgraph\n",
    "          subG = G.subgraph(list(topN['hero']))\n",
    "\n",
    "          # computing the metrics on the whole subgraph\n",
    "          if metric == 'Betweenness Centrality':\n",
    "               all_values = nx.betweenness_centrality(subG, weight = 'weight')\n",
    "\n",
    "          elif metric == 'PageRank':\n",
    "               all_values = nx.pagerank(subG, weight = 'weight')\n",
    "\n",
    "          elif metric == 'Closeness Centrality':\n",
    "               all_values = nx.closeness_centrality(subG, distance = 'weight')\n",
    "\n",
    "          elif metric == 'Degree Centrality':\n",
    "               all_values = nx.degree_centrality(subG)\n",
    "\n",
    "          # computing the metrics only on the node of interest \n",
    "          if node in subG.nodes:\n",
    "               nvalue = all_values[node]\n",
    "          else:\n",
    "               nvalue = 'ERROR: node not in the subgraph'\n",
    "\n",
    "          return all_values, nvalue\n",
    "\n",
    "     if G == G_comic_net:\n",
    "          # creating the subgraph taking from the graph G_comic_net all the edges linked to heroes in top N\n",
    "          reduced_edges = []\n",
    "          for n in topN['hero']:\n",
    "               for elem in G.edges(n):\n",
    "                    reduced_edges.append(elem)\n",
    "          subG = nx.Graph()\n",
    "          subG.add_edges_from(set(reduced_edges))\n",
    "          \n",
    "          # computing the metrics on the whole subgraph\n",
    "          if metric == 'Betweenness Centrality':\n",
    "               all_values = nx.betweenness_centrality(subG)\n",
    "\n",
    "          elif metric == 'PageRank':\n",
    "               all_values = nx.pagerank(subG)\n",
    "\n",
    "          elif metric == 'Closeness Centrality':\n",
    "               all_values = nx.closeness_centrality(subG)\n",
    "\n",
    "          elif metric == 'Degree Centrality':\n",
    "               all_values = nx.degree_centrality(subG)\n",
    "\n",
    "          # computing the metrics only on the node of interest \n",
    "          if node in subG.nodes:\n",
    "               nvalue = all_values[node]\n",
    "          else:\n",
    "               nvalue = 'ERROR: node not in the subgraph'\n",
    "\n",
    "          return all_values, nvalue\n",
    "\n",
    "     "
   ]
  },
  {
   "cell_type": "markdown",
   "id": "d80de31e",
   "metadata": {
    "id": "d80de31e"
   },
   "source": [
    "## Visualization 2 - Visualize centrality measure"
   ]
  },
  {
   "cell_type": "code",
   "execution_count": 29,
   "id": "6945ed54",
   "metadata": {
    "id": "6945ed54"
   },
   "outputs": [],
   "source": [
    "def visualization2(G, node, N):\n",
    "    \n",
    "    # building a table to show different scores\n",
    "    col_names = [\"Betweenness Centrality\", \"PageRank\", \"Closeness Centrality\", \"Degree centrality\"]\n",
    "\n",
    "    all_values, n_value = functionality2(G, node, 'Betweenness Centrality', N)\n",
    "    data = [[\"Average value\", np.mean(list(all_values.values()))], [\"Node value\", n_value]]\n",
    "\n",
    "    all_values, n_value = functionality2(G, node, 'PageRank', N)\n",
    "    data[0].append(np.mean(list(all_values.values())))\n",
    "    data[1].append(n_value)\n",
    "\n",
    "    all_values, n_value = functionality2(G, node, 'Closeness Centrality', N)\n",
    "    data[0].append(np.mean(list(all_values.values())))\n",
    "    data[1].append(n_value)\n",
    "\n",
    "    all_values, n_value = functionality2(G, node, 'Degree Centrality', N)\n",
    "    data[0].append(np.mean(list(all_values.values())))\n",
    "    data[1].append(n_value)\n",
    "\n",
    "    print(tabulate(data, headers=col_names, tablefmt=\"fancy_grid\"))"
   ]
  },
  {
   "cell_type": "markdown",
   "id": "1fecfe18-846f-4e81-8baf-622ea4821120",
   "metadata": {},
   "source": [
    "## Functionality 3"
   ]
  },
  {
   "cell_type": "code",
   "execution_count": 30,
   "id": "1c32cfa4-4ba0-4912-91ad-170055d01d3d",
   "metadata": {},
   "outputs": [],
   "source": [
    "def functionality3(G, h, h1, hn, N):\n",
    "\n",
    "    #first create subgraph\n",
    "\n",
    "    topN = edges.groupby('hero').count().sort_values(by = 'comic', ascending = False).head(N)\n",
    "    topN = topN.reset_index()\n",
    "\n",
    "    reduced_edges = []\n",
    "    for n in topN['hero']:\n",
    "        for elem in G.edges(n):\n",
    "            reduced_edges.append(elem)\n",
    "    subG = nx.Graph()\n",
    "    subG.add_edges_from(set(reduced_edges))\n",
    "    \n",
    "    nx.set_node_attributes(subG, dict_heroes_comics, 'type')\n",
    "    \n",
    "    #then compute all possible paths from initial node to final node\n",
    "\n",
    "    all_paths = list(nx.all_simple_paths(subG, source = h1, target = hn))    #this is a list of lists, each one of them is a possible path prom h1 to hn, with all the nodes that need to be crossed.\n",
    "\n",
    "    #then check which ones of the possible paths cross the requested nodes in the correct order; first exclude those who don't include the required nodes\n",
    "\n",
    "    good_paths = []\n",
    "    a = set(h)\n",
    "    for path in all_paths: \n",
    "        b = set(path)\n",
    "        check = a.issubset(b)\n",
    "        if check:\n",
    "            good_paths.append(path)\n",
    "\n",
    "\n",
    "    if len(good_paths) == 0:\n",
    "        print('There is no such path.')\n",
    "    \n",
    "    #then on those paths, check if the order is correct\n",
    "\n",
    "    better_paths = []\n",
    "\n",
    "    for path in good_paths:\n",
    "\n",
    "        unvisited_heroes = h.copy()\n",
    "        for elem in path:\n",
    "            if elem == unvisited_heroes[0]:\n",
    "                unvisited_heroes.pop(0)\n",
    "                if len(unvisited_heroes) == 0:\n",
    "                    better_paths.append(path)\n",
    "                    break\n",
    "\n",
    "    #finally select the shortest among these paths and return it \n",
    "\n",
    "\n",
    "    best_path = min(better_paths, key= len)         #If there are more paths with minimum length, this function returns only the first path encountered. \n",
    "\n",
    "    return best_path\n"
   ]
  },
  {
   "cell_type": "markdown",
   "id": "cf02fdb0-1a6a-446e-87c6-a78f27a087fb",
   "metadata": {},
   "source": [
    "## Visualization 3"
   ]
  },
  {
   "cell_type": "code",
   "execution_count": 31,
   "id": "9cff6fd5",
   "metadata": {},
   "outputs": [],
   "source": [
    "def visualization3(G, h, h1, hn, N):\n",
    "\n",
    "    best = functionality3(G, h, h1, hn, N)   #apply corresponding functionality to find the shortest ordered route and assign it to 'best'\n",
    "\n",
    "    G = nx.Graph(name = 'route')  #create an empty graph\n",
    "    \n",
    "    route = best.copy()    #copy best into route\n",
    "    route_edges = [(route[n], route[n+1]) for n in range(len(route)-1)]    #compute edges\n",
    "    G.add_nodes_from(route)    #add nodes to the new graph\n",
    "    G.add_edges_from(route_edges)  #add edges to the new graph\n",
    "    \n",
    "    #now plot the graph\n",
    "    pos = nx.spring_layout(G)\n",
    "    nx.draw_networkx_nodes(G, pos=pos)\n",
    "    nx.draw_networkx_labels(G,pos=pos)\n",
    "\n",
    "    edge_num = {edge: i+1 for i,edge in enumerate(route_edges)}\n",
    "    nx.draw_networkx_edges(G, pos=pos, edgelist=route_edges, edge_color='red')\n",
    "    nx.draw_networkx_edge_labels(G, pos, edge_labels = edge_num, font_color = 'black')\n",
    "\n",
    "    plt.show()\n",
    " "
   ]
  },
  {
   "cell_type": "markdown",
   "id": "5c043e68",
   "metadata": {
    "id": "5c043e68"
   },
   "source": [
    "## Functionality 4 - Disconnecting Graphs"
   ]
  },
  {
   "cell_type": "markdown",
   "id": "05614045",
   "metadata": {
    "id": "05614045"
   },
   "source": [
    "For this functionality we took a cue from the Ford-Fulkerson algorithm \n"
   ]
  },
  {
   "cell_type": "code",
   "execution_count": 32,
   "id": "36f81f2a",
   "metadata": {
    "id": "36f81f2a"
   },
   "outputs": [],
   "source": [
    "def DepthFirstSearch(G, node, visited):\n",
    "    '''Depth First Search function'''\n",
    "    visited[node] = 1\n",
    "    for neighbor in G.neighbors(node):\n",
    "        if visited[neighbor] == 0:\n",
    "            DepthFirstSearch(G, neighbor, visited)\n",
    "    return \n",
    "\n",
    "\n",
    "\n",
    "def functionality4(G, heroA, heroB, N):\n",
    "    # finding top N heroes\n",
    "    topN = edges.groupby('hero').count().sort_values(by = 'comic', ascending = False).head(10)\n",
    "    topN = topN.reset_index()\n",
    "    \n",
    "    # creating the subgraph\n",
    "    if G == G_hero_net:\n",
    "        subG = G.subgraph(list(topN['hero']))\n",
    "    elif G == G_comic_net:\n",
    "        # in this case we create the subgraph taking from the graph G_comic_net all the edges linked to heroes in topN\n",
    "        reduced_edges = []\n",
    "        for n in topN['hero']:\n",
    "            for elem in G.edges(n):\n",
    "                reduced_edges.append(elem)\n",
    "        subG = nx.Graph()\n",
    "        subG.add_edges_from(set(reduced_edges))\n",
    "\n",
    "    # dictionary to mark if a node has been visited during the depth first search\n",
    "    visited = {node: 0 for node in subG.nodes}\n",
    "    \n",
    "    # depth first serach starting from the node heroA\n",
    "    DepthFirstSearch(subG, heroA, visited)\n",
    "\n",
    "    # initialing a counter for the minimum number of cuts\n",
    "    counter = 0\n",
    "    # here will be saved if I already counted that edge as one to cut\n",
    "    marked = []\n",
    "\n",
    "    # if heroA e heroB are directly linked, it marks the edge between them as one to cut and it increases the counter\n",
    "    if heroB in subG.neighbors(heroA):\n",
    "        marked.append((heroA, heroB))\n",
    "        counter += 1\n",
    "\n",
    "    # loop over all the nodes of the subgraph \n",
    "    for node in subG.nodes:\n",
    "        if node == heroB:\n",
    "            continue \n",
    "\n",
    "        #if the node has not been visited it means that it's not linked to heroA and it can be skipped\n",
    "        if visited[node] == 0:\n",
    "            continue\n",
    "        \n",
    "        # in any other case I loop over the neighbors of the node\n",
    "        for n in subG.neighbors(node):\n",
    "            # if a neighbor of the node is also a neighbor of heroB\n",
    "            if n in subG.neighbors(heroB) and n!=heroB:\n",
    "                # if we didn't pass through that edge yet\n",
    "                if ((n, heroB) not in marked):\n",
    "                    # mark the edge as one to cut and increase the counter\n",
    "                    marked.append((n, heroB))\n",
    "                    counter += 1\n",
    "    \n",
    "    return counter, marked, subG"
   ]
  },
  {
   "cell_type": "markdown",
   "id": "c36c0265",
   "metadata": {
    "id": "c36c0265"
   },
   "source": [
    "## Visualization 4 - Visualize the disconnected graph"
   ]
  },
  {
   "cell_type": "code",
   "execution_count": 33,
   "id": "93a9f55d",
   "metadata": {},
   "outputs": [],
   "source": [
    "def visualization4(G, heroA, heroB, N):\n",
    "    min_num, min_edges, subG = functionality4(G, heroA, heroB, N)\n",
    "\n",
    "    print('The minimum number of links that should be disconnected is', min_num)\n",
    "    \n",
    "    # plotting the orginal graph\n",
    "    plt.clf()\n",
    "    plt.figure(figsize=(15, 10))\n",
    "    nx.draw(subG, edge_color = 'grey', node_color = 'green', with_labels = True)\n",
    "    plt.title('Original graph')\n",
    "    plt.show()\n",
    "\n",
    "    # plotting the graph after removing the links and identifying the two nodes\n",
    "    reduced_subG = nx.Graph(subG)\n",
    "    reduced_subG.remove_edges_from(list(min_edges))\n",
    "    plt.clf()\n",
    "    plt.figure(figsize=(15, 10))\n",
    "    color_map = ['purple' if (node == heroA or node == heroB) else 'green' for node in subG]        \n",
    "    nx.draw(reduced_subG, node_color = color_map, edge_color = 'grey', with_labels = True)\n",
    "    plt.title('Subgraphs G_A and G_B')\n",
    "    plt.show()"
   ]
  },
  {
   "cell_type": "markdown",
   "id": "12ARWM9D_QNr",
   "metadata": {
    "id": "12ARWM9D_QNr"
   },
   "source": [
    "##  Functionality 5 - Extracting Communities"
   ]
  },
  {
   "cell_type": "code",
   "execution_count": 34,
   "id": "_H4WYGBy_SX5",
   "metadata": {
    "id": "_H4WYGBy_SX5"
   },
   "outputs": [],
   "source": [
    "def functionality5(G, N, hero1, hero2):\n",
    "    # since we can use only the type 1 graph, we used the function 'create_subN1' defined before in functionality 1\n",
    "    sub_graph= create_subN1(G,N)\n",
    "    output={} # initialize the dict of outputs\n",
    "\n",
    "    # we use min_num for saving the minimum number of cuts\n",
    "    min_num = 0\n",
    "    \n",
    "    subG = nx.Graph(sub_graph)\n",
    "\n",
    "    # while our graph is connected\n",
    "    while nx.is_connected(subG):\n",
    "\n",
    "        # we compute the edge betweenness centrality that returns a dictionary\n",
    "        ebg = nx.edge_betweenness_centrality(subG)\n",
    "        \n",
    "        # we sort the dictioanry ebg to spot the maximum of the values \n",
    "        ebg = sorted(ebg.items(), key = lambda item: item[1], reverse = True)\n",
    "\n",
    "        # update min_num\n",
    "        min_num += 1\n",
    "\n",
    "        edge = ebg[0][0]\n",
    "        \n",
    "        # we remove the edges with the higher value\n",
    "        subG.remove_edge(edge[0],edge[1])\n",
    "    \n",
    "    communities = [] # initialize the list of communities\n",
    "    together = False # we start with False as initialization value\n",
    "    \n",
    "    for community in nx.connected_components(subG):\n",
    "        # we append to communities the list\n",
    "        communities.append(list(community))\n",
    "        # only if hero1 and hero2 are in the same community we set together = True\n",
    "        if (hero1 in community) and (hero2 in community):\n",
    "            together = True\n",
    "    \n",
    "    # we store all the requested values in our dictionary\n",
    "    output['Minimum number of edges']= min_num\n",
    "    output['hero1 and hero2 together']= together\n",
    "    output['list of communities']= communities\n",
    "    \n",
    "    return output, sub_graph, subG"
   ]
  },
  {
   "cell_type": "markdown",
   "id": "yUQz9C9zT-fK",
   "metadata": {
    "id": "yUQz9C9zT-fK"
   },
   "source": [
    "## Visualization 5 - Visualize the communities"
   ]
  },
  {
   "cell_type": "code",
   "execution_count": 35,
   "id": "2mgkmXlu4ORg",
   "metadata": {
    "id": "2mgkmXlu4ORg"
   },
   "outputs": [],
   "source": [
    "def searchCommunity(d,value):\n",
    "      # given a dictionary ( in the form of a list of lists) and a value that function will output the key  \n",
    "      for key, values in d.items():\n",
    "            for v in values:\n",
    "                  if v == value:\n",
    "                        community_found = key\n",
    "                        break\n",
    "      return community_found\n",
    "            "
   ]
  },
  {
   "cell_type": "code",
   "execution_count": 36,
   "id": "5GQNon0FBQQD",
   "metadata": {
    "id": "5GQNon0FBQQD"
   },
   "outputs": [],
   "source": [
    "def visualization5(G, N, hero1, hero2):\n",
    "  \n",
    "  # First, we call the function\n",
    "  results, sub_graph, subG =functionality5(G, N, hero1, hero2)\n",
    "\n",
    "\n",
    "  ################ Print the number of links that should be removed to have the communities ##############################\n",
    "\n",
    "  # we use only the first results of our function\n",
    "  print(f\"The minimum number of edges that should be removed to form communities is\", results['Minimum number of edges'])\n",
    "  print('\\n')\n",
    "\n",
    "  #################### A table depicting the communities and the heroes that belong to each community ####################\n",
    "\n",
    "  communities=len(results['list of communities']) # get the number of communities\n",
    "  print(f\"There are\", communities,\"communities in the network:\")\n",
    "  \n",
    "  # we want a list of lists in which there are the identifiers of community and the nodes that belong to it:\n",
    "\n",
    "  elements=[] # initialize the list\n",
    "  for i in range(0,communities):\n",
    "    string_ = str('Community ')+str(i) # create the string with the name of the community\n",
    "    print(string)\n",
    "    print(results['list of communities'][i])\n",
    "    print('\\n')\n",
    "    # extract the community from the results of our function5\n",
    "    elements.append([string_, results['list of communities'][i]]) # create the list of lists\n",
    "\n",
    "\n",
    "\n",
    "  #################### Plot the original graph ####################\n",
    "\n",
    "\n",
    "  print('The Original graph:')\n",
    "  print(' ')\n",
    "\n",
    "  plt.figure(figsize=(15, 10))\n",
    "  plt.clf()\n",
    "  plt.title('Original graph')\n",
    "  pos= nx.spring_layout(sub_graph) # we use the spring_layout to better represent our graph\n",
    "  nx.draw(sub_graph,pos, edge_color = 'moccasin', node_color = 'royalblue', with_labels = True, font_size=7)\n",
    "\n",
    "  plt.show()\n",
    "  print(' ')\n",
    "\n",
    "  #################### Plot the graph showing the communities in the network ####################\n",
    "  node_color = {node: '' for node in subG.nodes}\n",
    "  colors = set()\n",
    "  for community in results['list of communities']:\n",
    "    color = \"#\"+''.join([random.choice('0123456789ABCDEF') for i in range(6)])\n",
    "    if color in colors:\n",
    "      color = \"#\"+''.join([random.choice('0123456789ABCDEF') for i in range(6)])\n",
    "    colors.add(color)\n",
    "    for elem in community:\n",
    "      node_color[elem] = color\n",
    "  \n",
    "  plt.clf()\n",
    "  plt.figure(figsize=(15, 10))\n",
    "  nx.draw(subG, node_color = node_color.values(), edge_color = 'grey', with_labels = True)\n",
    "  plt.title('Graph showing the communities in the network')\n",
    "  plt.show()\n",
    "\n",
    "  #################### Plot the final graph and identify the community/communities of Hero_1 and Hero_2 ####################\n",
    "  print('The Final graph:')\n",
    "  print(' ')\n",
    "  plt.figure(figsize=(15, 10))\n",
    "  plt.clf()\n",
    "  plt.title('Final graph')\n",
    "  color_map = ['tomato' if (node == hero1 or node == hero2) else 'green' for node in subG]\n",
    "  pos= nx.spring_layout(subG) # we use the spring_layout to better represent our graph\n",
    "  nx.draw(subG,pos, edge_color = 'moccasin', node_color = color_map , with_labels = True, font_size=7)\n",
    "\n",
    "  plt.show()\n",
    "  print(' ')\n",
    "\n",
    "  e=dict(elements) # create a dict form the previous list of lists 'elements'\n",
    "\n",
    "  if results['hero1 and hero2 together'] == True:\n",
    "\n",
    "    #search the community\n",
    "    community_found = searchCommunity(e,hero1)\n",
    "\n",
    "    print(f\"The heroes\", hero1, \" and \", hero2,\"are in the same community: \", community_found)\n",
    "\n",
    "  else:\n",
    "    # find the communities for both \n",
    "    community_found1 = searchCommunity(e,hero1)\n",
    "    community_found2 = searchCommunity(e,hero2)\n",
    "\n",
    "    print(f\"The heroes\", hero1, \" and \", hero2,\"are not in the same community: \")\n",
    "    print( hero1,\" is in \",community_found1 ,\" and \", hero2,\" is in \",community_found2)\n",
    "\n",
    "\n"
   ]
  },
  {
   "attachments": {},
   "cell_type": "markdown",
   "id": "f4e9fdd2",
   "metadata": {},
   "source": [
    "# Implementing controller system"
   ]
  },
  {
   "attachments": {},
   "cell_type": "markdown",
   "id": "c52c45f7",
   "metadata": {},
   "source": [
    "Now we are goint to build the controller system using all the previous functions. The user is asked to choose the visualization and to insert the parameters of the funcionalities."
   ]
  },
  {
   "cell_type": "code",
   "execution_count": 37,
   "id": "ae97a538",
   "metadata": {},
   "outputs": [],
   "source": [
    "def controller ():\n",
    "\n",
    "    print('Choose a visualization:')\n",
    "    print('1. Visualize some features of the network \\n 2. Visualize centrality measure \\n 3. Visualize the shortest ordered route \\n 4. Visualize disconnected graph \\n 5. Visualize the communities')\n",
    "    choice = int(input())\n",
    "    print(choice)\n",
    "  \n",
    "    if choice == 1:\n",
    "        print('Choose a graph: \\n 1. First graph (G_hero_net) \\n 2. Second graph (G_comic_net)')\n",
    "        G_type = int(input())\n",
    "        print(G_type)\n",
    "        \n",
    "\n",
    "        if G_type == 1:\n",
    "            G = G_hero_net\n",
    "        elif G_type == 2:\n",
    "            G = G_comic_net\n",
    "        \n",
    "        print('Choose the number N of top heroes to consider. Write ALL if you want to pick all of them.')\n",
    "        N = input()\n",
    "        print(N)\n",
    "        \n",
    "        if N == 'ALL':\n",
    "            N = len(G.nodes)\n",
    "        else:\n",
    "            N = int(N)\n",
    "        \n",
    "        print('----------------------------------------------------------------------------------------------------- \\n')\n",
    "        visualization1(G, G_type, N)\n",
    "            \n",
    "    if choice == 2:\n",
    "        print('Choose a graph: \\n 1. First graph (G_hero_net) \\n 2. Second graph (G_comic_net)')\n",
    "        G_type = int(input())\n",
    "        print(G_type)\n",
    "        \n",
    "\n",
    "        if G_type == 1:\n",
    "            G = G_hero_net\n",
    "\n",
    "        elif G_type == 2:\n",
    "            G = G_comic_net\n",
    "            \n",
    "        print('Choose the number N of top heroes to consider. Write ALL if you want to pick all of them. ')\n",
    "        N = input()\n",
    "        print(N)\n",
    "      \n",
    "        if N == 'ALL':\n",
    "            N = len(G.nodes)\n",
    "        else:\n",
    "            N = int(N)\n",
    "\n",
    "        print('Choose a node (a hero): ')\n",
    "        node = input()\n",
    "        print(node)\n",
    "\n",
    "        print('----------------------------------------------------------------------------------------------------- \\n')\n",
    "        visualization2(G, node, N)\n",
    "\n",
    "    if choice == 3:\n",
    "        G = G_comic_net\n",
    "        print('Choose the number N of top heroes to consider: ')\n",
    "        N = int(input())\n",
    "        print(N)\n",
    "        \n",
    "        print('Choose a sequence of superheroes, divided by commas:')\n",
    "        h = input().split(', ')\n",
    "        print(h)\n",
    "        \n",
    "        print('Insert the starting node: \\n')\n",
    "        h1 = input()\n",
    "        print(h1)\n",
    "        \n",
    "        print('Insert the ending node: \\n')\n",
    "        hn = input()\n",
    "        print(hn)\n",
    "        \n",
    "\n",
    "        print('----------------------------------------------------------------------------------------------------- \\n')\n",
    "        visualization3(G, h, h1, hn, N)\n",
    "\n",
    "    if choice == 4:\n",
    "        print('Choose a graph: \\n 1. First graph (G_hero_net) \\n 2. Second graph (G_comic_net)')\n",
    "        G_type = int(input())\n",
    "        print(G_type)\n",
    "        \n",
    "\n",
    "        if G_type == 1:\n",
    "            G = G_hero_net\n",
    "        elif G_type == 2:\n",
    "            G = G_comic_net\n",
    "            \n",
    "        print('Choose the number N of top heroes to consider. Write ALL if you want to pick all of them.')\n",
    "        N = input()\n",
    "        print(N)\n",
    "        \n",
    "        if N == 'ALL':\n",
    "            N = len(G.nodes)\n",
    "        else:\n",
    "            N = int(N)\n",
    "        \n",
    "        print('Choose heroA: ')\n",
    "        heroA = input()\n",
    "        print(heroA)\n",
    "        \n",
    "        print('Choose heroB: ')\n",
    "        heroB = input()\n",
    "        print(heroB)\n",
    "        \n",
    "        \n",
    "        print('----------------------------------------------------------------------------------------------------- \\n')\n",
    "        visualization4(G, heroA, heroB, N)\n",
    "\n",
    "    if choice == 5:\n",
    "        G = G_hero_net\n",
    "        print('Choose the number N of top heroes to consider. Write ALL if you want to pick all of them.')\n",
    "        N = input()\n",
    "        print(N)\n",
    "        \n",
    "        if N == 'ALL':\n",
    "            N = len(G.nodes)\n",
    "        else:\n",
    "            N = int(N)\n",
    "        \n",
    "        print('Choose hero1: ')\n",
    "        hero1 = input()\n",
    "        print(hero1)\n",
    "\n",
    "        print('Choose hero2: ')\n",
    "        hero2 = input()\n",
    "        print(hero2)\n",
    "        \n",
    "        print('----------------------------------------------------------------------------------------------------- \\n')\n",
    "        visualization5(G, N, hero1, hero2)\n",
    "        \n"
   ]
  },
  {
   "attachments": {},
   "cell_type": "markdown",
   "id": "4718fe52",
   "metadata": {},
   "source": [
    "Let's have some tests!"
   ]
  },
  {
   "attachments": {},
   "cell_type": "markdown",
   "id": "42ab8082",
   "metadata": {},
   "source": [
    "##### Tests on functionality1"
   ]
  },
  {
   "cell_type": "code",
   "execution_count": 38,
   "id": "b741f220",
   "metadata": {},
   "outputs": [
    {
     "name": "stdout",
     "output_type": "stream",
     "text": [
      "Choose a visualization:\n",
      "\n",
      " 1. Visualize some features of the network \n",
      " 2. Visualize centrality measure \n",
      " 3. Visualize the shortest ordered route \n",
      " 4. Visualize disconnected graph \n",
      " 5. Visualize the communities\n",
      "1\n",
      "\n",
      "\n",
      "Choose a graph: \n",
      " 1. First graph (G_hero_net) \n",
      " 2. Second graph (G_comic_net)\n",
      "1\n",
      "\n",
      "\n",
      "Choose the number N of top heroes to consider. Write ALL if you want to pick all of them.\n",
      "50\n",
      "\n",
      "\n",
      "----------------------------------------------------------------------------------------------------- \n",
      "\n",
      "General information about the graph:\n",
      "╒═══════════════════╤═══════════╤══════════════════╤═════════╕\n",
      "│   Number of nodes │   Density │   Average degree │   Dense │\n",
      "╞═══════════════════╪═══════════╪══════════════════╪═════════╡\n",
      "│                50 │  0.974694 │            47.76 │       1 │\n",
      "╘═══════════════════╧═══════════╧══════════════════╧═════════╛\n",
      "Network's hubs:\n",
      "╒══════════════════════╤══════════╕\n",
      "│ Node                 │   Degree │\n",
      "╞══════════════════════╪══════════╡\n",
      "│ HULK/DR. ROBERT BRUC │       49 │\n",
      "├──────────────────────┼──────────┤\n",
      "│ CYCLOPS/SCOTT SUMMER │       49 │\n",
      "├──────────────────────┼──────────┤\n",
      "│ DR. STRANGE/STEPHEN  │       49 │\n",
      "├──────────────────────┼──────────┤\n",
      "│ BEAST/HENRY &HANK& P │       49 │\n",
      "╘══════════════════════╧══════════╛\n",
      " \n"
     ]
    },
    {
     "data": {
      "image/png": "[encoded data removed]",
      "text/plain": [
       "<Figure size 1000x500 with 1 Axes>"
      ]
     },
     "metadata": {},
     "output_type": "display_data"
    },
    {
     "name": "stdout",
     "output_type": "stream",
     "text": [
      "\n"
     ]
    },
    {
     "data": {
      "image/png": "[encoded data removed]",
      "text/plain": [
       "<Figure size 640x480 with 1 Axes>"
      ]
     },
     "metadata": {},
     "output_type": "display_data"
    }
   ],
   "source": [
    "controller()"
   ]
  },
  {
   "attachments": {},
   "cell_type": "markdown",
   "id": "26efcc82",
   "metadata": {},
   "source": [
    "##### Tests on functionality2\n"
   ]
  },
  {
   "cell_type": "code",
   "execution_count": 43,
   "id": "0574d5dd",
   "metadata": {},
   "outputs": [
    {
     "name": "stdout",
     "output_type": "stream",
     "text": [
      "Choose a visualization:\n",
      "\n",
      " 1. Visualize some features of the network \n",
      " 2. Visualize centrality measure \n",
      " 3. Visualize the shortest ordered route \n",
      " 4. Visualize disconnected graph \n",
      " 5. Visualize the communities\n",
      "2\n",
      "\n",
      "\n",
      "Choose a graph: \n",
      " 1. First graph (G_hero_net) \n",
      " 2. Second graph (G_comic_net)\n",
      "1\n",
      "\n",
      "\n",
      "Choose the number N of top heroes to consider. Write ALL if you want to pick all of them. \n",
      "10\n",
      "\n",
      "\n",
      "Choose a node (a hero): \n",
      "CAPTAIN AMERICA\n",
      "\n",
      "\n",
      "----------------------------------------------------------------------------------------------------- \n",
      "\n",
      "╒═══════════════╤══════════════════════════╤════════════╤════════════════════════╤═════════════════════╕\n",
      "│               │   Betweenness Centrality │   PageRank │   Closeness Centrality │   Degree centrality │\n",
      "╞═══════════════╪══════════════════════════╪════════════╪════════════════════════╪═════════════════════╡\n",
      "│ Average value │                0.0361111 │  0.1       │                126.784 │                   1 │\n",
      "├───────────────┼──────────────────────────┼────────────┼────────────────────────┼─────────────────────┤\n",
      "│ Node value    │                0.194444  │  0.0724748 │                153.647 │                   1 │\n",
      "╘═══════════════╧══════════════════════════╧════════════╧════════════════════════╧═════════════════════╛\n"
     ]
    }
   ],
   "source": [
    "controller()"
   ]
  },
  {
   "cell_type": "code",
   "execution_count": 42,
   "id": "6cad5ede",
   "metadata": {},
   "outputs": [
    {
     "name": "stdout",
     "output_type": "stream",
     "text": [
      "Choose a visualization:\n",
      "\n",
      " 1. Visualize some features of the network \n",
      " 2. Visualize centrality measure \n",
      " 3. Visualize the shortest ordered route \n",
      " 4. Visualize disconnected graph \n",
      " 5. Visualize the communities\n",
      "2\n",
      "\n",
      "\n",
      "Choose a graph: \n",
      " 1. First graph (G_hero_net) \n",
      " 2. Second graph (G_comic_net)\n",
      "2\n",
      "\n",
      "\n",
      "Choose the number N of top heroes to consider. Write ALL if you want to pick all of them. \n",
      "10\n",
      "\n",
      "\n",
      "Choose a node (a hero): \n",
      "CAPTAIN AMERICA\n",
      "\n",
      "\n",
      "----------------------------------------------------------------------------------------------------- \n",
      "\n",
      "╒═══════════════╤══════════════════════════╤═════════════╤════════════════════════╤═════════════════════╕\n",
      "│               │   Betweenness Centrality │    PageRank │   Closeness Centrality │   Degree centrality │\n",
      "╞═══════════════╪══════════════════════════╪═════════════╪════════════════════════╪═════════════════════╡\n",
      "│ Average value │              0.000416292 │ 0.000165044 │               0.2856   │         0.000552289 │\n",
      "├───────────────┼──────────────────────────┼─────────────┼────────────────────────┼─────────────────────┤\n",
      "│ Node value    │              0.269249    │ 0.0639633   │               0.390914 │         0.220205    │\n",
      "╘═══════════════╧══════════════════════════╧═════════════╧════════════════════════╧═════════════════════╛\n"
     ]
    }
   ],
   "source": [
    "controller()"
   ]
  },
  {
   "attachments": {},
   "cell_type": "markdown",
   "id": "de9c0acc",
   "metadata": {},
   "source": [
    "##### Tests on functionality3"
   ]
  },
  {
   "cell_type": "code",
   "execution_count": null,
   "id": "1d52d0c7",
   "metadata": {},
   "outputs": [],
   "source": [
    "controller()"
   ]
  },
  {
   "attachments": {},
   "cell_type": "markdown",
   "id": "8dbcdeae",
   "metadata": {},
   "source": [
    "##### Tests on functionality4\n"
   ]
  },
  {
   "cell_type": "code",
   "execution_count": null,
   "id": "774dbc99",
   "metadata": {},
   "outputs": [],
   "source": [
    "controller()"
   ]
  },
  {
   "cell_type": "code",
   "execution_count": null,
   "id": "a2a71dd8",
   "metadata": {},
   "outputs": [],
   "source": [
    "controller()"
   ]
  },
  {
   "attachments": {},
   "cell_type": "markdown",
   "id": "92075f59",
   "metadata": {},
   "source": [
    "##### Tests on functionality5"
   ]
  },
  {
   "cell_type": "code",
   "execution_count": null,
   "id": "7f82a19e",
   "metadata": {},
   "outputs": [],
   "source": [
    "controller()"
   ]
  }
 ],
 "metadata": {
  "colab": {
   "collapsed_sections": [
    "3a059ac1",
    "1eeecef2",
    "3774a220",
    "d80de31e",
    "5c043e68",
    "c36c0265"
   ],
   "provenance": []
  },
  "kernelspec": {
   "display_name": "Python 3 (ipykernel)",
   "language": "python",
   "name": "python3"
  },
  "language_info": {
   "codemirror_mode": {
    "name": "ipython",
    "version": 3
   },
   "file_extension": ".py",
   "mimetype": "text/x-python",
   "name": "python",
   "nbconvert_exporter": "python",
   "pygments_lexer": "ipython3",
   "version": "3.10.6"
  },
  "vscode": {
   "interpreter": {
    "hash": "9a0cdf84f448366647335ab4dc44bab47d439701884f9aceeef12dc82824af0a"
   }
  }
 },
 "nbformat": 4,
 "nbformat_minor": 5
}
